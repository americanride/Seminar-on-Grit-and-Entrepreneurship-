{
 "cells": [
  {
   "cell_type": "code",
   "execution_count": 1,
   "metadata": {},
   "outputs": [],
   "source": [
    "#importing libraries"
   ]
  },
  {
   "cell_type": "code",
   "execution_count": 2,
   "metadata": {},
   "outputs": [],
   "source": [
    "import pandas as pd\n",
    "import matplotlib.pyplot as plt\n",
    "import numpy as np\n",
    "import seaborn as sns\n",
    "import matplotlib.pyplot as plt\n",
    "from scipy.stats import kurtosis \n",
    "from scipy.stats import skew\n",
    "from factor_analyzer import FactorAnalyzer"
   ]
  },
  {
   "cell_type": "code",
   "execution_count": 3,
   "metadata": {},
   "outputs": [],
   "source": [
    "#read csv file"
   ]
  },
  {
   "cell_type": "code",
   "execution_count": 4,
   "metadata": {},
   "outputs": [
    {
     "data": {
      "text/html": [
       "<div>\n",
       "<style scoped>\n",
       "    .dataframe tbody tr th:only-of-type {\n",
       "        vertical-align: middle;\n",
       "    }\n",
       "\n",
       "    .dataframe tbody tr th {\n",
       "        vertical-align: top;\n",
       "    }\n",
       "\n",
       "    .dataframe thead th {\n",
       "        text-align: right;\n",
       "    }\n",
       "</style>\n",
       "<table border=\"1\" class=\"dataframe\">\n",
       "  <thead>\n",
       "    <tr style=\"text-align: right;\">\n",
       "      <th></th>\n",
       "      <th>cid</th>\n",
       "      <th>hid</th>\n",
       "      <th>pid</th>\n",
       "      <th>syear</th>\n",
       "      <th>sex</th>\n",
       "      <th>gebjahr</th>\n",
       "      <th>plh0197</th>\n",
       "      <th>plh0198</th>\n",
       "      <th>plh0199</th>\n",
       "      <th>plh0200</th>\n",
       "      <th>...</th>\n",
       "      <th>ivd03_7</th>\n",
       "      <th>ivd03_8</th>\n",
       "      <th>ivd03_9</th>\n",
       "      <th>ivd03_10</th>\n",
       "      <th>ivd03_11</th>\n",
       "      <th>ptpe18_split2</th>\n",
       "      <th>ptpe18_10</th>\n",
       "      <th>ptpe18_11</th>\n",
       "      <th>im_bmas_onl</th>\n",
       "      <th>bmas_onl_f4</th>\n",
       "    </tr>\n",
       "  </thead>\n",
       "  <tbody>\n",
       "    <tr>\n",
       "      <th>0</th>\n",
       "      <td>200093</td>\n",
       "      <td>200093</td>\n",
       "      <td>2000901</td>\n",
       "      <td>1998</td>\n",
       "      <td>1</td>\n",
       "      <td>1954</td>\n",
       "      <td>-5</td>\n",
       "      <td>-5</td>\n",
       "      <td>-5</td>\n",
       "      <td>-5</td>\n",
       "      <td>...</td>\n",
       "      <td>-5</td>\n",
       "      <td>-5</td>\n",
       "      <td>-5</td>\n",
       "      <td>-5</td>\n",
       "      <td>-5</td>\n",
       "      <td>-5</td>\n",
       "      <td>-5</td>\n",
       "      <td>-5</td>\n",
       "      <td>-5</td>\n",
       "      <td>-5</td>\n",
       "    </tr>\n",
       "    <tr>\n",
       "      <th>1</th>\n",
       "      <td>200093</td>\n",
       "      <td>200093</td>\n",
       "      <td>2000901</td>\n",
       "      <td>1999</td>\n",
       "      <td>1</td>\n",
       "      <td>1954</td>\n",
       "      <td>-5</td>\n",
       "      <td>-5</td>\n",
       "      <td>-5</td>\n",
       "      <td>-5</td>\n",
       "      <td>...</td>\n",
       "      <td>-5</td>\n",
       "      <td>-5</td>\n",
       "      <td>-5</td>\n",
       "      <td>-5</td>\n",
       "      <td>-5</td>\n",
       "      <td>-5</td>\n",
       "      <td>-5</td>\n",
       "      <td>-5</td>\n",
       "      <td>-5</td>\n",
       "      <td>-5</td>\n",
       "    </tr>\n",
       "    <tr>\n",
       "      <th>2</th>\n",
       "      <td>200093</td>\n",
       "      <td>200093</td>\n",
       "      <td>2000901</td>\n",
       "      <td>2000</td>\n",
       "      <td>1</td>\n",
       "      <td>1954</td>\n",
       "      <td>-5</td>\n",
       "      <td>-5</td>\n",
       "      <td>-5</td>\n",
       "      <td>-5</td>\n",
       "      <td>...</td>\n",
       "      <td>-5</td>\n",
       "      <td>-5</td>\n",
       "      <td>-5</td>\n",
       "      <td>-5</td>\n",
       "      <td>-5</td>\n",
       "      <td>-5</td>\n",
       "      <td>-5</td>\n",
       "      <td>-5</td>\n",
       "      <td>-5</td>\n",
       "      <td>-5</td>\n",
       "    </tr>\n",
       "    <tr>\n",
       "      <th>3</th>\n",
       "      <td>200093</td>\n",
       "      <td>200093</td>\n",
       "      <td>2000901</td>\n",
       "      <td>2001</td>\n",
       "      <td>1</td>\n",
       "      <td>1954</td>\n",
       "      <td>-5</td>\n",
       "      <td>-5</td>\n",
       "      <td>-5</td>\n",
       "      <td>-5</td>\n",
       "      <td>...</td>\n",
       "      <td>-5</td>\n",
       "      <td>-5</td>\n",
       "      <td>-5</td>\n",
       "      <td>-5</td>\n",
       "      <td>-5</td>\n",
       "      <td>-5</td>\n",
       "      <td>-5</td>\n",
       "      <td>-5</td>\n",
       "      <td>-5</td>\n",
       "      <td>-5</td>\n",
       "    </tr>\n",
       "    <tr>\n",
       "      <th>4</th>\n",
       "      <td>200093</td>\n",
       "      <td>200093</td>\n",
       "      <td>2000901</td>\n",
       "      <td>2002</td>\n",
       "      <td>1</td>\n",
       "      <td>1954</td>\n",
       "      <td>-5</td>\n",
       "      <td>-5</td>\n",
       "      <td>-5</td>\n",
       "      <td>-5</td>\n",
       "      <td>...</td>\n",
       "      <td>-5</td>\n",
       "      <td>-5</td>\n",
       "      <td>-5</td>\n",
       "      <td>-5</td>\n",
       "      <td>-5</td>\n",
       "      <td>-5</td>\n",
       "      <td>-5</td>\n",
       "      <td>-5</td>\n",
       "      <td>-5</td>\n",
       "      <td>-5</td>\n",
       "    </tr>\n",
       "    <tr>\n",
       "      <th>...</th>\n",
       "      <td>...</td>\n",
       "      <td>...</td>\n",
       "      <td>...</td>\n",
       "      <td>...</td>\n",
       "      <td>...</td>\n",
       "      <td>...</td>\n",
       "      <td>...</td>\n",
       "      <td>...</td>\n",
       "      <td>...</td>\n",
       "      <td>...</td>\n",
       "      <td>...</td>\n",
       "      <td>...</td>\n",
       "      <td>...</td>\n",
       "      <td>...</td>\n",
       "      <td>...</td>\n",
       "      <td>...</td>\n",
       "      <td>...</td>\n",
       "      <td>...</td>\n",
       "      <td>...</td>\n",
       "      <td>...</td>\n",
       "      <td>...</td>\n",
       "    </tr>\n",
       "    <tr>\n",
       "      <th>31055</th>\n",
       "      <td>4905895</td>\n",
       "      <td>4905895</td>\n",
       "      <td>49058901</td>\n",
       "      <td>2018</td>\n",
       "      <td>2</td>\n",
       "      <td>1967</td>\n",
       "      <td>-5</td>\n",
       "      <td>-5</td>\n",
       "      <td>-5</td>\n",
       "      <td>-5</td>\n",
       "      <td>...</td>\n",
       "      <td>-5</td>\n",
       "      <td>-5</td>\n",
       "      <td>-5</td>\n",
       "      <td>-5</td>\n",
       "      <td>-5</td>\n",
       "      <td>-5</td>\n",
       "      <td>-5</td>\n",
       "      <td>-5</td>\n",
       "      <td>-5</td>\n",
       "      <td>-5</td>\n",
       "    </tr>\n",
       "    <tr>\n",
       "      <th>31056</th>\n",
       "      <td>4905895</td>\n",
       "      <td>4905895</td>\n",
       "      <td>49058901</td>\n",
       "      <td>2019</td>\n",
       "      <td>2</td>\n",
       "      <td>1967</td>\n",
       "      <td>-5</td>\n",
       "      <td>-5</td>\n",
       "      <td>-5</td>\n",
       "      <td>-5</td>\n",
       "      <td>...</td>\n",
       "      <td>-5</td>\n",
       "      <td>-5</td>\n",
       "      <td>-5</td>\n",
       "      <td>-5</td>\n",
       "      <td>-5</td>\n",
       "      <td>-5</td>\n",
       "      <td>-5</td>\n",
       "      <td>-5</td>\n",
       "      <td>-5</td>\n",
       "      <td>-5</td>\n",
       "    </tr>\n",
       "    <tr>\n",
       "      <th>31057</th>\n",
       "      <td>4905895</td>\n",
       "      <td>4905895</td>\n",
       "      <td>49058902</td>\n",
       "      <td>2014</td>\n",
       "      <td>1</td>\n",
       "      <td>1965</td>\n",
       "      <td>1</td>\n",
       "      <td>-1</td>\n",
       "      <td>2</td>\n",
       "      <td>0</td>\n",
       "      <td>...</td>\n",
       "      <td>-5</td>\n",
       "      <td>-5</td>\n",
       "      <td>-5</td>\n",
       "      <td>-5</td>\n",
       "      <td>-5</td>\n",
       "      <td>-5</td>\n",
       "      <td>-5</td>\n",
       "      <td>-5</td>\n",
       "      <td>-5</td>\n",
       "      <td>-5</td>\n",
       "    </tr>\n",
       "    <tr>\n",
       "      <th>31058</th>\n",
       "      <td>4905895</td>\n",
       "      <td>4905895</td>\n",
       "      <td>49058902</td>\n",
       "      <td>2015</td>\n",
       "      <td>1</td>\n",
       "      <td>1965</td>\n",
       "      <td>-5</td>\n",
       "      <td>-5</td>\n",
       "      <td>-5</td>\n",
       "      <td>-5</td>\n",
       "      <td>...</td>\n",
       "      <td>-5</td>\n",
       "      <td>-5</td>\n",
       "      <td>-5</td>\n",
       "      <td>-5</td>\n",
       "      <td>-5</td>\n",
       "      <td>-5</td>\n",
       "      <td>-5</td>\n",
       "      <td>-5</td>\n",
       "      <td>0</td>\n",
       "      <td>-5</td>\n",
       "    </tr>\n",
       "    <tr>\n",
       "      <th>31059</th>\n",
       "      <td>4905895</td>\n",
       "      <td>4905895</td>\n",
       "      <td>49058902</td>\n",
       "      <td>2016</td>\n",
       "      <td>1</td>\n",
       "      <td>1965</td>\n",
       "      <td>-5</td>\n",
       "      <td>-5</td>\n",
       "      <td>-5</td>\n",
       "      <td>-5</td>\n",
       "      <td>...</td>\n",
       "      <td>-5</td>\n",
       "      <td>-5</td>\n",
       "      <td>-5</td>\n",
       "      <td>-5</td>\n",
       "      <td>-5</td>\n",
       "      <td>-5</td>\n",
       "      <td>-5</td>\n",
       "      <td>-5</td>\n",
       "      <td>-5</td>\n",
       "      <td>-5</td>\n",
       "    </tr>\n",
       "  </tbody>\n",
       "</table>\n",
       "<p>31060 rows × 431 columns</p>\n",
       "</div>"
      ],
      "text/plain": [
       "           cid      hid       pid  syear  sex  gebjahr  plh0197  plh0198  \\\n",
       "0       200093   200093   2000901   1998    1     1954       -5       -5   \n",
       "1       200093   200093   2000901   1999    1     1954       -5       -5   \n",
       "2       200093   200093   2000901   2000    1     1954       -5       -5   \n",
       "3       200093   200093   2000901   2001    1     1954       -5       -5   \n",
       "4       200093   200093   2000901   2002    1     1954       -5       -5   \n",
       "...        ...      ...       ...    ...  ...      ...      ...      ...   \n",
       "31055  4905895  4905895  49058901   2018    2     1967       -5       -5   \n",
       "31056  4905895  4905895  49058901   2019    2     1967       -5       -5   \n",
       "31057  4905895  4905895  49058902   2014    1     1965        1       -1   \n",
       "31058  4905895  4905895  49058902   2015    1     1965       -5       -5   \n",
       "31059  4905895  4905895  49058902   2016    1     1965       -5       -5   \n",
       "\n",
       "       plh0199  plh0200  ...  ivd03_7  ivd03_8  ivd03_9  ivd03_10  ivd03_11  \\\n",
       "0           -5       -5  ...       -5       -5       -5        -5        -5   \n",
       "1           -5       -5  ...       -5       -5       -5        -5        -5   \n",
       "2           -5       -5  ...       -5       -5       -5        -5        -5   \n",
       "3           -5       -5  ...       -5       -5       -5        -5        -5   \n",
       "4           -5       -5  ...       -5       -5       -5        -5        -5   \n",
       "...        ...      ...  ...      ...      ...      ...       ...       ...   \n",
       "31055       -5       -5  ...       -5       -5       -5        -5        -5   \n",
       "31056       -5       -5  ...       -5       -5       -5        -5        -5   \n",
       "31057        2        0  ...       -5       -5       -5        -5        -5   \n",
       "31058       -5       -5  ...       -5       -5       -5        -5        -5   \n",
       "31059       -5       -5  ...       -5       -5       -5        -5        -5   \n",
       "\n",
       "       ptpe18_split2  ptpe18_10  ptpe18_11  im_bmas_onl  bmas_onl_f4  \n",
       "0                 -5         -5         -5           -5           -5  \n",
       "1                 -5         -5         -5           -5           -5  \n",
       "2                 -5         -5         -5           -5           -5  \n",
       "3                 -5         -5         -5           -5           -5  \n",
       "4                 -5         -5         -5           -5           -5  \n",
       "...              ...        ...        ...          ...          ...  \n",
       "31055             -5         -5         -5           -5           -5  \n",
       "31056             -5         -5         -5           -5           -5  \n",
       "31057             -5         -5         -5           -5           -5  \n",
       "31058             -5         -5         -5            0           -5  \n",
       "31059             -5         -5         -5           -5           -5  \n",
       "\n",
       "[31060 rows x 431 columns]"
      ]
     },
     "execution_count": 4,
     "metadata": {},
     "output_type": "execute_result"
    }
   ],
   "source": [
    "df = pd.read_csv('/Users/ganiyuopeyemi/desktop/New Seminar/soep_is_2019_seminar/soep_is_behav_econ_seminar_numval.csv', encoding='latin1')\n",
    "df"
   ]
  },
  {
   "cell_type": "code",
   "execution_count": 5,
   "metadata": {},
   "outputs": [],
   "source": [
    "#checking for null values"
   ]
  },
  {
   "cell_type": "code",
   "execution_count": 6,
   "metadata": {},
   "outputs": [
    {
     "data": {
      "text/plain": [
       "cid              0\n",
       "hid              0\n",
       "pid              0\n",
       "syear            0\n",
       "sex              0\n",
       "                ..\n",
       "ptpe18_split2    0\n",
       "ptpe18_10        0\n",
       "ptpe18_11        0\n",
       "im_bmas_onl      0\n",
       "bmas_onl_f4      0\n",
       "Length: 431, dtype: int64"
      ]
     },
     "execution_count": 6,
     "metadata": {},
     "output_type": "execute_result"
    }
   ],
   "source": [
    "df.isna().sum()"
   ]
  },
  {
   "cell_type": "code",
   "execution_count": 7,
   "metadata": {},
   "outputs": [],
   "source": [
    "#list(df.columns)"
   ]
  },
  {
   "cell_type": "code",
   "execution_count": 8,
   "metadata": {},
   "outputs": [
    {
     "data": {
      "text/plain": [
       "Index(['cid', 'hid', 'pid', 'syear', 'sex', 'gebjahr', 'plh0197', 'plh0198',\n",
       "       'plh0199', 'plh0200',\n",
       "       ...\n",
       "       'ivd03_7', 'ivd03_8', 'ivd03_9', 'ivd03_10', 'ivd03_11',\n",
       "       'ptpe18_split2', 'ptpe18_10', 'ptpe18_11', 'im_bmas_onl',\n",
       "       'bmas_onl_f4'],\n",
       "      dtype='object', length=431)"
      ]
     },
     "execution_count": 8,
     "metadata": {},
     "output_type": "execute_result"
    }
   ],
   "source": [
    "df.columns"
   ]
  },
  {
   "cell_type": "code",
   "execution_count": 9,
   "metadata": {},
   "outputs": [],
   "source": [
    "#creating a new dataframe from df"
   ]
  },
  {
   "cell_type": "code",
   "execution_count": 10,
   "metadata": {},
   "outputs": [],
   "source": [
    "df_1 = df[['pid','syear','sex','gebjahr','biss1','biss2',\n",
    "           'biss3','biss4','biss5','biss6','biss7','biss8']]"
   ]
  },
  {
   "cell_type": "code",
   "execution_count": 11,
   "metadata": {},
   "outputs": [
    {
     "data": {
      "text/html": [
       "<div>\n",
       "<style scoped>\n",
       "    .dataframe tbody tr th:only-of-type {\n",
       "        vertical-align: middle;\n",
       "    }\n",
       "\n",
       "    .dataframe tbody tr th {\n",
       "        vertical-align: top;\n",
       "    }\n",
       "\n",
       "    .dataframe thead th {\n",
       "        text-align: right;\n",
       "    }\n",
       "</style>\n",
       "<table border=\"1\" class=\"dataframe\">\n",
       "  <thead>\n",
       "    <tr style=\"text-align: right;\">\n",
       "      <th></th>\n",
       "      <th>pid</th>\n",
       "      <th>syear</th>\n",
       "      <th>sex</th>\n",
       "      <th>gebjahr</th>\n",
       "      <th>biss1</th>\n",
       "      <th>biss2</th>\n",
       "      <th>biss3</th>\n",
       "      <th>biss4</th>\n",
       "      <th>biss5</th>\n",
       "      <th>biss6</th>\n",
       "      <th>biss7</th>\n",
       "      <th>biss8</th>\n",
       "    </tr>\n",
       "  </thead>\n",
       "  <tbody>\n",
       "    <tr>\n",
       "      <th>0</th>\n",
       "      <td>2000901</td>\n",
       "      <td>1998</td>\n",
       "      <td>1</td>\n",
       "      <td>1954</td>\n",
       "      <td>-5</td>\n",
       "      <td>-5</td>\n",
       "      <td>-5</td>\n",
       "      <td>-5</td>\n",
       "      <td>-5</td>\n",
       "      <td>-5</td>\n",
       "      <td>-5</td>\n",
       "      <td>-5</td>\n",
       "    </tr>\n",
       "    <tr>\n",
       "      <th>1</th>\n",
       "      <td>2000901</td>\n",
       "      <td>1999</td>\n",
       "      <td>1</td>\n",
       "      <td>1954</td>\n",
       "      <td>-5</td>\n",
       "      <td>-5</td>\n",
       "      <td>-5</td>\n",
       "      <td>-5</td>\n",
       "      <td>-5</td>\n",
       "      <td>-5</td>\n",
       "      <td>-5</td>\n",
       "      <td>-5</td>\n",
       "    </tr>\n",
       "    <tr>\n",
       "      <th>2</th>\n",
       "      <td>2000901</td>\n",
       "      <td>2000</td>\n",
       "      <td>1</td>\n",
       "      <td>1954</td>\n",
       "      <td>-5</td>\n",
       "      <td>-5</td>\n",
       "      <td>-5</td>\n",
       "      <td>-5</td>\n",
       "      <td>-5</td>\n",
       "      <td>-5</td>\n",
       "      <td>-5</td>\n",
       "      <td>-5</td>\n",
       "    </tr>\n",
       "    <tr>\n",
       "      <th>3</th>\n",
       "      <td>2000901</td>\n",
       "      <td>2001</td>\n",
       "      <td>1</td>\n",
       "      <td>1954</td>\n",
       "      <td>-5</td>\n",
       "      <td>-5</td>\n",
       "      <td>-5</td>\n",
       "      <td>-5</td>\n",
       "      <td>-5</td>\n",
       "      <td>-5</td>\n",
       "      <td>-5</td>\n",
       "      <td>-5</td>\n",
       "    </tr>\n",
       "    <tr>\n",
       "      <th>4</th>\n",
       "      <td>2000901</td>\n",
       "      <td>2002</td>\n",
       "      <td>1</td>\n",
       "      <td>1954</td>\n",
       "      <td>-5</td>\n",
       "      <td>-5</td>\n",
       "      <td>-5</td>\n",
       "      <td>-5</td>\n",
       "      <td>-5</td>\n",
       "      <td>-5</td>\n",
       "      <td>-5</td>\n",
       "      <td>-5</td>\n",
       "    </tr>\n",
       "  </tbody>\n",
       "</table>\n",
       "</div>"
      ],
      "text/plain": [
       "       pid  syear  sex  gebjahr  biss1  biss2  biss3  biss4  biss5  biss6  \\\n",
       "0  2000901   1998    1     1954     -5     -5     -5     -5     -5     -5   \n",
       "1  2000901   1999    1     1954     -5     -5     -5     -5     -5     -5   \n",
       "2  2000901   2000    1     1954     -5     -5     -5     -5     -5     -5   \n",
       "3  2000901   2001    1     1954     -5     -5     -5     -5     -5     -5   \n",
       "4  2000901   2002    1     1954     -5     -5     -5     -5     -5     -5   \n",
       "\n",
       "   biss7  biss8  \n",
       "0     -5     -5  \n",
       "1     -5     -5  \n",
       "2     -5     -5  \n",
       "3     -5     -5  \n",
       "4     -5     -5  "
      ]
     },
     "execution_count": 11,
     "metadata": {},
     "output_type": "execute_result"
    }
   ],
   "source": [
    "df_1.head()"
   ]
  },
  {
   "cell_type": "code",
   "execution_count": 12,
   "metadata": {},
   "outputs": [],
   "source": [
    "#checking the dimension of the dataframe"
   ]
  },
  {
   "cell_type": "code",
   "execution_count": 13,
   "metadata": {},
   "outputs": [
    {
     "data": {
      "text/plain": [
       "(31060, 12)"
      ]
     },
     "execution_count": 13,
     "metadata": {},
     "output_type": "execute_result"
    }
   ],
   "source": [
    "df_1.shape"
   ]
  },
  {
   "cell_type": "code",
   "execution_count": 14,
   "metadata": {},
   "outputs": [],
   "source": [
    "#droping the value of -5 and -1 in df_1"
   ]
  },
  {
   "cell_type": "code",
   "execution_count": 15,
   "metadata": {},
   "outputs": [],
   "source": [
    "df_1 = df_1.drop(df_1[df_1.isin({-5}).any(1)].index)"
   ]
  },
  {
   "cell_type": "code",
   "execution_count": 16,
   "metadata": {},
   "outputs": [],
   "source": [
    "df_1 = df_1.drop(df_1[df_1.isin({-1}).any(1)].index)"
   ]
  },
  {
   "cell_type": "code",
   "execution_count": 17,
   "metadata": {},
   "outputs": [
    {
     "data": {
      "text/html": [
       "<div>\n",
       "<style scoped>\n",
       "    .dataframe tbody tr th:only-of-type {\n",
       "        vertical-align: middle;\n",
       "    }\n",
       "\n",
       "    .dataframe tbody tr th {\n",
       "        vertical-align: top;\n",
       "    }\n",
       "\n",
       "    .dataframe thead th {\n",
       "        text-align: right;\n",
       "    }\n",
       "</style>\n",
       "<table border=\"1\" class=\"dataframe\">\n",
       "  <thead>\n",
       "    <tr style=\"text-align: right;\">\n",
       "      <th></th>\n",
       "      <th>pid</th>\n",
       "      <th>syear</th>\n",
       "      <th>sex</th>\n",
       "      <th>gebjahr</th>\n",
       "      <th>biss1</th>\n",
       "      <th>biss2</th>\n",
       "      <th>biss3</th>\n",
       "      <th>biss4</th>\n",
       "      <th>biss5</th>\n",
       "      <th>biss6</th>\n",
       "      <th>biss7</th>\n",
       "      <th>biss8</th>\n",
       "    </tr>\n",
       "  </thead>\n",
       "  <tbody>\n",
       "    <tr>\n",
       "      <th>51</th>\n",
       "      <td>2001401</td>\n",
       "      <td>2015</td>\n",
       "      <td>1</td>\n",
       "      <td>1955</td>\n",
       "      <td>1</td>\n",
       "      <td>1</td>\n",
       "      <td>1</td>\n",
       "      <td>1</td>\n",
       "      <td>5</td>\n",
       "      <td>5</td>\n",
       "      <td>5</td>\n",
       "      <td>4</td>\n",
       "    </tr>\n",
       "    <tr>\n",
       "      <th>73</th>\n",
       "      <td>2001402</td>\n",
       "      <td>2015</td>\n",
       "      <td>2</td>\n",
       "      <td>1957</td>\n",
       "      <td>1</td>\n",
       "      <td>1</td>\n",
       "      <td>2</td>\n",
       "      <td>1</td>\n",
       "      <td>5</td>\n",
       "      <td>5</td>\n",
       "      <td>5</td>\n",
       "      <td>4</td>\n",
       "    </tr>\n",
       "    <tr>\n",
       "      <th>79</th>\n",
       "      <td>2001403</td>\n",
       "      <td>2015</td>\n",
       "      <td>1</td>\n",
       "      <td>1996</td>\n",
       "      <td>2</td>\n",
       "      <td>2</td>\n",
       "      <td>2</td>\n",
       "      <td>1</td>\n",
       "      <td>4</td>\n",
       "      <td>3</td>\n",
       "      <td>4</td>\n",
       "      <td>4</td>\n",
       "    </tr>\n",
       "    <tr>\n",
       "      <th>101</th>\n",
       "      <td>2005001</td>\n",
       "      <td>2015</td>\n",
       "      <td>2</td>\n",
       "      <td>1949</td>\n",
       "      <td>2</td>\n",
       "      <td>3</td>\n",
       "      <td>2</td>\n",
       "      <td>3</td>\n",
       "      <td>3</td>\n",
       "      <td>4</td>\n",
       "      <td>3</td>\n",
       "      <td>2</td>\n",
       "    </tr>\n",
       "    <tr>\n",
       "      <th>130</th>\n",
       "      <td>2006701</td>\n",
       "      <td>2015</td>\n",
       "      <td>2</td>\n",
       "      <td>1962</td>\n",
       "      <td>4</td>\n",
       "      <td>2</td>\n",
       "      <td>1</td>\n",
       "      <td>1</td>\n",
       "      <td>5</td>\n",
       "      <td>3</td>\n",
       "      <td>4</td>\n",
       "      <td>4</td>\n",
       "    </tr>\n",
       "  </tbody>\n",
       "</table>\n",
       "</div>"
      ],
      "text/plain": [
       "         pid  syear  sex  gebjahr  biss1  biss2  biss3  biss4  biss5  biss6  \\\n",
       "51   2001401   2015    1     1955      1      1      1      1      5      5   \n",
       "73   2001402   2015    2     1957      1      1      2      1      5      5   \n",
       "79   2001403   2015    1     1996      2      2      2      1      4      3   \n",
       "101  2005001   2015    2     1949      2      3      2      3      3      4   \n",
       "130  2006701   2015    2     1962      4      2      1      1      5      3   \n",
       "\n",
       "     biss7  biss8  \n",
       "51       5      4  \n",
       "73       5      4  \n",
       "79       4      4  \n",
       "101      3      2  \n",
       "130      4      4  "
      ]
     },
     "execution_count": 17,
     "metadata": {},
     "output_type": "execute_result"
    }
   ],
   "source": [
    "df_1.head()"
   ]
  },
  {
   "cell_type": "code",
   "execution_count": 18,
   "metadata": {},
   "outputs": [],
   "source": [
    "#checking for the unique year "
   ]
  },
  {
   "cell_type": "code",
   "execution_count": 19,
   "metadata": {},
   "outputs": [
    {
     "data": {
      "text/plain": [
       "array([2015, 2017])"
      ]
     },
     "execution_count": 19,
     "metadata": {},
     "output_type": "execute_result"
    }
   ],
   "source": [
    "df_1[\"syear\"].unique()"
   ]
  },
  {
   "cell_type": "code",
   "execution_count": 20,
   "metadata": {},
   "outputs": [],
   "source": [
    "#checking the dimension df_1"
   ]
  },
  {
   "cell_type": "code",
   "execution_count": 21,
   "metadata": {},
   "outputs": [
    {
     "data": {
      "text/plain": [
       "(1857, 12)"
      ]
     },
     "execution_count": 21,
     "metadata": {},
     "output_type": "execute_result"
    }
   ],
   "source": [
    "df_1.shape"
   ]
  },
  {
   "cell_type": "code",
   "execution_count": 22,
   "metadata": {},
   "outputs": [],
   "source": [
    "#dropping some variables"
   ]
  },
  {
   "cell_type": "code",
   "execution_count": 23,
   "metadata": {},
   "outputs": [],
   "source": [
    "df_1.drop(['sex','pid','syear','gebjahr'], axis='columns', inplace=True)"
   ]
  },
  {
   "cell_type": "code",
   "execution_count": 24,
   "metadata": {},
   "outputs": [],
   "source": [
    "#Statistical analsysis on the df_1"
   ]
  },
  {
   "cell_type": "code",
   "execution_count": 25,
   "metadata": {},
   "outputs": [
    {
     "data": {
      "text/html": [
       "<div>\n",
       "<style scoped>\n",
       "    .dataframe tbody tr th:only-of-type {\n",
       "        vertical-align: middle;\n",
       "    }\n",
       "\n",
       "    .dataframe tbody tr th {\n",
       "        vertical-align: top;\n",
       "    }\n",
       "\n",
       "    .dataframe thead th {\n",
       "        text-align: right;\n",
       "    }\n",
       "</style>\n",
       "<table border=\"1\" class=\"dataframe\">\n",
       "  <thead>\n",
       "    <tr style=\"text-align: right;\">\n",
       "      <th></th>\n",
       "      <th>biss1</th>\n",
       "      <th>biss2</th>\n",
       "      <th>biss3</th>\n",
       "      <th>biss4</th>\n",
       "      <th>biss5</th>\n",
       "      <th>biss6</th>\n",
       "      <th>biss7</th>\n",
       "      <th>biss8</th>\n",
       "    </tr>\n",
       "  </thead>\n",
       "  <tbody>\n",
       "    <tr>\n",
       "      <th>count</th>\n",
       "      <td>1857.000000</td>\n",
       "      <td>1857.000000</td>\n",
       "      <td>1857.000000</td>\n",
       "      <td>1857.000000</td>\n",
       "      <td>1857.000000</td>\n",
       "      <td>1857.000000</td>\n",
       "      <td>1857.000000</td>\n",
       "      <td>1857.000000</td>\n",
       "    </tr>\n",
       "    <tr>\n",
       "      <th>mean</th>\n",
       "      <td>2.685514</td>\n",
       "      <td>2.767367</td>\n",
       "      <td>2.744750</td>\n",
       "      <td>2.334949</td>\n",
       "      <td>4.058158</td>\n",
       "      <td>3.834141</td>\n",
       "      <td>4.289176</td>\n",
       "      <td>3.844911</td>\n",
       "    </tr>\n",
       "    <tr>\n",
       "      <th>std</th>\n",
       "      <td>1.173601</td>\n",
       "      <td>1.209139</td>\n",
       "      <td>1.307103</td>\n",
       "      <td>1.264498</td>\n",
       "      <td>0.984174</td>\n",
       "      <td>1.073012</td>\n",
       "      <td>0.796582</td>\n",
       "      <td>1.073619</td>\n",
       "    </tr>\n",
       "    <tr>\n",
       "      <th>min</th>\n",
       "      <td>1.000000</td>\n",
       "      <td>1.000000</td>\n",
       "      <td>1.000000</td>\n",
       "      <td>1.000000</td>\n",
       "      <td>1.000000</td>\n",
       "      <td>1.000000</td>\n",
       "      <td>1.000000</td>\n",
       "      <td>1.000000</td>\n",
       "    </tr>\n",
       "    <tr>\n",
       "      <th>25%</th>\n",
       "      <td>2.000000</td>\n",
       "      <td>2.000000</td>\n",
       "      <td>2.000000</td>\n",
       "      <td>1.000000</td>\n",
       "      <td>4.000000</td>\n",
       "      <td>3.000000</td>\n",
       "      <td>4.000000</td>\n",
       "      <td>3.000000</td>\n",
       "    </tr>\n",
       "    <tr>\n",
       "      <th>50%</th>\n",
       "      <td>3.000000</td>\n",
       "      <td>3.000000</td>\n",
       "      <td>3.000000</td>\n",
       "      <td>2.000000</td>\n",
       "      <td>4.000000</td>\n",
       "      <td>4.000000</td>\n",
       "      <td>4.000000</td>\n",
       "      <td>4.000000</td>\n",
       "    </tr>\n",
       "    <tr>\n",
       "      <th>75%</th>\n",
       "      <td>4.000000</td>\n",
       "      <td>4.000000</td>\n",
       "      <td>4.000000</td>\n",
       "      <td>3.000000</td>\n",
       "      <td>5.000000</td>\n",
       "      <td>5.000000</td>\n",
       "      <td>5.000000</td>\n",
       "      <td>5.000000</td>\n",
       "    </tr>\n",
       "    <tr>\n",
       "      <th>max</th>\n",
       "      <td>5.000000</td>\n",
       "      <td>5.000000</td>\n",
       "      <td>5.000000</td>\n",
       "      <td>5.000000</td>\n",
       "      <td>5.000000</td>\n",
       "      <td>5.000000</td>\n",
       "      <td>5.000000</td>\n",
       "      <td>5.000000</td>\n",
       "    </tr>\n",
       "  </tbody>\n",
       "</table>\n",
       "</div>"
      ],
      "text/plain": [
       "             biss1        biss2        biss3        biss4        biss5  \\\n",
       "count  1857.000000  1857.000000  1857.000000  1857.000000  1857.000000   \n",
       "mean      2.685514     2.767367     2.744750     2.334949     4.058158   \n",
       "std       1.173601     1.209139     1.307103     1.264498     0.984174   \n",
       "min       1.000000     1.000000     1.000000     1.000000     1.000000   \n",
       "25%       2.000000     2.000000     2.000000     1.000000     4.000000   \n",
       "50%       3.000000     3.000000     3.000000     2.000000     4.000000   \n",
       "75%       4.000000     4.000000     4.000000     3.000000     5.000000   \n",
       "max       5.000000     5.000000     5.000000     5.000000     5.000000   \n",
       "\n",
       "             biss6        biss7        biss8  \n",
       "count  1857.000000  1857.000000  1857.000000  \n",
       "mean      3.834141     4.289176     3.844911  \n",
       "std       1.073012     0.796582     1.073619  \n",
       "min       1.000000     1.000000     1.000000  \n",
       "25%       3.000000     4.000000     3.000000  \n",
       "50%       4.000000     4.000000     4.000000  \n",
       "75%       5.000000     5.000000     5.000000  \n",
       "max       5.000000     5.000000     5.000000  "
      ]
     },
     "execution_count": 25,
     "metadata": {},
     "output_type": "execute_result"
    }
   ],
   "source": [
    "df_1.describe()"
   ]
  },
  {
   "cell_type": "code",
   "execution_count": 26,
   "metadata": {},
   "outputs": [
    {
     "data": {
      "text/html": [
       "<div>\n",
       "<style scoped>\n",
       "    .dataframe tbody tr th:only-of-type {\n",
       "        vertical-align: middle;\n",
       "    }\n",
       "\n",
       "    .dataframe tbody tr th {\n",
       "        vertical-align: top;\n",
       "    }\n",
       "\n",
       "    .dataframe thead th {\n",
       "        text-align: right;\n",
       "    }\n",
       "</style>\n",
       "<table border=\"1\" class=\"dataframe\">\n",
       "  <thead>\n",
       "    <tr style=\"text-align: right;\">\n",
       "      <th></th>\n",
       "      <th>biss1</th>\n",
       "      <th>biss2</th>\n",
       "      <th>biss3</th>\n",
       "      <th>biss4</th>\n",
       "      <th>biss5</th>\n",
       "      <th>biss6</th>\n",
       "      <th>biss7</th>\n",
       "      <th>biss8</th>\n",
       "    </tr>\n",
       "  </thead>\n",
       "  <tbody>\n",
       "    <tr>\n",
       "      <th>biss1</th>\n",
       "      <td>1.000000</td>\n",
       "      <td>0.393789</td>\n",
       "      <td>0.378603</td>\n",
       "      <td>0.277966</td>\n",
       "      <td>-0.207599</td>\n",
       "      <td>-0.117173</td>\n",
       "      <td>-0.129168</td>\n",
       "      <td>-0.060110</td>\n",
       "    </tr>\n",
       "    <tr>\n",
       "      <th>biss2</th>\n",
       "      <td>0.393789</td>\n",
       "      <td>1.000000</td>\n",
       "      <td>0.398770</td>\n",
       "      <td>0.252912</td>\n",
       "      <td>-0.215913</td>\n",
       "      <td>-0.101599</td>\n",
       "      <td>-0.167860</td>\n",
       "      <td>-0.047314</td>\n",
       "    </tr>\n",
       "    <tr>\n",
       "      <th>biss3</th>\n",
       "      <td>0.378603</td>\n",
       "      <td>0.398770</td>\n",
       "      <td>1.000000</td>\n",
       "      <td>0.364698</td>\n",
       "      <td>-0.259020</td>\n",
       "      <td>-0.107801</td>\n",
       "      <td>-0.179007</td>\n",
       "      <td>-0.091958</td>\n",
       "    </tr>\n",
       "    <tr>\n",
       "      <th>biss4</th>\n",
       "      <td>0.277966</td>\n",
       "      <td>0.252912</td>\n",
       "      <td>0.364698</td>\n",
       "      <td>1.000000</td>\n",
       "      <td>-0.225639</td>\n",
       "      <td>-0.155995</td>\n",
       "      <td>-0.159864</td>\n",
       "      <td>-0.145865</td>\n",
       "    </tr>\n",
       "    <tr>\n",
       "      <th>biss5</th>\n",
       "      <td>-0.207599</td>\n",
       "      <td>-0.215913</td>\n",
       "      <td>-0.259020</td>\n",
       "      <td>-0.225639</td>\n",
       "      <td>1.000000</td>\n",
       "      <td>0.329548</td>\n",
       "      <td>0.443122</td>\n",
       "      <td>0.271148</td>\n",
       "    </tr>\n",
       "    <tr>\n",
       "      <th>biss6</th>\n",
       "      <td>-0.117173</td>\n",
       "      <td>-0.101599</td>\n",
       "      <td>-0.107801</td>\n",
       "      <td>-0.155995</td>\n",
       "      <td>0.329548</td>\n",
       "      <td>1.000000</td>\n",
       "      <td>0.240208</td>\n",
       "      <td>0.192801</td>\n",
       "    </tr>\n",
       "    <tr>\n",
       "      <th>biss7</th>\n",
       "      <td>-0.129168</td>\n",
       "      <td>-0.167860</td>\n",
       "      <td>-0.179007</td>\n",
       "      <td>-0.159864</td>\n",
       "      <td>0.443122</td>\n",
       "      <td>0.240208</td>\n",
       "      <td>1.000000</td>\n",
       "      <td>0.454409</td>\n",
       "    </tr>\n",
       "    <tr>\n",
       "      <th>biss8</th>\n",
       "      <td>-0.060110</td>\n",
       "      <td>-0.047314</td>\n",
       "      <td>-0.091958</td>\n",
       "      <td>-0.145865</td>\n",
       "      <td>0.271148</td>\n",
       "      <td>0.192801</td>\n",
       "      <td>0.454409</td>\n",
       "      <td>1.000000</td>\n",
       "    </tr>\n",
       "  </tbody>\n",
       "</table>\n",
       "</div>"
      ],
      "text/plain": [
       "          biss1     biss2     biss3     biss4     biss5     biss6     biss7  \\\n",
       "biss1  1.000000  0.393789  0.378603  0.277966 -0.207599 -0.117173 -0.129168   \n",
       "biss2  0.393789  1.000000  0.398770  0.252912 -0.215913 -0.101599 -0.167860   \n",
       "biss3  0.378603  0.398770  1.000000  0.364698 -0.259020 -0.107801 -0.179007   \n",
       "biss4  0.277966  0.252912  0.364698  1.000000 -0.225639 -0.155995 -0.159864   \n",
       "biss5 -0.207599 -0.215913 -0.259020 -0.225639  1.000000  0.329548  0.443122   \n",
       "biss6 -0.117173 -0.101599 -0.107801 -0.155995  0.329548  1.000000  0.240208   \n",
       "biss7 -0.129168 -0.167860 -0.179007 -0.159864  0.443122  0.240208  1.000000   \n",
       "biss8 -0.060110 -0.047314 -0.091958 -0.145865  0.271148  0.192801  0.454409   \n",
       "\n",
       "          biss8  \n",
       "biss1 -0.060110  \n",
       "biss2 -0.047314  \n",
       "biss3 -0.091958  \n",
       "biss4 -0.145865  \n",
       "biss5  0.271148  \n",
       "biss6  0.192801  \n",
       "biss7  0.454409  \n",
       "biss8  1.000000  "
      ]
     },
     "execution_count": 26,
     "metadata": {},
     "output_type": "execute_result"
    }
   ],
   "source": [
    "#Correlation of Grit items \n",
    "df_1.corr()"
   ]
  },
  {
   "cell_type": "code",
   "execution_count": 27,
   "metadata": {},
   "outputs": [
    {
     "data": {
      "image/png": "[encoded data removed]",
      "text/plain": [
       "<Figure size 720x720 with 2 Axes>"
      ]
     },
     "metadata": {
      "needs_background": "light"
     },
     "output_type": "display_data"
    }
   ],
   "source": [
    "#Correlation map\n",
    "fig, ax = plt.subplots(figsize=(10,10)) \n",
    "sns.heatmap(df_1.corr(), annot=True, linewidths=.5, cmap=\"YlGnBu\");"
   ]
  },
  {
   "cell_type": "code",
   "execution_count": 28,
   "metadata": {},
   "outputs": [
    {
     "data": {
      "text/html": [
       "<div>\n",
       "<style scoped>\n",
       "    .dataframe tbody tr th:only-of-type {\n",
       "        vertical-align: middle;\n",
       "    }\n",
       "\n",
       "    .dataframe tbody tr th {\n",
       "        vertical-align: top;\n",
       "    }\n",
       "\n",
       "    .dataframe thead th {\n",
       "        text-align: right;\n",
       "    }\n",
       "</style>\n",
       "<table border=\"1\" class=\"dataframe\">\n",
       "  <thead>\n",
       "    <tr style=\"text-align: right;\">\n",
       "      <th></th>\n",
       "      <th>biss1</th>\n",
       "      <th>biss2</th>\n",
       "      <th>biss3</th>\n",
       "      <th>biss4</th>\n",
       "      <th>biss5</th>\n",
       "      <th>biss6</th>\n",
       "      <th>biss7</th>\n",
       "      <th>biss8</th>\n",
       "    </tr>\n",
       "  </thead>\n",
       "  <tbody>\n",
       "    <tr>\n",
       "      <th>biss1</th>\n",
       "      <td>1.377339</td>\n",
       "      <td>0.558805</td>\n",
       "      <td>0.580783</td>\n",
       "      <td>0.412505</td>\n",
       "      <td>-0.239782</td>\n",
       "      <td>-0.147555</td>\n",
       "      <td>-0.120755</td>\n",
       "      <td>-0.075739</td>\n",
       "    </tr>\n",
       "    <tr>\n",
       "      <th>biss2</th>\n",
       "      <td>0.558805</td>\n",
       "      <td>1.462016</td>\n",
       "      <td>0.630243</td>\n",
       "      <td>0.386691</td>\n",
       "      <td>-0.256937</td>\n",
       "      <td>-0.131816</td>\n",
       "      <td>-0.161679</td>\n",
       "      <td>-0.061422</td>\n",
       "    </tr>\n",
       "    <tr>\n",
       "      <th>biss3</th>\n",
       "      <td>0.580783</td>\n",
       "      <td>0.630243</td>\n",
       "      <td>1.708519</td>\n",
       "      <td>0.602783</td>\n",
       "      <td>-0.333207</td>\n",
       "      <td>-0.151195</td>\n",
       "      <td>-0.186385</td>\n",
       "      <td>-0.129047</td>\n",
       "    </tr>\n",
       "    <tr>\n",
       "      <th>biss4</th>\n",
       "      <td>0.412505</td>\n",
       "      <td>0.386691</td>\n",
       "      <td>0.602783</td>\n",
       "      <td>1.598956</td>\n",
       "      <td>-0.280805</td>\n",
       "      <td>-0.211657</td>\n",
       "      <td>-0.161028</td>\n",
       "      <td>-0.198025</td>\n",
       "    </tr>\n",
       "    <tr>\n",
       "      <th>biss5</th>\n",
       "      <td>-0.239782</td>\n",
       "      <td>-0.256937</td>\n",
       "      <td>-0.333207</td>\n",
       "      <td>-0.280805</td>\n",
       "      <td>0.968599</td>\n",
       "      <td>0.348013</td>\n",
       "      <td>0.347397</td>\n",
       "      <td>0.286503</td>\n",
       "    </tr>\n",
       "    <tr>\n",
       "      <th>biss6</th>\n",
       "      <td>-0.147555</td>\n",
       "      <td>-0.131816</td>\n",
       "      <td>-0.151195</td>\n",
       "      <td>-0.211657</td>\n",
       "      <td>0.348013</td>\n",
       "      <td>1.151355</td>\n",
       "      <td>0.205316</td>\n",
       "      <td>0.222108</td>\n",
       "    </tr>\n",
       "    <tr>\n",
       "      <th>biss7</th>\n",
       "      <td>-0.120755</td>\n",
       "      <td>-0.161679</td>\n",
       "      <td>-0.186385</td>\n",
       "      <td>-0.161028</td>\n",
       "      <td>0.347397</td>\n",
       "      <td>0.205316</td>\n",
       "      <td>0.634543</td>\n",
       "      <td>0.388622</td>\n",
       "    </tr>\n",
       "    <tr>\n",
       "      <th>biss8</th>\n",
       "      <td>-0.075739</td>\n",
       "      <td>-0.061422</td>\n",
       "      <td>-0.129047</td>\n",
       "      <td>-0.198025</td>\n",
       "      <td>0.286503</td>\n",
       "      <td>0.222108</td>\n",
       "      <td>0.388622</td>\n",
       "      <td>1.152659</td>\n",
       "    </tr>\n",
       "  </tbody>\n",
       "</table>\n",
       "</div>"
      ],
      "text/plain": [
       "          biss1     biss2     biss3     biss4     biss5     biss6     biss7  \\\n",
       "biss1  1.377339  0.558805  0.580783  0.412505 -0.239782 -0.147555 -0.120755   \n",
       "biss2  0.558805  1.462016  0.630243  0.386691 -0.256937 -0.131816 -0.161679   \n",
       "biss3  0.580783  0.630243  1.708519  0.602783 -0.333207 -0.151195 -0.186385   \n",
       "biss4  0.412505  0.386691  0.602783  1.598956 -0.280805 -0.211657 -0.161028   \n",
       "biss5 -0.239782 -0.256937 -0.333207 -0.280805  0.968599  0.348013  0.347397   \n",
       "biss6 -0.147555 -0.131816 -0.151195 -0.211657  0.348013  1.151355  0.205316   \n",
       "biss7 -0.120755 -0.161679 -0.186385 -0.161028  0.347397  0.205316  0.634543   \n",
       "biss8 -0.075739 -0.061422 -0.129047 -0.198025  0.286503  0.222108  0.388622   \n",
       "\n",
       "          biss8  \n",
       "biss1 -0.075739  \n",
       "biss2 -0.061422  \n",
       "biss3 -0.129047  \n",
       "biss4 -0.198025  \n",
       "biss5  0.286503  \n",
       "biss6  0.222108  \n",
       "biss7  0.388622  \n",
       "biss8  1.152659  "
      ]
     },
     "execution_count": 28,
     "metadata": {},
     "output_type": "execute_result"
    }
   ],
   "source": [
    "#Covariance of the Grit items\n",
    "df_1.cov()"
   ]
  },
  {
   "cell_type": "code",
   "execution_count": 29,
   "metadata": {},
   "outputs": [],
   "source": [
    "#factor analysis on items on Grit and Entrepreneurship \n",
    "fa = FactorAnalyzer(n_factors =2, rotation = 'varimax')"
   ]
  },
  {
   "cell_type": "code",
   "execution_count": 30,
   "metadata": {},
   "outputs": [
    {
     "data": {
      "text/plain": [
       "FactorAnalyzer(n_factors=2, rotation='varimax', rotation_kwargs={})"
      ]
     },
     "execution_count": 30,
     "metadata": {},
     "output_type": "execute_result"
    }
   ],
   "source": [
    "fa.fit(df_1)"
   ]
  },
  {
   "cell_type": "code",
   "execution_count": 31,
   "metadata": {},
   "outputs": [],
   "source": [
    "#Get the loadings\n",
    "loadings = fa.loadings_"
   ]
  },
  {
   "cell_type": "code",
   "execution_count": 32,
   "metadata": {},
   "outputs": [
    {
     "data": {
      "text/plain": [
       "array([[ 0.59526901, -0.08350961],\n",
       "       [ 0.59531454, -0.09649455],\n",
       "       [ 0.65363795, -0.13684216],\n",
       "       [ 0.45292354, -0.19112148],\n",
       "       [-0.28002435,  0.56039438],\n",
       "       [-0.13730904,  0.37043913],\n",
       "       [-0.11259672,  0.73708921],\n",
       "       [-0.01416124,  0.56301299]])"
      ]
     },
     "execution_count": 32,
     "metadata": {},
     "output_type": "execute_result"
    }
   ],
   "source": [
    "loadings"
   ]
  },
  {
   "cell_type": "code",
   "execution_count": 33,
   "metadata": {},
   "outputs": [
    {
     "data": {
      "text/html": [
       "<div>\n",
       "<style scoped>\n",
       "    .dataframe tbody tr th:only-of-type {\n",
       "        vertical-align: middle;\n",
       "    }\n",
       "\n",
       "    .dataframe tbody tr th {\n",
       "        vertical-align: top;\n",
       "    }\n",
       "\n",
       "    .dataframe thead th {\n",
       "        text-align: right;\n",
       "    }\n",
       "</style>\n",
       "<table border=\"1\" class=\"dataframe\">\n",
       "  <thead>\n",
       "    <tr style=\"text-align: right;\">\n",
       "      <th></th>\n",
       "      <th>Factor 1</th>\n",
       "      <th>Factor 2</th>\n",
       "    </tr>\n",
       "  </thead>\n",
       "  <tbody>\n",
       "    <tr>\n",
       "      <th>biss1</th>\n",
       "      <td>0.595269</td>\n",
       "      <td>-0.083510</td>\n",
       "    </tr>\n",
       "    <tr>\n",
       "      <th>biss2</th>\n",
       "      <td>0.595315</td>\n",
       "      <td>-0.096495</td>\n",
       "    </tr>\n",
       "    <tr>\n",
       "      <th>biss3</th>\n",
       "      <td>0.653638</td>\n",
       "      <td>-0.136842</td>\n",
       "    </tr>\n",
       "    <tr>\n",
       "      <th>biss4</th>\n",
       "      <td>0.452924</td>\n",
       "      <td>-0.191121</td>\n",
       "    </tr>\n",
       "    <tr>\n",
       "      <th>biss5</th>\n",
       "      <td>-0.280024</td>\n",
       "      <td>0.560394</td>\n",
       "    </tr>\n",
       "    <tr>\n",
       "      <th>biss6</th>\n",
       "      <td>-0.137309</td>\n",
       "      <td>0.370439</td>\n",
       "    </tr>\n",
       "    <tr>\n",
       "      <th>biss7</th>\n",
       "      <td>-0.112597</td>\n",
       "      <td>0.737089</td>\n",
       "    </tr>\n",
       "    <tr>\n",
       "      <th>biss8</th>\n",
       "      <td>-0.014161</td>\n",
       "      <td>0.563013</td>\n",
       "    </tr>\n",
       "  </tbody>\n",
       "</table>\n",
       "</div>"
      ],
      "text/plain": [
       "       Factor 1  Factor 2\n",
       "biss1  0.595269 -0.083510\n",
       "biss2  0.595315 -0.096495\n",
       "biss3  0.653638 -0.136842\n",
       "biss4  0.452924 -0.191121\n",
       "biss5 -0.280024  0.560394\n",
       "biss6 -0.137309  0.370439\n",
       "biss7 -0.112597  0.737089\n",
       "biss8 -0.014161  0.563013"
      ]
     },
     "execution_count": 33,
     "metadata": {},
     "output_type": "execute_result"
    }
   ],
   "source": [
    "# Putting the loadings in the dataframe \n",
    "pd.DataFrame(loadings,columns=['Factor 1', 'Factor 2'], index=df_1.columns)"
   ]
  },
  {
   "cell_type": "code",
   "execution_count": 34,
   "metadata": {},
   "outputs": [],
   "source": [
    "e_val,e_vec = fa.get_eigenvalues()"
   ]
  },
  {
   "cell_type": "code",
   "execution_count": 35,
   "metadata": {},
   "outputs": [
    {
     "data": {
      "text/plain": [
       "array([2.62094525, 1.44266729, 0.86003005, 0.77999127, 0.65645787,\n",
       "       0.60114474, 0.56433848, 0.47442506])"
      ]
     },
     "execution_count": 35,
     "metadata": {},
     "output_type": "execute_result"
    }
   ],
   "source": [
    "#Getting eigen values\n",
    "e_val"
   ]
  },
  {
   "cell_type": "code",
   "execution_count": 36,
   "metadata": {},
   "outputs": [
    {
     "data": {
      "text/plain": [
       "array([ 2.0000986 ,  0.83426358,  0.13051208,  0.08902426,  0.0203161 ,\n",
       "       -0.05044307, -0.07837326, -0.11103603])"
      ]
     },
     "execution_count": 36,
     "metadata": {},
     "output_type": "execute_result"
    }
   ],
   "source": [
    "#Getting the eigen vectors\n",
    "e_vec"
   ]
  },
  {
   "cell_type": "code",
   "execution_count": 37,
   "metadata": {},
   "outputs": [],
   "source": [
    "#Do a Scree Plot\n",
    "xvals = range(1, df_1.shape[1]+1)"
   ]
  },
  {
   "cell_type": "code",
   "execution_count": 38,
   "metadata": {},
   "outputs": [
    {
     "data": {
      "image/png": "[encoded data removed]",
      "text/plain": [
       "<Figure size 432x288 with 1 Axes>"
      ]
     },
     "metadata": {
      "needs_background": "light"
     },
     "output_type": "display_data"
    }
   ],
   "source": [
    "plt.scatter(xvals, e_val)\n",
    "plt.plot(xvals, e_val)\n",
    "plt.title('Scree Plot')\n",
    "plt.xlabel('Factor')\n",
    "plt.ylabel('Eigenvalues')\n",
    "plt.grid()\n",
    "plt.show()"
   ]
  },
  {
   "cell_type": "markdown",
   "metadata": {},
   "source": [
    "The Scree Plot suggest two latent factors in the Grit Survey."
   ]
  },
  {
   "cell_type": "code",
   "execution_count": 39,
   "metadata": {},
   "outputs": [
    {
     "data": {
      "text/plain": [
       "array([[ 0.72749045,  0.68611781],\n",
       "       [-0.68611781,  0.72749045]])"
      ]
     },
     "execution_count": 39,
     "metadata": {},
     "output_type": "execute_result"
    }
   ],
   "source": [
    "#Rotation Matrix\n",
    "fa.rotation_matrix_"
   ]
  },
  {
   "cell_type": "code",
   "execution_count": 40,
   "metadata": {},
   "outputs": [
    {
     "data": {
      "text/plain": [
       "array([0.36131905, 0.3637106 , 0.44596835, 0.24166715, 0.3924555 ,\n",
       "       0.15607892, 0.55597852, 0.31718417])"
      ]
     },
     "execution_count": 40,
     "metadata": {},
     "output_type": "execute_result"
    }
   ],
   "source": [
    "#Squared of the loadings\n",
    "fa.get_communalities()"
   ]
  },
  {
   "cell_type": "code",
   "execution_count": 41,
   "metadata": {},
   "outputs": [],
   "source": [
    "#Estimate Cronbach’s α (internal consistency) for composite scale(s)"
   ]
  },
  {
   "cell_type": "code",
   "execution_count": 42,
   "metadata": {},
   "outputs": [],
   "source": [
    "import pingouin as pg"
   ]
  },
  {
   "cell_type": "code",
   "execution_count": 43,
   "metadata": {},
   "outputs": [
    {
     "name": "stdout",
     "output_type": "stream",
     "text": [
      "(0.6390125180790537, array([0.611, 0.665]))\n"
     ]
    },
    {
     "name": "stderr",
     "output_type": "stream",
     "text": [
      "/Users/ganiyuopeyemi/opt/anaconda3/lib/python3.8/site-packages/outdated/utils.py:14: OutdatedPackageWarning: The package outdated is out of date. Your version is 0.2.0, the latest is 0.2.1.\n",
      "Set the environment variable OUTDATED_IGNORE=1 to disable these warnings.\n",
      "  return warn(\n",
      "/Users/ganiyuopeyemi/opt/anaconda3/lib/python3.8/site-packages/outdated/utils.py:14: OutdatedPackageWarning: The package pingouin is out of date. Your version is 0.3.8, the latest is 0.3.12.\n",
      "Set the environment variable OUTDATED_IGNORE=1 to disable these warnings.\n",
      "  return warn(\n"
     ]
    }
   ],
   "source": [
    "factors_grit_ent1 = df_1[['biss5','biss6','biss7','biss8']]\n",
    "alpha_grit = pg.cronbach_alpha(factors_grit_ent1)\n",
    "print(alpha_grit)"
   ]
  },
  {
   "cell_type": "markdown",
   "metadata": {},
   "source": [
    "The Cronbach's alpha value for the measurement of Grit's item is 0.64, this value shows the degree to which all the items of the scale really measure the same concept and this value is acceptable."
   ]
  },
  {
   "cell_type": "code",
   "execution_count": 44,
   "metadata": {},
   "outputs": [
    {
     "name": "stdout",
     "output_type": "stream",
     "text": [
      "(0.6771702981613195, array([0.653, 0.7  ]))\n"
     ]
    }
   ],
   "source": [
    "factors_grit_ent2 = df_1[['biss1','biss2','biss3','biss4']]\n",
    "alpha_ent = pg.cronbach_alpha(factors_grit_ent2)\n",
    "print(alpha_ent)"
   ]
  },
  {
   "cell_type": "markdown",
   "metadata": {},
   "source": [
    "The Cronbach's alpha value for the Grit & Entrepreneurship item is 0.68, this value shows the degree to which all the items of \n",
    "the scale really measure the same concept and the value is acceptable"
   ]
  },
  {
   "cell_type": "code",
   "execution_count": 45,
   "metadata": {},
   "outputs": [],
   "source": [
    "#creating new dataframe for items on Big5"
   ]
  },
  {
   "cell_type": "code",
   "execution_count": 46,
   "metadata": {},
   "outputs": [],
   "source": [
    "df_3 = df[['pid','syear','plh0215','plh0220',\n",
    "          'plh0225','plh0212','plh0218','plh0222',\n",
    "           'plh0213','plh0219','plh0223','plh0216',\n",
    "           'plh0221','plh0226','plh0214','plh0217','plh0224']]"
   ]
  },
  {
   "cell_type": "code",
   "execution_count": 47,
   "metadata": {},
   "outputs": [
    {
     "data": {
      "text/html": [
       "<div>\n",
       "<style scoped>\n",
       "    .dataframe tbody tr th:only-of-type {\n",
       "        vertical-align: middle;\n",
       "    }\n",
       "\n",
       "    .dataframe tbody tr th {\n",
       "        vertical-align: top;\n",
       "    }\n",
       "\n",
       "    .dataframe thead th {\n",
       "        text-align: right;\n",
       "    }\n",
       "</style>\n",
       "<table border=\"1\" class=\"dataframe\">\n",
       "  <thead>\n",
       "    <tr style=\"text-align: right;\">\n",
       "      <th></th>\n",
       "      <th>pid</th>\n",
       "      <th>syear</th>\n",
       "      <th>plh0215</th>\n",
       "      <th>plh0220</th>\n",
       "      <th>plh0225</th>\n",
       "      <th>plh0212</th>\n",
       "      <th>plh0218</th>\n",
       "      <th>plh0222</th>\n",
       "      <th>plh0213</th>\n",
       "      <th>plh0219</th>\n",
       "      <th>plh0223</th>\n",
       "      <th>plh0216</th>\n",
       "      <th>plh0221</th>\n",
       "      <th>plh0226</th>\n",
       "      <th>plh0214</th>\n",
       "      <th>plh0217</th>\n",
       "      <th>plh0224</th>\n",
       "    </tr>\n",
       "  </thead>\n",
       "  <tbody>\n",
       "    <tr>\n",
       "      <th>0</th>\n",
       "      <td>2000901</td>\n",
       "      <td>1998</td>\n",
       "      <td>-5</td>\n",
       "      <td>-5</td>\n",
       "      <td>-5</td>\n",
       "      <td>-5</td>\n",
       "      <td>-5</td>\n",
       "      <td>-5</td>\n",
       "      <td>-5</td>\n",
       "      <td>-5</td>\n",
       "      <td>-5</td>\n",
       "      <td>-5</td>\n",
       "      <td>-5</td>\n",
       "      <td>-5</td>\n",
       "      <td>-5</td>\n",
       "      <td>-5</td>\n",
       "      <td>-5</td>\n",
       "    </tr>\n",
       "    <tr>\n",
       "      <th>1</th>\n",
       "      <td>2000901</td>\n",
       "      <td>1999</td>\n",
       "      <td>-5</td>\n",
       "      <td>-5</td>\n",
       "      <td>-5</td>\n",
       "      <td>-5</td>\n",
       "      <td>-5</td>\n",
       "      <td>-5</td>\n",
       "      <td>-5</td>\n",
       "      <td>-5</td>\n",
       "      <td>-5</td>\n",
       "      <td>-5</td>\n",
       "      <td>-5</td>\n",
       "      <td>-5</td>\n",
       "      <td>-5</td>\n",
       "      <td>-5</td>\n",
       "      <td>-5</td>\n",
       "    </tr>\n",
       "    <tr>\n",
       "      <th>2</th>\n",
       "      <td>2000901</td>\n",
       "      <td>2000</td>\n",
       "      <td>-5</td>\n",
       "      <td>-5</td>\n",
       "      <td>-5</td>\n",
       "      <td>-5</td>\n",
       "      <td>-5</td>\n",
       "      <td>-5</td>\n",
       "      <td>-5</td>\n",
       "      <td>-5</td>\n",
       "      <td>-5</td>\n",
       "      <td>-5</td>\n",
       "      <td>-5</td>\n",
       "      <td>-5</td>\n",
       "      <td>-5</td>\n",
       "      <td>-5</td>\n",
       "      <td>-5</td>\n",
       "    </tr>\n",
       "    <tr>\n",
       "      <th>3</th>\n",
       "      <td>2000901</td>\n",
       "      <td>2001</td>\n",
       "      <td>-5</td>\n",
       "      <td>-5</td>\n",
       "      <td>-5</td>\n",
       "      <td>-5</td>\n",
       "      <td>-5</td>\n",
       "      <td>-5</td>\n",
       "      <td>-5</td>\n",
       "      <td>-5</td>\n",
       "      <td>-5</td>\n",
       "      <td>-5</td>\n",
       "      <td>-5</td>\n",
       "      <td>-5</td>\n",
       "      <td>-5</td>\n",
       "      <td>-5</td>\n",
       "      <td>-5</td>\n",
       "    </tr>\n",
       "    <tr>\n",
       "      <th>4</th>\n",
       "      <td>2000901</td>\n",
       "      <td>2002</td>\n",
       "      <td>-5</td>\n",
       "      <td>-5</td>\n",
       "      <td>-5</td>\n",
       "      <td>-5</td>\n",
       "      <td>-5</td>\n",
       "      <td>-5</td>\n",
       "      <td>-5</td>\n",
       "      <td>-5</td>\n",
       "      <td>-5</td>\n",
       "      <td>-5</td>\n",
       "      <td>-5</td>\n",
       "      <td>-5</td>\n",
       "      <td>-5</td>\n",
       "      <td>-5</td>\n",
       "      <td>-5</td>\n",
       "    </tr>\n",
       "  </tbody>\n",
       "</table>\n",
       "</div>"
      ],
      "text/plain": [
       "       pid  syear  plh0215  plh0220  plh0225  plh0212  plh0218  plh0222  \\\n",
       "0  2000901   1998       -5       -5       -5       -5       -5       -5   \n",
       "1  2000901   1999       -5       -5       -5       -5       -5       -5   \n",
       "2  2000901   2000       -5       -5       -5       -5       -5       -5   \n",
       "3  2000901   2001       -5       -5       -5       -5       -5       -5   \n",
       "4  2000901   2002       -5       -5       -5       -5       -5       -5   \n",
       "\n",
       "   plh0213  plh0219  plh0223  plh0216  plh0221  plh0226  plh0214  plh0217  \\\n",
       "0       -5       -5       -5       -5       -5       -5       -5       -5   \n",
       "1       -5       -5       -5       -5       -5       -5       -5       -5   \n",
       "2       -5       -5       -5       -5       -5       -5       -5       -5   \n",
       "3       -5       -5       -5       -5       -5       -5       -5       -5   \n",
       "4       -5       -5       -5       -5       -5       -5       -5       -5   \n",
       "\n",
       "   plh0224  \n",
       "0       -5  \n",
       "1       -5  \n",
       "2       -5  \n",
       "3       -5  \n",
       "4       -5  "
      ]
     },
     "execution_count": 47,
     "metadata": {},
     "output_type": "execute_result"
    }
   ],
   "source": [
    "df_3.head()"
   ]
  },
  {
   "cell_type": "code",
   "execution_count": 48,
   "metadata": {},
   "outputs": [
    {
     "data": {
      "text/plain": [
       "(31060, 17)"
      ]
     },
     "execution_count": 48,
     "metadata": {},
     "output_type": "execute_result"
    }
   ],
   "source": [
    "df_3.shape"
   ]
  },
  {
   "cell_type": "code",
   "execution_count": 49,
   "metadata": {},
   "outputs": [],
   "source": [
    "#cleaning df_3\n",
    "df_3 = df_3.drop(df_3[df_3.isin({-5}).any(1)].index)\n",
    "df_3 = df_3.drop(df_3[df_3.isin({-1}).any(1)].index)"
   ]
  },
  {
   "cell_type": "code",
   "execution_count": 50,
   "metadata": {},
   "outputs": [
    {
     "data": {
      "text/plain": [
       "(12537, 17)"
      ]
     },
     "execution_count": 50,
     "metadata": {},
     "output_type": "execute_result"
    }
   ],
   "source": [
    "df_3.shape"
   ]
  },
  {
   "cell_type": "code",
   "execution_count": 51,
   "metadata": {},
   "outputs": [],
   "source": [
    "#Recoding"
   ]
  },
  {
   "cell_type": "code",
   "execution_count": 52,
   "metadata": {},
   "outputs": [],
   "source": [
    "df_3['plh0218'] = df_3['plh0218'].transform(lambda x: 8-x)\n",
    "df_3['plh0223'] = df_3['plh0223'].transform(lambda x: 8-x)\n",
    "df_3['plh0226'] = df_3['plh0226'].transform(lambda x: 8-x)\n",
    "df_3['plh0214'] = df_3['plh0214'].transform(lambda x: 8-x)"
   ]
  },
  {
   "cell_type": "code",
   "execution_count": 53,
   "metadata": {},
   "outputs": [
    {
     "data": {
      "text/html": [
       "<div>\n",
       "<style scoped>\n",
       "    .dataframe tbody tr th:only-of-type {\n",
       "        vertical-align: middle;\n",
       "    }\n",
       "\n",
       "    .dataframe tbody tr th {\n",
       "        vertical-align: top;\n",
       "    }\n",
       "\n",
       "    .dataframe thead th {\n",
       "        text-align: right;\n",
       "    }\n",
       "</style>\n",
       "<table border=\"1\" class=\"dataframe\">\n",
       "  <thead>\n",
       "    <tr style=\"text-align: right;\">\n",
       "      <th></th>\n",
       "      <th>pid</th>\n",
       "      <th>syear</th>\n",
       "      <th>plh0215</th>\n",
       "      <th>plh0220</th>\n",
       "      <th>plh0225</th>\n",
       "      <th>plh0212</th>\n",
       "      <th>plh0218</th>\n",
       "      <th>plh0222</th>\n",
       "      <th>plh0213</th>\n",
       "      <th>plh0219</th>\n",
       "      <th>plh0223</th>\n",
       "      <th>plh0216</th>\n",
       "      <th>plh0221</th>\n",
       "      <th>plh0226</th>\n",
       "      <th>plh0214</th>\n",
       "      <th>plh0217</th>\n",
       "      <th>plh0224</th>\n",
       "    </tr>\n",
       "  </thead>\n",
       "  <tbody>\n",
       "    <tr>\n",
       "      <th>7</th>\n",
       "      <td>2000901</td>\n",
       "      <td>2005</td>\n",
       "      <td>4</td>\n",
       "      <td>4</td>\n",
       "      <td>3</td>\n",
       "      <td>7</td>\n",
       "      <td>2</td>\n",
       "      <td>7</td>\n",
       "      <td>4</td>\n",
       "      <td>4</td>\n",
       "      <td>4</td>\n",
       "      <td>7</td>\n",
       "      <td>6</td>\n",
       "      <td>5</td>\n",
       "      <td>3</td>\n",
       "      <td>6</td>\n",
       "      <td>6</td>\n",
       "    </tr>\n",
       "    <tr>\n",
       "      <th>11</th>\n",
       "      <td>2000901</td>\n",
       "      <td>2009</td>\n",
       "      <td>4</td>\n",
       "      <td>2</td>\n",
       "      <td>3</td>\n",
       "      <td>7</td>\n",
       "      <td>6</td>\n",
       "      <td>6</td>\n",
       "      <td>4</td>\n",
       "      <td>4</td>\n",
       "      <td>3</td>\n",
       "      <td>6</td>\n",
       "      <td>4</td>\n",
       "      <td>4</td>\n",
       "      <td>3</td>\n",
       "      <td>6</td>\n",
       "      <td>6</td>\n",
       "    </tr>\n",
       "    <tr>\n",
       "      <th>21</th>\n",
       "      <td>2000902</td>\n",
       "      <td>2005</td>\n",
       "      <td>7</td>\n",
       "      <td>7</td>\n",
       "      <td>7</td>\n",
       "      <td>7</td>\n",
       "      <td>5</td>\n",
       "      <td>7</td>\n",
       "      <td>7</td>\n",
       "      <td>7</td>\n",
       "      <td>7</td>\n",
       "      <td>4</td>\n",
       "      <td>1</td>\n",
       "      <td>1</td>\n",
       "      <td>7</td>\n",
       "      <td>7</td>\n",
       "      <td>7</td>\n",
       "    </tr>\n",
       "    <tr>\n",
       "      <th>25</th>\n",
       "      <td>2000902</td>\n",
       "      <td>2009</td>\n",
       "      <td>6</td>\n",
       "      <td>4</td>\n",
       "      <td>6</td>\n",
       "      <td>6</td>\n",
       "      <td>4</td>\n",
       "      <td>6</td>\n",
       "      <td>6</td>\n",
       "      <td>6</td>\n",
       "      <td>6</td>\n",
       "      <td>4</td>\n",
       "      <td>2</td>\n",
       "      <td>1</td>\n",
       "      <td>7</td>\n",
       "      <td>6</td>\n",
       "      <td>6</td>\n",
       "    </tr>\n",
       "    <tr>\n",
       "      <th>29</th>\n",
       "      <td>2000903</td>\n",
       "      <td>2009</td>\n",
       "      <td>6</td>\n",
       "      <td>7</td>\n",
       "      <td>5</td>\n",
       "      <td>6</td>\n",
       "      <td>5</td>\n",
       "      <td>6</td>\n",
       "      <td>7</td>\n",
       "      <td>7</td>\n",
       "      <td>3</td>\n",
       "      <td>7</td>\n",
       "      <td>2</td>\n",
       "      <td>2</td>\n",
       "      <td>6</td>\n",
       "      <td>7</td>\n",
       "      <td>7</td>\n",
       "    </tr>\n",
       "  </tbody>\n",
       "</table>\n",
       "</div>"
      ],
      "text/plain": [
       "        pid  syear  plh0215  plh0220  plh0225  plh0212  plh0218  plh0222  \\\n",
       "7   2000901   2005        4        4        3        7        2        7   \n",
       "11  2000901   2009        4        2        3        7        6        6   \n",
       "21  2000902   2005        7        7        7        7        5        7   \n",
       "25  2000902   2009        6        4        6        6        4        6   \n",
       "29  2000903   2009        6        7        5        6        5        6   \n",
       "\n",
       "    plh0213  plh0219  plh0223  plh0216  plh0221  plh0226  plh0214  plh0217  \\\n",
       "7         4        4        4        7        6        5        3        6   \n",
       "11        4        4        3        6        4        4        3        6   \n",
       "21        7        7        7        4        1        1        7        7   \n",
       "25        6        6        6        4        2        1        7        6   \n",
       "29        7        7        3        7        2        2        6        7   \n",
       "\n",
       "    plh0224  \n",
       "7         6  \n",
       "11        6  \n",
       "21        7  \n",
       "25        6  \n",
       "29        7  "
      ]
     },
     "execution_count": 53,
     "metadata": {},
     "output_type": "execute_result"
    }
   ],
   "source": [
    "df_3.head()"
   ]
  },
  {
   "cell_type": "code",
   "execution_count": 54,
   "metadata": {},
   "outputs": [],
   "source": [
    "#creating a new dataframe df_31 from df_3"
   ]
  },
  {
   "cell_type": "code",
   "execution_count": 55,
   "metadata": {},
   "outputs": [],
   "source": [
    "df_31 = df_3[['plh0215','plh0220',\n",
    "          'plh0225','plh0212','plh0218','plh0222',\n",
    "           'plh0213','plh0219','plh0223','plh0216',\n",
    "           'plh0221','plh0226','plh0214','plh0217','plh0224']]"
   ]
  },
  {
   "cell_type": "code",
   "execution_count": 56,
   "metadata": {},
   "outputs": [
    {
     "data": {
      "text/html": [
       "<div>\n",
       "<style scoped>\n",
       "    .dataframe tbody tr th:only-of-type {\n",
       "        vertical-align: middle;\n",
       "    }\n",
       "\n",
       "    .dataframe tbody tr th {\n",
       "        vertical-align: top;\n",
       "    }\n",
       "\n",
       "    .dataframe thead th {\n",
       "        text-align: right;\n",
       "    }\n",
       "</style>\n",
       "<table border=\"1\" class=\"dataframe\">\n",
       "  <thead>\n",
       "    <tr style=\"text-align: right;\">\n",
       "      <th></th>\n",
       "      <th>plh0215</th>\n",
       "      <th>plh0220</th>\n",
       "      <th>plh0225</th>\n",
       "      <th>plh0212</th>\n",
       "      <th>plh0218</th>\n",
       "      <th>plh0222</th>\n",
       "      <th>plh0213</th>\n",
       "      <th>plh0219</th>\n",
       "      <th>plh0223</th>\n",
       "      <th>plh0216</th>\n",
       "      <th>plh0221</th>\n",
       "      <th>plh0226</th>\n",
       "      <th>plh0214</th>\n",
       "      <th>plh0217</th>\n",
       "      <th>plh0224</th>\n",
       "    </tr>\n",
       "  </thead>\n",
       "  <tbody>\n",
       "    <tr>\n",
       "      <th>plh0215</th>\n",
       "      <td>1.000000</td>\n",
       "      <td>0.287344</td>\n",
       "      <td>0.432649</td>\n",
       "      <td>0.186443</td>\n",
       "      <td>0.051444</td>\n",
       "      <td>0.278673</td>\n",
       "      <td>0.361446</td>\n",
       "      <td>0.354531</td>\n",
       "      <td>0.176617</td>\n",
       "      <td>0.032976</td>\n",
       "      <td>-0.067464</td>\n",
       "      <td>-0.205231</td>\n",
       "      <td>-0.161275</td>\n",
       "      <td>0.127911</td>\n",
       "      <td>0.137920</td>\n",
       "    </tr>\n",
       "    <tr>\n",
       "      <th>plh0220</th>\n",
       "      <td>0.287344</td>\n",
       "      <td>1.000000</td>\n",
       "      <td>0.305450</td>\n",
       "      <td>0.083225</td>\n",
       "      <td>0.020209</td>\n",
       "      <td>0.114064</td>\n",
       "      <td>0.211630</td>\n",
       "      <td>0.195383</td>\n",
       "      <td>0.028430</td>\n",
       "      <td>0.049148</td>\n",
       "      <td>0.059241</td>\n",
       "      <td>-0.055628</td>\n",
       "      <td>0.056195</td>\n",
       "      <td>0.109104</td>\n",
       "      <td>0.164449</td>\n",
       "    </tr>\n",
       "    <tr>\n",
       "      <th>plh0225</th>\n",
       "      <td>0.432649</td>\n",
       "      <td>0.305450</td>\n",
       "      <td>1.000000</td>\n",
       "      <td>0.070134</td>\n",
       "      <td>-0.039176</td>\n",
       "      <td>0.150710</td>\n",
       "      <td>0.276246</td>\n",
       "      <td>0.292951</td>\n",
       "      <td>0.115723</td>\n",
       "      <td>0.057951</td>\n",
       "      <td>0.026514</td>\n",
       "      <td>-0.144749</td>\n",
       "      <td>-0.063224</td>\n",
       "      <td>0.113566</td>\n",
       "      <td>0.182183</td>\n",
       "    </tr>\n",
       "    <tr>\n",
       "      <th>plh0212</th>\n",
       "      <td>0.186443</td>\n",
       "      <td>0.083225</td>\n",
       "      <td>0.070134</td>\n",
       "      <td>1.000000</td>\n",
       "      <td>0.338475</td>\n",
       "      <td>0.499137</td>\n",
       "      <td>0.239527</td>\n",
       "      <td>0.143620</td>\n",
       "      <td>-0.039834</td>\n",
       "      <td>0.056072</td>\n",
       "      <td>-0.053857</td>\n",
       "      <td>-0.131028</td>\n",
       "      <td>0.048624</td>\n",
       "      <td>0.143199</td>\n",
       "      <td>0.243466</td>\n",
       "    </tr>\n",
       "    <tr>\n",
       "      <th>plh0218</th>\n",
       "      <td>0.051444</td>\n",
       "      <td>0.020209</td>\n",
       "      <td>-0.039176</td>\n",
       "      <td>0.338475</td>\n",
       "      <td>1.000000</td>\n",
       "      <td>0.279663</td>\n",
       "      <td>0.134335</td>\n",
       "      <td>0.065721</td>\n",
       "      <td>0.011999</td>\n",
       "      <td>0.023077</td>\n",
       "      <td>-0.113951</td>\n",
       "      <td>-0.053321</td>\n",
       "      <td>0.179210</td>\n",
       "      <td>0.068080</td>\n",
       "      <td>0.159657</td>\n",
       "    </tr>\n",
       "    <tr>\n",
       "      <th>plh0222</th>\n",
       "      <td>0.278673</td>\n",
       "      <td>0.114064</td>\n",
       "      <td>0.150710</td>\n",
       "      <td>0.499137</td>\n",
       "      <td>0.279663</td>\n",
       "      <td>1.000000</td>\n",
       "      <td>0.269157</td>\n",
       "      <td>0.246265</td>\n",
       "      <td>-0.008222</td>\n",
       "      <td>0.038786</td>\n",
       "      <td>-0.054854</td>\n",
       "      <td>-0.193712</td>\n",
       "      <td>0.032763</td>\n",
       "      <td>0.167903</td>\n",
       "      <td>0.301955</td>\n",
       "    </tr>\n",
       "    <tr>\n",
       "      <th>plh0213</th>\n",
       "      <td>0.361446</td>\n",
       "      <td>0.211630</td>\n",
       "      <td>0.276246</td>\n",
       "      <td>0.239527</td>\n",
       "      <td>0.134335</td>\n",
       "      <td>0.269157</td>\n",
       "      <td>1.000000</td>\n",
       "      <td>0.585091</td>\n",
       "      <td>0.323841</td>\n",
       "      <td>0.034199</td>\n",
       "      <td>-0.041869</td>\n",
       "      <td>-0.164678</td>\n",
       "      <td>-0.038913</td>\n",
       "      <td>0.184413</td>\n",
       "      <td>0.254381</td>\n",
       "    </tr>\n",
       "    <tr>\n",
       "      <th>plh0219</th>\n",
       "      <td>0.354531</td>\n",
       "      <td>0.195383</td>\n",
       "      <td>0.292951</td>\n",
       "      <td>0.143620</td>\n",
       "      <td>0.065721</td>\n",
       "      <td>0.246265</td>\n",
       "      <td>0.585091</td>\n",
       "      <td>1.000000</td>\n",
       "      <td>0.340899</td>\n",
       "      <td>-0.007684</td>\n",
       "      <td>-0.070290</td>\n",
       "      <td>-0.196615</td>\n",
       "      <td>-0.029909</td>\n",
       "      <td>0.207418</td>\n",
       "      <td>0.224573</td>\n",
       "    </tr>\n",
       "    <tr>\n",
       "      <th>plh0223</th>\n",
       "      <td>0.176617</td>\n",
       "      <td>0.028430</td>\n",
       "      <td>0.115723</td>\n",
       "      <td>-0.039834</td>\n",
       "      <td>0.011999</td>\n",
       "      <td>-0.008222</td>\n",
       "      <td>0.323841</td>\n",
       "      <td>0.340899</td>\n",
       "      <td>1.000000</td>\n",
       "      <td>-0.105790</td>\n",
       "      <td>-0.143479</td>\n",
       "      <td>-0.028839</td>\n",
       "      <td>-0.124881</td>\n",
       "      <td>-0.017304</td>\n",
       "      <td>-0.102067</td>\n",
       "    </tr>\n",
       "    <tr>\n",
       "      <th>plh0216</th>\n",
       "      <td>0.032976</td>\n",
       "      <td>0.049148</td>\n",
       "      <td>0.057951</td>\n",
       "      <td>0.056072</td>\n",
       "      <td>0.023077</td>\n",
       "      <td>0.038786</td>\n",
       "      <td>0.034199</td>\n",
       "      <td>-0.007684</td>\n",
       "      <td>-0.105790</td>\n",
       "      <td>1.000000</td>\n",
       "      <td>0.387670</td>\n",
       "      <td>0.270643</td>\n",
       "      <td>-0.104200</td>\n",
       "      <td>0.049868</td>\n",
       "      <td>0.064486</td>\n",
       "    </tr>\n",
       "    <tr>\n",
       "      <th>plh0221</th>\n",
       "      <td>-0.067464</td>\n",
       "      <td>0.059241</td>\n",
       "      <td>0.026514</td>\n",
       "      <td>-0.053857</td>\n",
       "      <td>-0.113951</td>\n",
       "      <td>-0.054854</td>\n",
       "      <td>-0.041869</td>\n",
       "      <td>-0.070290</td>\n",
       "      <td>-0.143479</td>\n",
       "      <td>0.387670</td>\n",
       "      <td>1.000000</td>\n",
       "      <td>0.405344</td>\n",
       "      <td>-0.129392</td>\n",
       "      <td>-0.028395</td>\n",
       "      <td>-0.015758</td>\n",
       "    </tr>\n",
       "    <tr>\n",
       "      <th>plh0226</th>\n",
       "      <td>-0.205231</td>\n",
       "      <td>-0.055628</td>\n",
       "      <td>-0.144749</td>\n",
       "      <td>-0.131028</td>\n",
       "      <td>-0.053321</td>\n",
       "      <td>-0.193712</td>\n",
       "      <td>-0.164678</td>\n",
       "      <td>-0.196615</td>\n",
       "      <td>-0.028839</td>\n",
       "      <td>0.270643</td>\n",
       "      <td>0.405344</td>\n",
       "      <td>1.000000</td>\n",
       "      <td>-0.068880</td>\n",
       "      <td>-0.169291</td>\n",
       "      <td>-0.175524</td>\n",
       "    </tr>\n",
       "    <tr>\n",
       "      <th>plh0214</th>\n",
       "      <td>-0.161275</td>\n",
       "      <td>0.056195</td>\n",
       "      <td>-0.063224</td>\n",
       "      <td>0.048624</td>\n",
       "      <td>0.179210</td>\n",
       "      <td>0.032763</td>\n",
       "      <td>-0.038913</td>\n",
       "      <td>-0.029909</td>\n",
       "      <td>-0.124881</td>\n",
       "      <td>-0.104200</td>\n",
       "      <td>-0.129392</td>\n",
       "      <td>-0.068880</td>\n",
       "      <td>1.000000</td>\n",
       "      <td>0.124424</td>\n",
       "      <td>0.313393</td>\n",
       "    </tr>\n",
       "    <tr>\n",
       "      <th>plh0217</th>\n",
       "      <td>0.127911</td>\n",
       "      <td>0.109104</td>\n",
       "      <td>0.113566</td>\n",
       "      <td>0.143199</td>\n",
       "      <td>0.068080</td>\n",
       "      <td>0.167903</td>\n",
       "      <td>0.184413</td>\n",
       "      <td>0.207418</td>\n",
       "      <td>-0.017304</td>\n",
       "      <td>0.049868</td>\n",
       "      <td>-0.028395</td>\n",
       "      <td>-0.169291</td>\n",
       "      <td>0.124424</td>\n",
       "      <td>1.000000</td>\n",
       "      <td>0.292700</td>\n",
       "    </tr>\n",
       "    <tr>\n",
       "      <th>plh0224</th>\n",
       "      <td>0.137920</td>\n",
       "      <td>0.164449</td>\n",
       "      <td>0.182183</td>\n",
       "      <td>0.243466</td>\n",
       "      <td>0.159657</td>\n",
       "      <td>0.301955</td>\n",
       "      <td>0.254381</td>\n",
       "      <td>0.224573</td>\n",
       "      <td>-0.102067</td>\n",
       "      <td>0.064486</td>\n",
       "      <td>-0.015758</td>\n",
       "      <td>-0.175524</td>\n",
       "      <td>0.313393</td>\n",
       "      <td>0.292700</td>\n",
       "      <td>1.000000</td>\n",
       "    </tr>\n",
       "  </tbody>\n",
       "</table>\n",
       "</div>"
      ],
      "text/plain": [
       "          plh0215   plh0220   plh0225   plh0212   plh0218   plh0222   plh0213  \\\n",
       "plh0215  1.000000  0.287344  0.432649  0.186443  0.051444  0.278673  0.361446   \n",
       "plh0220  0.287344  1.000000  0.305450  0.083225  0.020209  0.114064  0.211630   \n",
       "plh0225  0.432649  0.305450  1.000000  0.070134 -0.039176  0.150710  0.276246   \n",
       "plh0212  0.186443  0.083225  0.070134  1.000000  0.338475  0.499137  0.239527   \n",
       "plh0218  0.051444  0.020209 -0.039176  0.338475  1.000000  0.279663  0.134335   \n",
       "plh0222  0.278673  0.114064  0.150710  0.499137  0.279663  1.000000  0.269157   \n",
       "plh0213  0.361446  0.211630  0.276246  0.239527  0.134335  0.269157  1.000000   \n",
       "plh0219  0.354531  0.195383  0.292951  0.143620  0.065721  0.246265  0.585091   \n",
       "plh0223  0.176617  0.028430  0.115723 -0.039834  0.011999 -0.008222  0.323841   \n",
       "plh0216  0.032976  0.049148  0.057951  0.056072  0.023077  0.038786  0.034199   \n",
       "plh0221 -0.067464  0.059241  0.026514 -0.053857 -0.113951 -0.054854 -0.041869   \n",
       "plh0226 -0.205231 -0.055628 -0.144749 -0.131028 -0.053321 -0.193712 -0.164678   \n",
       "plh0214 -0.161275  0.056195 -0.063224  0.048624  0.179210  0.032763 -0.038913   \n",
       "plh0217  0.127911  0.109104  0.113566  0.143199  0.068080  0.167903  0.184413   \n",
       "plh0224  0.137920  0.164449  0.182183  0.243466  0.159657  0.301955  0.254381   \n",
       "\n",
       "          plh0219   plh0223   plh0216   plh0221   plh0226   plh0214   plh0217  \\\n",
       "plh0215  0.354531  0.176617  0.032976 -0.067464 -0.205231 -0.161275  0.127911   \n",
       "plh0220  0.195383  0.028430  0.049148  0.059241 -0.055628  0.056195  0.109104   \n",
       "plh0225  0.292951  0.115723  0.057951  0.026514 -0.144749 -0.063224  0.113566   \n",
       "plh0212  0.143620 -0.039834  0.056072 -0.053857 -0.131028  0.048624  0.143199   \n",
       "plh0218  0.065721  0.011999  0.023077 -0.113951 -0.053321  0.179210  0.068080   \n",
       "plh0222  0.246265 -0.008222  0.038786 -0.054854 -0.193712  0.032763  0.167903   \n",
       "plh0213  0.585091  0.323841  0.034199 -0.041869 -0.164678 -0.038913  0.184413   \n",
       "plh0219  1.000000  0.340899 -0.007684 -0.070290 -0.196615 -0.029909  0.207418   \n",
       "plh0223  0.340899  1.000000 -0.105790 -0.143479 -0.028839 -0.124881 -0.017304   \n",
       "plh0216 -0.007684 -0.105790  1.000000  0.387670  0.270643 -0.104200  0.049868   \n",
       "plh0221 -0.070290 -0.143479  0.387670  1.000000  0.405344 -0.129392 -0.028395   \n",
       "plh0226 -0.196615 -0.028839  0.270643  0.405344  1.000000 -0.068880 -0.169291   \n",
       "plh0214 -0.029909 -0.124881 -0.104200 -0.129392 -0.068880  1.000000  0.124424   \n",
       "plh0217  0.207418 -0.017304  0.049868 -0.028395 -0.169291  0.124424  1.000000   \n",
       "plh0224  0.224573 -0.102067  0.064486 -0.015758 -0.175524  0.313393  0.292700   \n",
       "\n",
       "          plh0224  \n",
       "plh0215  0.137920  \n",
       "plh0220  0.164449  \n",
       "plh0225  0.182183  \n",
       "plh0212  0.243466  \n",
       "plh0218  0.159657  \n",
       "plh0222  0.301955  \n",
       "plh0213  0.254381  \n",
       "plh0219  0.224573  \n",
       "plh0223 -0.102067  \n",
       "plh0216  0.064486  \n",
       "plh0221 -0.015758  \n",
       "plh0226 -0.175524  \n",
       "plh0214  0.313393  \n",
       "plh0217  0.292700  \n",
       "plh0224  1.000000  "
      ]
     },
     "execution_count": 56,
     "metadata": {},
     "output_type": "execute_result"
    }
   ],
   "source": [
    "df_31.corr()"
   ]
  },
  {
   "cell_type": "code",
   "execution_count": 57,
   "metadata": {},
   "outputs": [
    {
     "data": {
      "image/png": "[encoded data removed]",
      "text/plain": [
       "<Figure size 720x720 with 2 Axes>"
      ]
     },
     "metadata": {
      "needs_background": "light"
     },
     "output_type": "display_data"
    }
   ],
   "source": [
    "fig, ax = plt.subplots(figsize=(10,10)) \n",
    "sns.heatmap(df_31.corr(), annot=True, linewidths=.5, cmap=\"YlGnBu\");"
   ]
  },
  {
   "cell_type": "code",
   "execution_count": 58,
   "metadata": {},
   "outputs": [],
   "source": [
    "#Estimating Cronbach's Alpha for the Big5"
   ]
  },
  {
   "cell_type": "code",
   "execution_count": 59,
   "metadata": {},
   "outputs": [
    {
     "name": "stdout",
     "output_type": "stream",
     "text": [
      "(0.5947621074502705, array([0.582, 0.607]))\n"
     ]
    }
   ],
   "source": [
    "#Cronbach's Alpha for Openness\n",
    "factors_big5_open = df_3[['plh0215','plh0220','plh0225']]\n",
    "alpha_big5_1 = pg.cronbach_alpha(factors_big5_open)\n",
    "print(alpha_big5_1)"
   ]
  },
  {
   "cell_type": "code",
   "execution_count": 60,
   "metadata": {},
   "outputs": [
    {
     "name": "stdout",
     "output_type": "stream",
     "text": [
      "(0.5980814795725002, array([0.586, 0.61 ]))\n"
     ]
    }
   ],
   "source": [
    "#Cronbach's Alpha for Conscientiousness\n",
    "factors_big5_consc = df_3[['plh0212','plh0218','plh0222']]\n",
    "alpha_big5_2 = pg.cronbach_alpha(factors_big5_consc)\n",
    "print(alpha_big5_2)"
   ]
  },
  {
   "cell_type": "code",
   "execution_count": 61,
   "metadata": {},
   "outputs": [
    {
     "name": "stdout",
     "output_type": "stream",
     "text": [
      "(0.6717852480269318, array([0.662, 0.682]))\n"
     ]
    }
   ],
   "source": [
    "#Cronbach's Alpha for Extraversion\n",
    "factors_big5_extra = df_3[['plh0213', 'plh0219','plh0223']]\n",
    "alpha_big5_3 = pg.cronbach_alpha(factors_big5_extra)\n",
    "print(alpha_big5_3)"
   ]
  },
  {
   "cell_type": "code",
   "execution_count": 62,
   "metadata": {},
   "outputs": [
    {
     "name": "stdout",
     "output_type": "stream",
     "text": [
      "(0.621194790179767, array([0.61 , 0.633]))\n"
     ]
    }
   ],
   "source": [
    "#Cronbach's Alpha for Neuroticism\n",
    "factors_big5_neuro = df_3[['plh0216','plh0221','plh0226']]\n",
    "alpha_big5_4 = pg.cronbach_alpha(factors_big5_neuro)\n",
    "print(alpha_big5_4)"
   ]
  },
  {
   "cell_type": "code",
   "execution_count": 63,
   "metadata": {},
   "outputs": [
    {
     "name": "stdout",
     "output_type": "stream",
     "text": [
      "(0.45186834512883456, array([0.435, 0.468]))\n"
     ]
    }
   ],
   "source": [
    "#Cronbach's Alpha for Agreeableness\n",
    "factors_big5_agree = df_3[['plh0214','plh0217','plh0224']]\n",
    "alpha_big5_5 = pg.cronbach_alpha(factors_big5_agree)\n",
    "print(alpha_big5_5)"
   ]
  },
  {
   "cell_type": "code",
   "execution_count": 64,
   "metadata": {},
   "outputs": [],
   "source": [
    "#Creating new dataframe for Grit, Entrepreneurship  and Big5"
   ]
  },
  {
   "cell_type": "code",
   "execution_count": 65,
   "metadata": {},
   "outputs": [],
   "source": [
    "df_11= df[['pid','syear','sex','gebjahr','pgstib','biss1','biss2',\n",
    "           'biss3','biss4','biss5','biss6','biss7','biss8','plh0215','plh0220',\n",
    "          'plh0225','plh0212','plh0218','plh0222',\n",
    "           'plh0213','plh0219','plh0223','plh0216',\n",
    "           'plh0221','plh0226','plh0214','plh0217','plh0224']]"
   ]
  },
  {
   "cell_type": "code",
   "execution_count": 66,
   "metadata": {},
   "outputs": [],
   "source": [
    "#cleaning the df_11 \n",
    "df_11 = df_11.drop(df_11[df_11.isin({-5}).any(1)].index)\n",
    "df_11 = df_11.drop(df_11[df_11.isin({-2}).any(1)].index)\n",
    "df_11 = df_11.drop(df_11[df_11.isin({-1}).any(1)].index)"
   ]
  },
  {
   "cell_type": "code",
   "execution_count": 67,
   "metadata": {},
   "outputs": [],
   "source": [
    "#Recoding some items of big5\n",
    "df_11['plh0218'] = df_11['plh0218'].transform(lambda x: 8-x)\n",
    "df_11['plh0223'] = df_11['plh0223'].transform(lambda x: 8-x)\n",
    "df_11['plh0226'] = df_11['plh0226'].transform(lambda x: 8-x)\n",
    "df_11['plh0214'] = df_11['plh0214'].transform(lambda x: 8-x)"
   ]
  },
  {
   "cell_type": "code",
   "execution_count": 68,
   "metadata": {},
   "outputs": [],
   "source": [
    "#Recoding items of Entrepreneurship (Self employed and employed)\n",
    "df_11 = df_11.replace(to_replace =[411, 412, 413, 421, 422, 423, 431, 432, 433],value = 1)\n",
    "df_11 = df_11.replace(to_replace =[520, 521, 522, 530, 540, 550, 610, 620, 630, 640],value = 2)"
   ]
  },
  {
   "cell_type": "code",
   "execution_count": 69,
   "metadata": {},
   "outputs": [
    {
     "data": {
      "text/html": [
       "<div>\n",
       "<style scoped>\n",
       "    .dataframe tbody tr th:only-of-type {\n",
       "        vertical-align: middle;\n",
       "    }\n",
       "\n",
       "    .dataframe tbody tr th {\n",
       "        vertical-align: top;\n",
       "    }\n",
       "\n",
       "    .dataframe thead th {\n",
       "        text-align: right;\n",
       "    }\n",
       "</style>\n",
       "<table border=\"1\" class=\"dataframe\">\n",
       "  <thead>\n",
       "    <tr style=\"text-align: right;\">\n",
       "      <th></th>\n",
       "      <th>pid</th>\n",
       "      <th>syear</th>\n",
       "      <th>sex</th>\n",
       "      <th>gebjahr</th>\n",
       "      <th>pgstib</th>\n",
       "      <th>biss1</th>\n",
       "      <th>biss2</th>\n",
       "      <th>biss3</th>\n",
       "      <th>biss4</th>\n",
       "      <th>biss5</th>\n",
       "      <th>...</th>\n",
       "      <th>plh0222</th>\n",
       "      <th>plh0213</th>\n",
       "      <th>plh0219</th>\n",
       "      <th>plh0223</th>\n",
       "      <th>plh0216</th>\n",
       "      <th>plh0221</th>\n",
       "      <th>plh0226</th>\n",
       "      <th>plh0214</th>\n",
       "      <th>plh0217</th>\n",
       "      <th>plh0224</th>\n",
       "    </tr>\n",
       "  </thead>\n",
       "  <tbody>\n",
       "    <tr>\n",
       "      <th>51</th>\n",
       "      <td>2001401</td>\n",
       "      <td>2015</td>\n",
       "      <td>1</td>\n",
       "      <td>1955</td>\n",
       "      <td>2</td>\n",
       "      <td>1</td>\n",
       "      <td>1</td>\n",
       "      <td>1</td>\n",
       "      <td>1</td>\n",
       "      <td>5</td>\n",
       "      <td>...</td>\n",
       "      <td>7</td>\n",
       "      <td>5</td>\n",
       "      <td>3</td>\n",
       "      <td>4</td>\n",
       "      <td>4</td>\n",
       "      <td>2</td>\n",
       "      <td>5</td>\n",
       "      <td>6</td>\n",
       "      <td>5</td>\n",
       "      <td>6</td>\n",
       "    </tr>\n",
       "    <tr>\n",
       "      <th>73</th>\n",
       "      <td>2001402</td>\n",
       "      <td>2015</td>\n",
       "      <td>2</td>\n",
       "      <td>1957</td>\n",
       "      <td>2</td>\n",
       "      <td>1</td>\n",
       "      <td>1</td>\n",
       "      <td>2</td>\n",
       "      <td>1</td>\n",
       "      <td>5</td>\n",
       "      <td>...</td>\n",
       "      <td>6</td>\n",
       "      <td>5</td>\n",
       "      <td>5</td>\n",
       "      <td>4</td>\n",
       "      <td>2</td>\n",
       "      <td>2</td>\n",
       "      <td>2</td>\n",
       "      <td>6</td>\n",
       "      <td>7</td>\n",
       "      <td>5</td>\n",
       "    </tr>\n",
       "    <tr>\n",
       "      <th>79</th>\n",
       "      <td>2001403</td>\n",
       "      <td>2015</td>\n",
       "      <td>1</td>\n",
       "      <td>1996</td>\n",
       "      <td>10</td>\n",
       "      <td>2</td>\n",
       "      <td>2</td>\n",
       "      <td>2</td>\n",
       "      <td>1</td>\n",
       "      <td>4</td>\n",
       "      <td>...</td>\n",
       "      <td>6</td>\n",
       "      <td>5</td>\n",
       "      <td>4</td>\n",
       "      <td>3</td>\n",
       "      <td>6</td>\n",
       "      <td>2</td>\n",
       "      <td>2</td>\n",
       "      <td>4</td>\n",
       "      <td>5</td>\n",
       "      <td>6</td>\n",
       "    </tr>\n",
       "    <tr>\n",
       "      <th>101</th>\n",
       "      <td>2005001</td>\n",
       "      <td>2015</td>\n",
       "      <td>2</td>\n",
       "      <td>1949</td>\n",
       "      <td>13</td>\n",
       "      <td>2</td>\n",
       "      <td>3</td>\n",
       "      <td>2</td>\n",
       "      <td>3</td>\n",
       "      <td>3</td>\n",
       "      <td>...</td>\n",
       "      <td>6</td>\n",
       "      <td>6</td>\n",
       "      <td>6</td>\n",
       "      <td>3</td>\n",
       "      <td>4</td>\n",
       "      <td>3</td>\n",
       "      <td>3</td>\n",
       "      <td>5</td>\n",
       "      <td>6</td>\n",
       "      <td>7</td>\n",
       "    </tr>\n",
       "    <tr>\n",
       "      <th>130</th>\n",
       "      <td>2006701</td>\n",
       "      <td>2015</td>\n",
       "      <td>2</td>\n",
       "      <td>1962</td>\n",
       "      <td>2</td>\n",
       "      <td>4</td>\n",
       "      <td>2</td>\n",
       "      <td>1</td>\n",
       "      <td>1</td>\n",
       "      <td>5</td>\n",
       "      <td>...</td>\n",
       "      <td>5</td>\n",
       "      <td>6</td>\n",
       "      <td>5</td>\n",
       "      <td>3</td>\n",
       "      <td>6</td>\n",
       "      <td>2</td>\n",
       "      <td>5</td>\n",
       "      <td>3</td>\n",
       "      <td>6</td>\n",
       "      <td>6</td>\n",
       "    </tr>\n",
       "  </tbody>\n",
       "</table>\n",
       "<p>5 rows × 28 columns</p>\n",
       "</div>"
      ],
      "text/plain": [
       "         pid  syear  sex  gebjahr  pgstib  biss1  biss2  biss3  biss4  biss5  \\\n",
       "51   2001401   2015    1     1955       2      1      1      1      1      5   \n",
       "73   2001402   2015    2     1957       2      1      1      2      1      5   \n",
       "79   2001403   2015    1     1996      10      2      2      2      1      4   \n",
       "101  2005001   2015    2     1949      13      2      3      2      3      3   \n",
       "130  2006701   2015    2     1962       2      4      2      1      1      5   \n",
       "\n",
       "     ...  plh0222  plh0213  plh0219  plh0223  plh0216  plh0221  plh0226  \\\n",
       "51   ...        7        5        3        4        4        2        5   \n",
       "73   ...        6        5        5        4        2        2        2   \n",
       "79   ...        6        5        4        3        6        2        2   \n",
       "101  ...        6        6        6        3        4        3        3   \n",
       "130  ...        5        6        5        3        6        2        5   \n",
       "\n",
       "     plh0214  plh0217  plh0224  \n",
       "51         6        5        6  \n",
       "73         6        7        5  \n",
       "79         4        5        6  \n",
       "101        5        6        7  \n",
       "130        3        6        6  \n",
       "\n",
       "[5 rows x 28 columns]"
      ]
     },
     "execution_count": 69,
     "metadata": {},
     "output_type": "execute_result"
    }
   ],
   "source": [
    "df_11.head()"
   ]
  },
  {
   "cell_type": "code",
   "execution_count": 70,
   "metadata": {},
   "outputs": [],
   "source": [
    "#Getting the mean of grit and big5 items\n",
    "df_11[\"grit1\"] = (df_11[\"biss1\"]+df_11[\"biss2\"]+df_11[\"biss3\"]+df_11[\"biss4\"])/4\n",
    "df_11[\"grit2\"] = (df_11[\"biss5\"]+df_11[\"biss6\"]+df_11[\"biss7\"]+df_11[\"biss8\"])/4\n",
    "df_11[\"openn\"] = (df_11[\"plh0215\"]+df_11[\"plh0220\"]+df_11[\"plh0225\"])/3\n",
    "df_11[\"consc\"] = (df_11[\"plh0212\"]+df_11[\"plh0218\"]+df_11[\"plh0222\"])/3\n",
    "df_11[\"extra\"] = (df_11[\"plh0213\"]+df_11[\"plh0219\"]+df_11[\"plh0223\"])/3\n",
    "df_11[\"neuro\"] = (df_11[\"plh0216\"]+df_11[\"plh0221\"]+df_11[\"plh0226\"])/3\n",
    "df_11[\"agree\"] = (df_11[\"plh0214\"]+df_11[\"plh0217\"]+df_11[\"plh0224\"])/3\n"
   ]
  },
  {
   "cell_type": "code",
   "execution_count": 71,
   "metadata": {},
   "outputs": [
    {
     "data": {
      "text/plain": [
       "(1816, 35)"
      ]
     },
     "execution_count": 71,
     "metadata": {},
     "output_type": "execute_result"
    }
   ],
   "source": [
    "df_11.shape"
   ]
  },
  {
   "cell_type": "code",
   "execution_count": 72,
   "metadata": {},
   "outputs": [],
   "source": [
    "#getting the age \n",
    "df_11['age'] = df_11[\"syear\"] - df_11['gebjahr']"
   ]
  },
  {
   "cell_type": "code",
   "execution_count": 73,
   "metadata": {},
   "outputs": [
    {
     "data": {
      "text/plain": [
       "77"
      ]
     },
     "execution_count": 73,
     "metadata": {},
     "output_type": "execute_result"
    }
   ],
   "source": [
    "#getting the number of unique ages in df_11\n",
    "len(df_11.age.unique())"
   ]
  },
  {
   "cell_type": "code",
   "execution_count": 74,
   "metadata": {},
   "outputs": [
    {
     "data": {
      "text/plain": [
       "17"
      ]
     },
     "execution_count": 74,
     "metadata": {},
     "output_type": "execute_result"
    }
   ],
   "source": [
    "#getting the minimum age in df_11\n",
    "df_11.age.min()"
   ]
  },
  {
   "cell_type": "code",
   "execution_count": 75,
   "metadata": {},
   "outputs": [
    {
     "data": {
      "text/plain": [
       "94"
      ]
     },
     "execution_count": 75,
     "metadata": {},
     "output_type": "execute_result"
    }
   ],
   "source": [
    "#getting the maximum age in df_11\n",
    "df_11.age.max()"
   ]
  },
  {
   "cell_type": "code",
   "execution_count": 76,
   "metadata": {},
   "outputs": [],
   "source": [
    "#choosing the age bracket for our analysis\n",
    "df_11 = df_11[(df_11['age'] >= 25) & (df_11['age'] <= 65)]"
   ]
  },
  {
   "cell_type": "code",
   "execution_count": 77,
   "metadata": {},
   "outputs": [
    {
     "data": {
      "text/plain": [
       "25"
      ]
     },
     "execution_count": 77,
     "metadata": {},
     "output_type": "execute_result"
    }
   ],
   "source": [
    "#confirming the new age bracket\n",
    "df_11.age.min()"
   ]
  },
  {
   "cell_type": "code",
   "execution_count": 78,
   "metadata": {},
   "outputs": [
    {
     "data": {
      "text/plain": [
       "65"
      ]
     },
     "execution_count": 78,
     "metadata": {},
     "output_type": "execute_result"
    }
   ],
   "source": [
    "#confirming the new age bracket\n",
    "df_11.age.max()"
   ]
  },
  {
   "cell_type": "code",
   "execution_count": 79,
   "metadata": {},
   "outputs": [],
   "source": [
    "#dropping some variables \n",
    "df_11.drop(['biss1','biss2',\n",
    "           'biss3','biss4','biss5','biss6','biss7','biss8','plh0215','plh0220',\n",
    "          'plh0225','plh0212','plh0218','plh0222',\n",
    "           'plh0213','plh0219','plh0223','plh0216',\n",
    "           'plh0221','plh0226','plh0214','plh0217','plh0224','gebjahr'], axis='columns', inplace=True)"
   ]
  },
  {
   "cell_type": "code",
   "execution_count": 80,
   "metadata": {},
   "outputs": [],
   "source": [
    "#creating a self empoyed dataset \n",
    "df_11_self = df_11[df_11[\"pgstib\"]==1]"
   ]
  },
  {
   "cell_type": "code",
   "execution_count": 81,
   "metadata": {},
   "outputs": [
    {
     "data": {
      "text/plain": [
       "(82, 12)"
      ]
     },
     "execution_count": 81,
     "metadata": {},
     "output_type": "execute_result"
    }
   ],
   "source": [
    "#shape of self-employed dataset\n",
    "df_11_self.shape"
   ]
  },
  {
   "cell_type": "code",
   "execution_count": 82,
   "metadata": {},
   "outputs": [],
   "source": [
    "#creating employed dataset\n",
    "df_11_employed = df_11[df_11[\"pgstib\"]==2]"
   ]
  },
  {
   "cell_type": "code",
   "execution_count": 83,
   "metadata": {},
   "outputs": [
    {
     "data": {
      "text/plain": [
       "(639, 12)"
      ]
     },
     "execution_count": 83,
     "metadata": {},
     "output_type": "execute_result"
    }
   ],
   "source": [
    "#shape of employed dataset\n",
    "df_11_employed.shape"
   ]
  },
  {
   "cell_type": "code",
   "execution_count": 84,
   "metadata": {},
   "outputs": [
    {
     "data": {
      "text/html": [
       "<div>\n",
       "<style scoped>\n",
       "    .dataframe tbody tr th:only-of-type {\n",
       "        vertical-align: middle;\n",
       "    }\n",
       "\n",
       "    .dataframe tbody tr th {\n",
       "        vertical-align: top;\n",
       "    }\n",
       "\n",
       "    .dataframe thead th {\n",
       "        text-align: right;\n",
       "    }\n",
       "</style>\n",
       "<table border=\"1\" class=\"dataframe\">\n",
       "  <thead>\n",
       "    <tr style=\"text-align: right;\">\n",
       "      <th></th>\n",
       "      <th>pid</th>\n",
       "      <th>syear</th>\n",
       "      <th>sex</th>\n",
       "      <th>pgstib</th>\n",
       "      <th>grit1</th>\n",
       "      <th>grit2</th>\n",
       "      <th>openn</th>\n",
       "      <th>consc</th>\n",
       "      <th>extra</th>\n",
       "      <th>neuro</th>\n",
       "      <th>agree</th>\n",
       "      <th>age</th>\n",
       "    </tr>\n",
       "  </thead>\n",
       "  <tbody>\n",
       "    <tr>\n",
       "      <th>1048</th>\n",
       "      <td>2024101</td>\n",
       "      <td>2015</td>\n",
       "      <td>1</td>\n",
       "      <td>1</td>\n",
       "      <td>3.00</td>\n",
       "      <td>4.25</td>\n",
       "      <td>4.666667</td>\n",
       "      <td>7.000000</td>\n",
       "      <td>3.000000</td>\n",
       "      <td>2.000000</td>\n",
       "      <td>5.333333</td>\n",
       "      <td>61</td>\n",
       "    </tr>\n",
       "    <tr>\n",
       "      <th>1093</th>\n",
       "      <td>2024401</td>\n",
       "      <td>2015</td>\n",
       "      <td>2</td>\n",
       "      <td>1</td>\n",
       "      <td>2.75</td>\n",
       "      <td>4.25</td>\n",
       "      <td>4.666667</td>\n",
       "      <td>5.333333</td>\n",
       "      <td>3.666667</td>\n",
       "      <td>2.666667</td>\n",
       "      <td>4.666667</td>\n",
       "      <td>63</td>\n",
       "    </tr>\n",
       "    <tr>\n",
       "      <th>3757</th>\n",
       "      <td>2102501</td>\n",
       "      <td>2015</td>\n",
       "      <td>1</td>\n",
       "      <td>1</td>\n",
       "      <td>3.00</td>\n",
       "      <td>4.00</td>\n",
       "      <td>4.333333</td>\n",
       "      <td>6.000000</td>\n",
       "      <td>4.333333</td>\n",
       "      <td>4.000000</td>\n",
       "      <td>4.000000</td>\n",
       "      <td>46</td>\n",
       "    </tr>\n",
       "    <tr>\n",
       "      <th>4569</th>\n",
       "      <td>2124204</td>\n",
       "      <td>2015</td>\n",
       "      <td>1</td>\n",
       "      <td>1</td>\n",
       "      <td>1.00</td>\n",
       "      <td>4.25</td>\n",
       "      <td>5.000000</td>\n",
       "      <td>6.000000</td>\n",
       "      <td>6.000000</td>\n",
       "      <td>1.666667</td>\n",
       "      <td>6.000000</td>\n",
       "      <td>27</td>\n",
       "    </tr>\n",
       "    <tr>\n",
       "      <th>4714</th>\n",
       "      <td>2127401</td>\n",
       "      <td>2015</td>\n",
       "      <td>2</td>\n",
       "      <td>1</td>\n",
       "      <td>4.00</td>\n",
       "      <td>3.25</td>\n",
       "      <td>6.333333</td>\n",
       "      <td>5.333333</td>\n",
       "      <td>6.000000</td>\n",
       "      <td>5.666667</td>\n",
       "      <td>4.333333</td>\n",
       "      <td>54</td>\n",
       "    </tr>\n",
       "  </tbody>\n",
       "</table>\n",
       "</div>"
      ],
      "text/plain": [
       "          pid  syear  sex  pgstib  grit1  grit2     openn     consc     extra  \\\n",
       "1048  2024101   2015    1       1   3.00   4.25  4.666667  7.000000  3.000000   \n",
       "1093  2024401   2015    2       1   2.75   4.25  4.666667  5.333333  3.666667   \n",
       "3757  2102501   2015    1       1   3.00   4.00  4.333333  6.000000  4.333333   \n",
       "4569  2124204   2015    1       1   1.00   4.25  5.000000  6.000000  6.000000   \n",
       "4714  2127401   2015    2       1   4.00   3.25  6.333333  5.333333  6.000000   \n",
       "\n",
       "         neuro     agree  age  \n",
       "1048  2.000000  5.333333   61  \n",
       "1093  2.666667  4.666667   63  \n",
       "3757  4.000000  4.000000   46  \n",
       "4569  1.666667  6.000000   27  \n",
       "4714  5.666667  4.333333   54  "
      ]
     },
     "execution_count": 84,
     "metadata": {},
     "output_type": "execute_result"
    }
   ],
   "source": [
    "df_11_self.head()"
   ]
  },
  {
   "cell_type": "code",
   "execution_count": 85,
   "metadata": {},
   "outputs": [
    {
     "data": {
      "text/html": [
       "<div>\n",
       "<style scoped>\n",
       "    .dataframe tbody tr th:only-of-type {\n",
       "        vertical-align: middle;\n",
       "    }\n",
       "\n",
       "    .dataframe tbody tr th {\n",
       "        vertical-align: top;\n",
       "    }\n",
       "\n",
       "    .dataframe thead th {\n",
       "        text-align: right;\n",
       "    }\n",
       "</style>\n",
       "<table border=\"1\" class=\"dataframe\">\n",
       "  <thead>\n",
       "    <tr style=\"text-align: right;\">\n",
       "      <th></th>\n",
       "      <th>pid</th>\n",
       "      <th>syear</th>\n",
       "      <th>sex</th>\n",
       "      <th>pgstib</th>\n",
       "      <th>grit1</th>\n",
       "      <th>grit2</th>\n",
       "      <th>openn</th>\n",
       "      <th>consc</th>\n",
       "      <th>extra</th>\n",
       "      <th>neuro</th>\n",
       "      <th>agree</th>\n",
       "      <th>age</th>\n",
       "    </tr>\n",
       "  </thead>\n",
       "  <tbody>\n",
       "    <tr>\n",
       "      <th>51</th>\n",
       "      <td>2001401</td>\n",
       "      <td>2015</td>\n",
       "      <td>1</td>\n",
       "      <td>2</td>\n",
       "      <td>1.00</td>\n",
       "      <td>4.75</td>\n",
       "      <td>5.000000</td>\n",
       "      <td>7.000000</td>\n",
       "      <td>4.000000</td>\n",
       "      <td>3.666667</td>\n",
       "      <td>5.666667</td>\n",
       "      <td>60</td>\n",
       "    </tr>\n",
       "    <tr>\n",
       "      <th>73</th>\n",
       "      <td>2001402</td>\n",
       "      <td>2015</td>\n",
       "      <td>2</td>\n",
       "      <td>2</td>\n",
       "      <td>1.25</td>\n",
       "      <td>4.75</td>\n",
       "      <td>6.000000</td>\n",
       "      <td>6.000000</td>\n",
       "      <td>4.666667</td>\n",
       "      <td>2.000000</td>\n",
       "      <td>6.000000</td>\n",
       "      <td>58</td>\n",
       "    </tr>\n",
       "    <tr>\n",
       "      <th>130</th>\n",
       "      <td>2006701</td>\n",
       "      <td>2015</td>\n",
       "      <td>2</td>\n",
       "      <td>2</td>\n",
       "      <td>2.00</td>\n",
       "      <td>4.00</td>\n",
       "      <td>4.333333</td>\n",
       "      <td>5.000000</td>\n",
       "      <td>4.666667</td>\n",
       "      <td>4.333333</td>\n",
       "      <td>5.000000</td>\n",
       "      <td>53</td>\n",
       "    </tr>\n",
       "    <tr>\n",
       "      <th>151</th>\n",
       "      <td>2006703</td>\n",
       "      <td>2015</td>\n",
       "      <td>1</td>\n",
       "      <td>2</td>\n",
       "      <td>2.25</td>\n",
       "      <td>4.25</td>\n",
       "      <td>4.666667</td>\n",
       "      <td>5.666667</td>\n",
       "      <td>3.000000</td>\n",
       "      <td>2.666667</td>\n",
       "      <td>4.666667</td>\n",
       "      <td>51</td>\n",
       "    </tr>\n",
       "    <tr>\n",
       "      <th>336</th>\n",
       "      <td>2011202</td>\n",
       "      <td>2015</td>\n",
       "      <td>1</td>\n",
       "      <td>2</td>\n",
       "      <td>1.25</td>\n",
       "      <td>4.75</td>\n",
       "      <td>4.333333</td>\n",
       "      <td>7.000000</td>\n",
       "      <td>5.666667</td>\n",
       "      <td>3.333333</td>\n",
       "      <td>5.000000</td>\n",
       "      <td>39</td>\n",
       "    </tr>\n",
       "  </tbody>\n",
       "</table>\n",
       "</div>"
      ],
      "text/plain": [
       "         pid  syear  sex  pgstib  grit1  grit2     openn     consc     extra  \\\n",
       "51   2001401   2015    1       2   1.00   4.75  5.000000  7.000000  4.000000   \n",
       "73   2001402   2015    2       2   1.25   4.75  6.000000  6.000000  4.666667   \n",
       "130  2006701   2015    2       2   2.00   4.00  4.333333  5.000000  4.666667   \n",
       "151  2006703   2015    1       2   2.25   4.25  4.666667  5.666667  3.000000   \n",
       "336  2011202   2015    1       2   1.25   4.75  4.333333  7.000000  5.666667   \n",
       "\n",
       "        neuro     agree  age  \n",
       "51   3.666667  5.666667   60  \n",
       "73   2.000000  6.000000   58  \n",
       "130  4.333333  5.000000   53  \n",
       "151  2.666667  4.666667   51  \n",
       "336  3.333333  5.000000   39  "
      ]
     },
     "execution_count": 85,
     "metadata": {},
     "output_type": "execute_result"
    }
   ],
   "source": [
    "df_11_employed.head()"
   ]
  },
  {
   "cell_type": "code",
   "execution_count": 86,
   "metadata": {},
   "outputs": [],
   "source": [
    "#Analyzing linear relationship between Grit variables and control variables like big5, age"
   ]
  },
  {
   "cell_type": "code",
   "execution_count": 87,
   "metadata": {},
   "outputs": [
    {
     "data": {
      "image/png": "[encoded data removed]",
      "text/plain": [
       "<Figure size 432x288 with 1 Axes>"
      ]
     },
     "metadata": {
      "needs_background": "light"
     },
     "output_type": "display_data"
    }
   ],
   "source": [
    "from scipy import stats\n",
    "x = df_11_self[\"age\"]\n",
    "y = df_11_self[\"grit1\"]\n",
    "gradient, intercept, r_value, p_value, std_err = stats.linregress(x,y)\n",
    "mn=np.min(x)\n",
    "mx=np.max(x)\n",
    "x1=np.linspace(mn,mx,500)\n",
    "y1 = gradient*x1 + intercept\n",
    "plt.plot(x,y,'ob')\n",
    "plt.plot(x1, y1,'-r')\n",
    "plt.xlabel(\"age\")\n",
    "plt.ylabel(\"grit1\")\n",
    "plt.show()"
   ]
  },
  {
   "cell_type": "code",
   "execution_count": 88,
   "metadata": {},
   "outputs": [
    {
     "data": {
      "image/png": "[encoded data removed]",
      "text/plain": [
       "<Figure size 432x288 with 1 Axes>"
      ]
     },
     "metadata": {
      "needs_background": "light"
     },
     "output_type": "display_data"
    }
   ],
   "source": [
    "from scipy import stats\n",
    "x = df_11_self[\"age\"]\n",
    "y = df_11_self[\"grit2\"]\n",
    "gradient, intercept, r_value, p_value, std_err = stats.linregress(x,y)\n",
    "mn=np.min(x)\n",
    "mx=np.max(x)\n",
    "x1=np.linspace(mn,mx,500)\n",
    "y1 = gradient*x1 + intercept\n",
    "plt.plot(x,y,'ob')\n",
    "plt.plot(x1, y1,'-r')\n",
    "plt.xlabel(\"age\")\n",
    "plt.ylabel(\"grit2\")\n",
    "plt.show()"
   ]
  },
  {
   "cell_type": "code",
   "execution_count": 89,
   "metadata": {},
   "outputs": [
    {
     "data": {
      "image/png": "[encoded data removed]",
      "text/plain": [
       "<Figure size 432x288 with 1 Axes>"
      ]
     },
     "metadata": {
      "needs_background": "light"
     },
     "output_type": "display_data"
    }
   ],
   "source": [
    "from scipy import stats\n",
    "x = df_11_self[\"openn\"]\n",
    "y = df_11_self[\"grit1\"]\n",
    "gradient, intercept, r_value, p_value, std_err = stats.linregress(x,y)\n",
    "mn=np.min(x)\n",
    "mx=np.max(x)\n",
    "x1=np.linspace(mn,mx,500)\n",
    "y1 = gradient*x1 + intercept\n",
    "plt.plot(x,y,'ob')\n",
    "plt.plot(x1, y1,'-r')\n",
    "plt.xlabel(\"openn\")\n",
    "plt.ylabel(\"grit1\")\n",
    "plt.show()"
   ]
  },
  {
   "cell_type": "code",
   "execution_count": 90,
   "metadata": {},
   "outputs": [
    {
     "data": {
      "image/png": "[encoded data removed]",
      "text/plain": [
       "<Figure size 432x288 with 1 Axes>"
      ]
     },
     "metadata": {
      "needs_background": "light"
     },
     "output_type": "display_data"
    }
   ],
   "source": [
    "x = df_11_self[\"openn\"]\n",
    "y = df_11_self[\"grit2\"]\n",
    "gradient, intercept, r_value, p_value, std_err = stats.linregress(x,y)\n",
    "mn=np.min(x)\n",
    "mx=np.max(x)\n",
    "x1=np.linspace(mn,mx,500)\n",
    "y1 = gradient*x1 + intercept\n",
    "plt.plot(x,y,'ob')\n",
    "plt.plot(x1, y1,'-r')\n",
    "plt.xlabel(\"openn\")\n",
    "plt.ylabel(\"grit2\")\n",
    "plt.show()"
   ]
  },
  {
   "cell_type": "code",
   "execution_count": 91,
   "metadata": {},
   "outputs": [
    {
     "data": {
      "image/png": "[encoded data removed]",
      "text/plain": [
       "<Figure size 432x288 with 1 Axes>"
      ]
     },
     "metadata": {
      "needs_background": "light"
     },
     "output_type": "display_data"
    }
   ],
   "source": [
    "x = df_11_self[\"consc\"]\n",
    "y = df_11_self[\"grit1\"]\n",
    "gradient, intercept, r_value, p_value, std_err = stats.linregress(x,y)\n",
    "mn=np.min(x)\n",
    "mx=np.max(x)\n",
    "x1=np.linspace(mn,mx,500)\n",
    "y1 = gradient*x1 + intercept\n",
    "plt.plot(x,y,'ob')\n",
    "plt.plot(x1, y1,'-r')\n",
    "plt.xlabel(\"consc\")\n",
    "plt.ylabel(\"grit1\")\n",
    "plt.show()"
   ]
  },
  {
   "cell_type": "code",
   "execution_count": 92,
   "metadata": {},
   "outputs": [
    {
     "data": {
      "image/png": "[encoded data removed]",
      "text/plain": [
       "<Figure size 432x288 with 1 Axes>"
      ]
     },
     "metadata": {
      "needs_background": "light"
     },
     "output_type": "display_data"
    }
   ],
   "source": [
    "x = df_11_self[\"consc\"]\n",
    "y = df_11_self[\"grit2\"]\n",
    "gradient, intercept, r_value, p_value, std_err = stats.linregress(x,y)\n",
    "mn=np.min(x)\n",
    "mx=np.max(x)\n",
    "x1=np.linspace(mn,mx,500)\n",
    "y1 = gradient*x1 + intercept\n",
    "plt.plot(x,y,'ob')\n",
    "plt.plot(x1, y1,'-r')\n",
    "plt.xlabel(\"consc\")\n",
    "plt.ylabel(\"grit2\")\n",
    "plt.show()"
   ]
  },
  {
   "cell_type": "code",
   "execution_count": 93,
   "metadata": {},
   "outputs": [
    {
     "data": {
      "image/png": "[encoded data removed]",
      "text/plain": [
       "<Figure size 432x288 with 1 Axes>"
      ]
     },
     "metadata": {
      "needs_background": "light"
     },
     "output_type": "display_data"
    }
   ],
   "source": [
    "x = df_11_self[\"extra\"]\n",
    "y = df_11_self[\"grit1\"]\n",
    "gradient, intercept, r_value, p_value, std_err = stats.linregress(x,y)\n",
    "mn=np.min(x)\n",
    "mx=np.max(x)\n",
    "x1=np.linspace(mn,mx,500)\n",
    "y1 = gradient*x1 + intercept\n",
    "plt.plot(x,y,'ob')\n",
    "plt.plot(x1, y1,'-r')\n",
    "plt.xlabel(\"extra\")\n",
    "plt.ylabel(\"grit1\")\n",
    "plt.show()"
   ]
  },
  {
   "cell_type": "code",
   "execution_count": 94,
   "metadata": {},
   "outputs": [
    {
     "data": {
      "image/png": "[encoded data removed]",
      "text/plain": [
       "<Figure size 432x288 with 1 Axes>"
      ]
     },
     "metadata": {
      "needs_background": "light"
     },
     "output_type": "display_data"
    }
   ],
   "source": [
    "x = df_11_self[\"extra\"]\n",
    "y = df_11_self[\"grit2\"]\n",
    "gradient, intercept, r_value, p_value, std_err = stats.linregress(x,y)\n",
    "mn=np.min(x)\n",
    "mx=np.max(x)\n",
    "x1=np.linspace(mn,mx,500)\n",
    "y1 = gradient*x1 + intercept\n",
    "plt.plot(x,y,'ob')\n",
    "plt.plot(x1, y1,'-r')\n",
    "plt.xlabel(\"extra\")\n",
    "plt.ylabel(\"grit2\")\n",
    "plt.show()"
   ]
  },
  {
   "cell_type": "code",
   "execution_count": 95,
   "metadata": {},
   "outputs": [
    {
     "data": {
      "image/png": "[encoded data removed]",
      "text/plain": [
       "<Figure size 432x288 with 1 Axes>"
      ]
     },
     "metadata": {
      "needs_background": "light"
     },
     "output_type": "display_data"
    }
   ],
   "source": [
    "x = df_11_self[\"neuro\"]\n",
    "y = df_11_self[\"grit1\"]\n",
    "gradient, intercept, r_value, p_value, std_err = stats.linregress(x,y)\n",
    "mn=np.min(x)\n",
    "mx=np.max(x)\n",
    "x1=np.linspace(mn,mx,500)\n",
    "y1 = gradient*x1 + intercept\n",
    "plt.plot(x,y,'ob')\n",
    "plt.plot(x1, y1,'-r')\n",
    "plt.xlabel(\"neuro\")\n",
    "plt.ylabel(\"grit1\")\n",
    "plt.show()\n"
   ]
  },
  {
   "cell_type": "code",
   "execution_count": 96,
   "metadata": {},
   "outputs": [
    {
     "data": {
      "image/png": "[encoded data removed]",
      "text/plain": [
       "<Figure size 432x288 with 1 Axes>"
      ]
     },
     "metadata": {
      "needs_background": "light"
     },
     "output_type": "display_data"
    }
   ],
   "source": [
    "x = df_11_self[\"neuro\"]\n",
    "y = df_11_self[\"grit2\"]\n",
    "gradient, intercept, r_value, p_value, std_err = stats.linregress(x,y)\n",
    "mn=np.min(x)\n",
    "mx=np.max(x)\n",
    "x1=np.linspace(mn,mx,500)\n",
    "y1 = gradient*x1 + intercept\n",
    "plt.plot(x,y,'ob')\n",
    "plt.plot(x1, y1,'-r')\n",
    "plt.xlabel(\"neur0\")\n",
    "plt.ylabel(\"grit2\")\n",
    "plt.show()"
   ]
  },
  {
   "cell_type": "code",
   "execution_count": 97,
   "metadata": {},
   "outputs": [
    {
     "data": {
      "image/png": "[encoded data removed]",
      "text/plain": [
       "<Figure size 432x288 with 1 Axes>"
      ]
     },
     "metadata": {
      "needs_background": "light"
     },
     "output_type": "display_data"
    }
   ],
   "source": [
    "x = df_11_self[\"agree\"]\n",
    "y = df_11_self[\"grit1\"]\n",
    "gradient, intercept, r_value, p_value, std_err = stats.linregress(x,y)\n",
    "mn=np.min(x)\n",
    "mx=np.max(x)\n",
    "x1=np.linspace(mn,mx,500)\n",
    "y1 = gradient*x1 + intercept\n",
    "plt.plot(x,y,'ob')\n",
    "plt.plot(x1, y1,'-r')\n",
    "plt.xlabel(\"agree\")\n",
    "plt.ylabel(\"grit1\")\n",
    "plt.show()"
   ]
  },
  {
   "cell_type": "code",
   "execution_count": 98,
   "metadata": {},
   "outputs": [
    {
     "data": {
      "image/png": "[encoded data removed]",
      "text/plain": [
       "<Figure size 432x288 with 1 Axes>"
      ]
     },
     "metadata": {
      "needs_background": "light"
     },
     "output_type": "display_data"
    }
   ],
   "source": [
    "x = df_11_self[\"agree\"]\n",
    "y = df_11_self[\"grit2\"]\n",
    "gradient, intercept, r_value, p_value, std_err = stats.linregress(x,y)\n",
    "mn=np.min(x)\n",
    "mx=np.max(x)\n",
    "x1=np.linspace(mn,mx,500)\n",
    "y1 = gradient*x1 + intercept\n",
    "plt.plot(x,y,'ob')\n",
    "plt.plot(x1, y1,'-r')\n",
    "plt.xlabel(\"agree\")\n",
    "plt.ylabel(\"grit2\")\n",
    "plt.show()"
   ]
  },
  {
   "cell_type": "code",
   "execution_count": 99,
   "metadata": {},
   "outputs": [
    {
     "data": {
      "text/html": [
       "<div>\n",
       "<style scoped>\n",
       "    .dataframe tbody tr th:only-of-type {\n",
       "        vertical-align: middle;\n",
       "    }\n",
       "\n",
       "    .dataframe tbody tr th {\n",
       "        vertical-align: top;\n",
       "    }\n",
       "\n",
       "    .dataframe thead th {\n",
       "        text-align: right;\n",
       "    }\n",
       "</style>\n",
       "<table border=\"1\" class=\"dataframe\">\n",
       "  <thead>\n",
       "    <tr style=\"text-align: right;\">\n",
       "      <th></th>\n",
       "      <th>pid</th>\n",
       "      <th>syear</th>\n",
       "      <th>sex</th>\n",
       "      <th>pgstib</th>\n",
       "      <th>grit1</th>\n",
       "      <th>grit2</th>\n",
       "      <th>openn</th>\n",
       "      <th>consc</th>\n",
       "      <th>extra</th>\n",
       "      <th>neuro</th>\n",
       "      <th>agree</th>\n",
       "      <th>age</th>\n",
       "    </tr>\n",
       "  </thead>\n",
       "  <tbody>\n",
       "    <tr>\n",
       "      <th>1048</th>\n",
       "      <td>2024101</td>\n",
       "      <td>2015</td>\n",
       "      <td>1</td>\n",
       "      <td>1</td>\n",
       "      <td>3.00</td>\n",
       "      <td>4.25</td>\n",
       "      <td>4.666667</td>\n",
       "      <td>7.000000</td>\n",
       "      <td>3.000000</td>\n",
       "      <td>2.000000</td>\n",
       "      <td>5.333333</td>\n",
       "      <td>61</td>\n",
       "    </tr>\n",
       "    <tr>\n",
       "      <th>1093</th>\n",
       "      <td>2024401</td>\n",
       "      <td>2015</td>\n",
       "      <td>2</td>\n",
       "      <td>1</td>\n",
       "      <td>2.75</td>\n",
       "      <td>4.25</td>\n",
       "      <td>4.666667</td>\n",
       "      <td>5.333333</td>\n",
       "      <td>3.666667</td>\n",
       "      <td>2.666667</td>\n",
       "      <td>4.666667</td>\n",
       "      <td>63</td>\n",
       "    </tr>\n",
       "    <tr>\n",
       "      <th>3757</th>\n",
       "      <td>2102501</td>\n",
       "      <td>2015</td>\n",
       "      <td>1</td>\n",
       "      <td>1</td>\n",
       "      <td>3.00</td>\n",
       "      <td>4.00</td>\n",
       "      <td>4.333333</td>\n",
       "      <td>6.000000</td>\n",
       "      <td>4.333333</td>\n",
       "      <td>4.000000</td>\n",
       "      <td>4.000000</td>\n",
       "      <td>46</td>\n",
       "    </tr>\n",
       "    <tr>\n",
       "      <th>4569</th>\n",
       "      <td>2124204</td>\n",
       "      <td>2015</td>\n",
       "      <td>1</td>\n",
       "      <td>1</td>\n",
       "      <td>1.00</td>\n",
       "      <td>4.25</td>\n",
       "      <td>5.000000</td>\n",
       "      <td>6.000000</td>\n",
       "      <td>6.000000</td>\n",
       "      <td>1.666667</td>\n",
       "      <td>6.000000</td>\n",
       "      <td>27</td>\n",
       "    </tr>\n",
       "    <tr>\n",
       "      <th>4714</th>\n",
       "      <td>2127401</td>\n",
       "      <td>2015</td>\n",
       "      <td>2</td>\n",
       "      <td>1</td>\n",
       "      <td>4.00</td>\n",
       "      <td>3.25</td>\n",
       "      <td>6.333333</td>\n",
       "      <td>5.333333</td>\n",
       "      <td>6.000000</td>\n",
       "      <td>5.666667</td>\n",
       "      <td>4.333333</td>\n",
       "      <td>54</td>\n",
       "    </tr>\n",
       "  </tbody>\n",
       "</table>\n",
       "</div>"
      ],
      "text/plain": [
       "          pid  syear  sex  pgstib  grit1  grit2     openn     consc     extra  \\\n",
       "1048  2024101   2015    1       1   3.00   4.25  4.666667  7.000000  3.000000   \n",
       "1093  2024401   2015    2       1   2.75   4.25  4.666667  5.333333  3.666667   \n",
       "3757  2102501   2015    1       1   3.00   4.00  4.333333  6.000000  4.333333   \n",
       "4569  2124204   2015    1       1   1.00   4.25  5.000000  6.000000  6.000000   \n",
       "4714  2127401   2015    2       1   4.00   3.25  6.333333  5.333333  6.000000   \n",
       "\n",
       "         neuro     agree  age  \n",
       "1048  2.000000  5.333333   61  \n",
       "1093  2.666667  4.666667   63  \n",
       "3757  4.000000  4.000000   46  \n",
       "4569  1.666667  6.000000   27  \n",
       "4714  5.666667  4.333333   54  "
      ]
     },
     "execution_count": 99,
     "metadata": {},
     "output_type": "execute_result"
    }
   ],
   "source": [
    "df_11_self.head()"
   ]
  },
  {
   "cell_type": "code",
   "execution_count": 100,
   "metadata": {},
   "outputs": [
    {
     "data": {
      "text/plain": [
       "array([2015, 2017])"
      ]
     },
     "execution_count": 100,
     "metadata": {},
     "output_type": "execute_result"
    }
   ],
   "source": [
    "df_11_self.syear.unique()"
   ]
  },
  {
   "cell_type": "code",
   "execution_count": 101,
   "metadata": {},
   "outputs": [
    {
     "data": {
      "text/html": [
       "<div>\n",
       "<style scoped>\n",
       "    .dataframe tbody tr th:only-of-type {\n",
       "        vertical-align: middle;\n",
       "    }\n",
       "\n",
       "    .dataframe tbody tr th {\n",
       "        vertical-align: top;\n",
       "    }\n",
       "\n",
       "    .dataframe thead th {\n",
       "        text-align: right;\n",
       "    }\n",
       "</style>\n",
       "<table border=\"1\" class=\"dataframe\">\n",
       "  <thead>\n",
       "    <tr style=\"text-align: right;\">\n",
       "      <th></th>\n",
       "      <th>pid</th>\n",
       "      <th>syear</th>\n",
       "      <th>sex</th>\n",
       "      <th>pgstib</th>\n",
       "      <th>grit1</th>\n",
       "      <th>grit2</th>\n",
       "      <th>openn</th>\n",
       "      <th>consc</th>\n",
       "      <th>extra</th>\n",
       "      <th>neuro</th>\n",
       "      <th>agree</th>\n",
       "      <th>age</th>\n",
       "    </tr>\n",
       "  </thead>\n",
       "  <tbody>\n",
       "    <tr>\n",
       "      <th>1048</th>\n",
       "      <td>2024101</td>\n",
       "      <td>2015</td>\n",
       "      <td>1</td>\n",
       "      <td>1</td>\n",
       "      <td>3.00</td>\n",
       "      <td>4.25</td>\n",
       "      <td>4.666667</td>\n",
       "      <td>7.000000</td>\n",
       "      <td>3.000000</td>\n",
       "      <td>2.000000</td>\n",
       "      <td>5.333333</td>\n",
       "      <td>61</td>\n",
       "    </tr>\n",
       "    <tr>\n",
       "      <th>1093</th>\n",
       "      <td>2024401</td>\n",
       "      <td>2015</td>\n",
       "      <td>2</td>\n",
       "      <td>1</td>\n",
       "      <td>2.75</td>\n",
       "      <td>4.25</td>\n",
       "      <td>4.666667</td>\n",
       "      <td>5.333333</td>\n",
       "      <td>3.666667</td>\n",
       "      <td>2.666667</td>\n",
       "      <td>4.666667</td>\n",
       "      <td>63</td>\n",
       "    </tr>\n",
       "    <tr>\n",
       "      <th>3757</th>\n",
       "      <td>2102501</td>\n",
       "      <td>2015</td>\n",
       "      <td>1</td>\n",
       "      <td>1</td>\n",
       "      <td>3.00</td>\n",
       "      <td>4.00</td>\n",
       "      <td>4.333333</td>\n",
       "      <td>6.000000</td>\n",
       "      <td>4.333333</td>\n",
       "      <td>4.000000</td>\n",
       "      <td>4.000000</td>\n",
       "      <td>46</td>\n",
       "    </tr>\n",
       "    <tr>\n",
       "      <th>4569</th>\n",
       "      <td>2124204</td>\n",
       "      <td>2015</td>\n",
       "      <td>1</td>\n",
       "      <td>1</td>\n",
       "      <td>1.00</td>\n",
       "      <td>4.25</td>\n",
       "      <td>5.000000</td>\n",
       "      <td>6.000000</td>\n",
       "      <td>6.000000</td>\n",
       "      <td>1.666667</td>\n",
       "      <td>6.000000</td>\n",
       "      <td>27</td>\n",
       "    </tr>\n",
       "    <tr>\n",
       "      <th>4714</th>\n",
       "      <td>2127401</td>\n",
       "      <td>2015</td>\n",
       "      <td>2</td>\n",
       "      <td>1</td>\n",
       "      <td>4.00</td>\n",
       "      <td>3.25</td>\n",
       "      <td>6.333333</td>\n",
       "      <td>5.333333</td>\n",
       "      <td>6.000000</td>\n",
       "      <td>5.666667</td>\n",
       "      <td>4.333333</td>\n",
       "      <td>54</td>\n",
       "    </tr>\n",
       "  </tbody>\n",
       "</table>\n",
       "</div>"
      ],
      "text/plain": [
       "          pid  syear  sex  pgstib  grit1  grit2     openn     consc     extra  \\\n",
       "1048  2024101   2015    1       1   3.00   4.25  4.666667  7.000000  3.000000   \n",
       "1093  2024401   2015    2       1   2.75   4.25  4.666667  5.333333  3.666667   \n",
       "3757  2102501   2015    1       1   3.00   4.00  4.333333  6.000000  4.333333   \n",
       "4569  2124204   2015    1       1   1.00   4.25  5.000000  6.000000  6.000000   \n",
       "4714  2127401   2015    2       1   4.00   3.25  6.333333  5.333333  6.000000   \n",
       "\n",
       "         neuro     agree  age  \n",
       "1048  2.000000  5.333333   61  \n",
       "1093  2.666667  4.666667   63  \n",
       "3757  4.000000  4.000000   46  \n",
       "4569  1.666667  6.000000   27  \n",
       "4714  5.666667  4.333333   54  "
      ]
     },
     "execution_count": 101,
     "metadata": {},
     "output_type": "execute_result"
    }
   ],
   "source": [
    "df_11_self.head()"
   ]
  },
  {
   "cell_type": "code",
   "execution_count": 102,
   "metadata": {},
   "outputs": [
    {
     "data": {
      "text/plain": [
       "(82, 12)"
      ]
     },
     "execution_count": 102,
     "metadata": {},
     "output_type": "execute_result"
    }
   ],
   "source": [
    "df_11_self.shape"
   ]
  },
  {
   "cell_type": "code",
   "execution_count": 103,
   "metadata": {},
   "outputs": [
    {
     "data": {
      "text/plain": [
       "Index(['pid', 'syear', 'sex', 'pgstib', 'grit1', 'grit2', 'openn', 'consc',\n",
       "       'extra', 'neuro', 'agree', 'age'],\n",
       "      dtype='object')"
      ]
     },
     "execution_count": 103,
     "metadata": {},
     "output_type": "execute_result"
    }
   ],
   "source": [
    "df_11_self.columns"
   ]
  },
  {
   "cell_type": "code",
   "execution_count": 104,
   "metadata": {},
   "outputs": [
    {
     "data": {
      "text/plain": [
       "array([2015, 2017])"
      ]
     },
     "execution_count": 104,
     "metadata": {},
     "output_type": "execute_result"
    }
   ],
   "source": [
    "df_11_self['syear'].unique()"
   ]
  },
  {
   "cell_type": "code",
   "execution_count": 105,
   "metadata": {},
   "outputs": [
    {
     "data": {
      "text/plain": [
       "pid       0\n",
       "syear     0\n",
       "sex       0\n",
       "pgstib    0\n",
       "grit1     0\n",
       "grit2     0\n",
       "openn     0\n",
       "consc     0\n",
       "extra     0\n",
       "neuro     0\n",
       "agree     0\n",
       "age       0\n",
       "dtype: int64"
      ]
     },
     "execution_count": 105,
     "metadata": {},
     "output_type": "execute_result"
    }
   ],
   "source": [
    "df_11_self.isna().sum()"
   ]
  },
  {
   "cell_type": "code",
   "execution_count": 106,
   "metadata": {},
   "outputs": [],
   "source": [
    "syear = pd.Categorical(df_11_self.syear) \n",
    "df_11_self = df_11_self.set_index(['pid', 'syear']) \n",
    "df_11_self['syear'] = syear "
   ]
  },
  {
   "cell_type": "code",
   "execution_count": 107,
   "metadata": {},
   "outputs": [
    {
     "name": "stdout",
     "output_type": "stream",
     "text": [
      "<class 'pandas.core.frame.DataFrame'>\n",
      "MultiIndex: 55 entries, (2024101, 2015) to (9758002, 2015)\n",
      "Data columns (total 11 columns):\n",
      " #   Column  Non-Null Count  Dtype   \n",
      "---  ------  --------------  -----   \n",
      " 0   sex     55 non-null     int64   \n",
      " 1   pgstib  55 non-null     int64   \n",
      " 2   grit1   55 non-null     float64 \n",
      " 3   grit2   55 non-null     float64 \n",
      " 4   openn   55 non-null     float64 \n",
      " 5   consc   55 non-null     float64 \n",
      " 6   extra   55 non-null     float64 \n",
      " 7   neuro   55 non-null     float64 \n",
      " 8   agree   55 non-null     float64 \n",
      " 9   age     55 non-null     int64   \n",
      " 10  syear   55 non-null     category\n",
      "dtypes: category(1), float64(7), int64(3)\n",
      "memory usage: 5.3 KB\n"
     ]
    }
   ],
   "source": [
    "df_2015 = df_11_self[df_11_self[\"syear\"]==2015]\n",
    "df_2015.info()"
   ]
  },
  {
   "cell_type": "code",
   "execution_count": 108,
   "metadata": {},
   "outputs": [
    {
     "name": "stdout",
     "output_type": "stream",
     "text": [
      "<class 'pandas.core.frame.DataFrame'>\n",
      "MultiIndex: 27 entries, (41277601, 2017) to (41730002, 2017)\n",
      "Data columns (total 11 columns):\n",
      " #   Column  Non-Null Count  Dtype   \n",
      "---  ------  --------------  -----   \n",
      " 0   sex     27 non-null     int64   \n",
      " 1   pgstib  27 non-null     int64   \n",
      " 2   grit1   27 non-null     float64 \n",
      " 3   grit2   27 non-null     float64 \n",
      " 4   openn   27 non-null     float64 \n",
      " 5   consc   27 non-null     float64 \n",
      " 6   extra   27 non-null     float64 \n",
      " 7   neuro   27 non-null     float64 \n",
      " 8   agree   27 non-null     float64 \n",
      " 9   age     27 non-null     int64   \n",
      " 10  syear   27 non-null     category\n",
      "dtypes: category(1), float64(7), int64(3)\n",
      "memory usage: 3.1 KB\n"
     ]
    }
   ],
   "source": [
    "df_2017 = df_11_self[df_11_self[\"syear\"]==2017]\n",
    "df_2017.info()"
   ]
  },
  {
   "cell_type": "code",
   "execution_count": 109,
   "metadata": {},
   "outputs": [
    {
     "data": {
      "text/plain": [
       "(55, 11)"
      ]
     },
     "execution_count": 109,
     "metadata": {},
     "output_type": "execute_result"
    }
   ],
   "source": [
    "df_2015.shape"
   ]
  },
  {
   "cell_type": "code",
   "execution_count": 110,
   "metadata": {},
   "outputs": [],
   "source": [
    "# Multiple linear Regression on Grit and Entrepreneurship with Statsmodels"
   ]
  },
  {
   "cell_type": "markdown",
   "metadata": {},
   "source": [
    "# Grit1 & Self-Employed"
   ]
  },
  {
   "cell_type": "markdown",
   "metadata": {},
   "source": [
    "1st iteration: grit1"
   ]
  },
  {
   "cell_type": "code",
   "execution_count": 111,
   "metadata": {},
   "outputs": [
    {
     "name": "stdout",
     "output_type": "stream",
     "text": [
      "                          PanelOLS Estimation Summary                           \n",
      "================================================================================\n",
      "Dep. Variable:                 pgstib   R-squared:                        0.0000\n",
      "Estimator:                   PanelOLS   R-squared (Between):              0.0000\n",
      "No. Observations:                  82   R-squared (Within):               0.0000\n",
      "Date:                Tue, Jul 27 2021   R-squared (Overall):              0.0000\n",
      "Time:                        12:14:51   Log-likelihood                    2884.8\n",
      "Cov. Estimator:            Unadjusted                                           \n",
      "                                        F-statistic:                     -80.000\n",
      "Entities:                          82   P-value                           1.0000\n",
      "Avg Obs:                       1.0000   Distribution:                    F(1,80)\n",
      "Min Obs:                       1.0000                                           \n",
      "Max Obs:                       1.0000   F-statistic (robust):             5.8290\n",
      "                                        P-value                           0.0180\n",
      "Time periods:                       2   Distribution:                    F(1,80)\n",
      "Avg Obs:                       41.000                                           \n",
      "Min Obs:                       27.000                                           \n",
      "Max Obs:                       55.000                                           \n",
      "                                                                                \n",
      "                             Parameter Estimates                              \n",
      "==============================================================================\n",
      "            Parameter  Std. Err.     T-stat    P-value    Lower CI    Upper CI\n",
      "------------------------------------------------------------------------------\n",
      "const          1.0000  4.305e-17  2.323e+16     0.0000      1.0000      1.0000\n",
      "grit1        3.66e-17  1.516e-17     2.4143     0.0180   6.432e-18   6.677e-17\n",
      "==============================================================================\n",
      "\n",
      "\n"
     ]
    }
   ],
   "source": [
    "from linearmodels import PanelOLS\n",
    "import statsmodels.api as sm\n",
    "exog_vars = ['grit1']\n",
    "exog = sm.add_constant(df_11_self[exog_vars])\n",
    "mod = PanelOLS(df_11_self.pgstib, exog)\n",
    "Pe_os = mod.fit()\n",
    "print(Pe_os)"
   ]
  },
  {
   "cell_type": "markdown",
   "metadata": {},
   "source": [
    "2nd iteration: grit1 & age"
   ]
  },
  {
   "cell_type": "code",
   "execution_count": 112,
   "metadata": {},
   "outputs": [
    {
     "name": "stdout",
     "output_type": "stream",
     "text": [
      "                          PanelOLS Estimation Summary                           \n",
      "================================================================================\n",
      "Dep. Variable:                 pgstib   R-squared:                        0.0000\n",
      "Estimator:                   PanelOLS   R-squared (Between):              0.0000\n",
      "No. Observations:                  82   R-squared (Within):               0.0000\n",
      "Date:                Tue, Jul 27 2021   R-squared (Overall):              0.0000\n",
      "Time:                        12:14:51   Log-likelihood                    2734.3\n",
      "Cov. Estimator:            Unadjusted                                           \n",
      "                                        F-statistic:                     -39.500\n",
      "Entities:                          82   P-value                           1.0000\n",
      "Avg Obs:                       1.0000   Distribution:                    F(2,79)\n",
      "Min Obs:                       1.0000                                           \n",
      "Max Obs:                       1.0000   F-statistic (robust):             0.8401\n",
      "                                        P-value                           0.4355\n",
      "Time periods:                       2   Distribution:                    F(2,79)\n",
      "Avg Obs:                       41.000                                           \n",
      "Min Obs:                       27.000                                           \n",
      "Max Obs:                       55.000                                           \n",
      "                                                                                \n",
      "                             Parameter Estimates                              \n",
      "==============================================================================\n",
      "            Parameter  Std. Err.     T-stat    P-value    Lower CI    Upper CI\n",
      "------------------------------------------------------------------------------\n",
      "const          1.0000  5.356e-16  1.867e+15     0.0000      1.0000      1.0000\n",
      "grit1      -1.002e-17  9.618e-17    -0.1042     0.9173  -2.015e-16   1.814e-16\n",
      "age        -1.153e-17  8.897e-18    -1.2957     0.1989  -2.924e-17   6.182e-18\n",
      "==============================================================================\n",
      "\n",
      "\n"
     ]
    }
   ],
   "source": [
    "from linearmodels import PanelOLS\n",
    "import statsmodels.api as sm\n",
    "exog_vars = ['grit1','age']\n",
    "exog = sm.add_constant(df_11_self[exog_vars])\n",
    "mod = PanelOLS(df_11_self.pgstib, exog)\n",
    "Pe_os = mod.fit()\n",
    "print(Pe_os)"
   ]
  },
  {
   "cell_type": "markdown",
   "metadata": {},
   "source": [
    "3rd iteration: grit1 & sex"
   ]
  },
  {
   "cell_type": "code",
   "execution_count": 113,
   "metadata": {},
   "outputs": [
    {
     "name": "stdout",
     "output_type": "stream",
     "text": [
      "                          PanelOLS Estimation Summary                           \n",
      "================================================================================\n",
      "Dep. Variable:                 pgstib   R-squared:                        0.0000\n",
      "Estimator:                   PanelOLS   R-squared (Between):              0.0000\n",
      "No. Observations:                  82   R-squared (Within):               0.0000\n",
      "Date:                Tue, Jul 27 2021   R-squared (Overall):              0.0000\n",
      "Time:                        12:14:51   Log-likelihood                    2779.1\n",
      "Cov. Estimator:            Unadjusted                                           \n",
      "                                        F-statistic:                     -39.500\n",
      "Entities:                          82   P-value                           1.0000\n",
      "Avg Obs:                       1.0000   Distribution:                    F(2,79)\n",
      "Min Obs:                       1.0000                                           \n",
      "Max Obs:                       1.0000   F-statistic (robust):             6.3994\n",
      "                                        P-value                           0.0027\n",
      "Time periods:                       2   Distribution:                    F(2,79)\n",
      "Avg Obs:                       41.000                                           \n",
      "Min Obs:                       27.000                                           \n",
      "Max Obs:                       55.000                                           \n",
      "                                                                                \n",
      "                             Parameter Estimates                              \n",
      "==============================================================================\n",
      "            Parameter  Std. Err.     T-stat    P-value    Lower CI    Upper CI\n",
      "------------------------------------------------------------------------------\n",
      "const          1.0000  2.056e-16  4.863e+15     0.0000      1.0000      1.0000\n",
      "grit1           9e-17  5.562e-17     1.6183     0.1096   -2.07e-17   2.007e-16\n",
      "sex         3.261e-16  1.085e-16     3.0054     0.0036   1.101e-16   5.421e-16\n",
      "==============================================================================\n",
      "\n",
      "\n"
     ]
    }
   ],
   "source": [
    "from linearmodels import PanelOLS\n",
    "import statsmodels.api as sm\n",
    "exog_vars = ['grit1','sex']\n",
    "exog = sm.add_constant(df_11_self[exog_vars])\n",
    "mod = PanelOLS(df_11_self.pgstib, exog)\n",
    "Pe_os = mod.fit()\n",
    "print(Pe_os)"
   ]
  },
  {
   "cell_type": "markdown",
   "metadata": {},
   "source": [
    "4th iteration: grit1 & neuroticism "
   ]
  },
  {
   "cell_type": "code",
   "execution_count": 114,
   "metadata": {},
   "outputs": [
    {
     "name": "stdout",
     "output_type": "stream",
     "text": [
      "                          PanelOLS Estimation Summary                           \n",
      "================================================================================\n",
      "Dep. Variable:                 pgstib   R-squared:                        0.0000\n",
      "Estimator:                   PanelOLS   R-squared (Between):              0.0000\n",
      "No. Observations:                  82   R-squared (Within):               0.0000\n",
      "Date:                Tue, Jul 27 2021   R-squared (Overall):              0.0000\n",
      "Time:                        12:14:51   Log-likelihood                    2767.1\n",
      "Cov. Estimator:            Unadjusted                                           \n",
      "                                        F-statistic:                     -39.500\n",
      "Entities:                          82   P-value                           1.0000\n",
      "Avg Obs:                       1.0000   Distribution:                    F(2,79)\n",
      "Min Obs:                       1.0000                                           \n",
      "Max Obs:                       1.0000   F-statistic (robust):             11.912\n",
      "                                        P-value                           0.0000\n",
      "Time periods:                       2   Distribution:                    F(2,79)\n",
      "Avg Obs:                       41.000                                           \n",
      "Min Obs:                       27.000                                           \n",
      "Max Obs:                       55.000                                           \n",
      "                                                                                \n",
      "                             Parameter Estimates                              \n",
      "==============================================================================\n",
      "            Parameter  Std. Err.     T-stat    P-value    Lower CI    Upper CI\n",
      "------------------------------------------------------------------------------\n",
      "const          1.0000  2.129e-16  4.696e+15     0.0000      1.0000      1.0000\n",
      "grit1       1.422e-16  6.898e-17     2.0610     0.0426   4.865e-18   2.795e-16\n",
      "neuro       1.714e-16   5.13e-17     3.3410     0.0013   6.928e-17   2.735e-16\n",
      "==============================================================================\n",
      "\n",
      "\n"
     ]
    }
   ],
   "source": [
    "from linearmodels import PanelOLS\n",
    "import statsmodels.api as sm\n",
    "exog_vars = ['grit1','neuro']\n",
    "exog = sm.add_constant(df_11_self[exog_vars])\n",
    "mod = PanelOLS(df_11_self.pgstib, exog)\n",
    "Pe_os = mod.fit()\n",
    "print(Pe_os)"
   ]
  },
  {
   "cell_type": "markdown",
   "metadata": {},
   "source": [
    "5th iteration: grit1 & agreeablness"
   ]
  },
  {
   "cell_type": "code",
   "execution_count": 115,
   "metadata": {},
   "outputs": [
    {
     "name": "stdout",
     "output_type": "stream",
     "text": [
      "                          PanelOLS Estimation Summary                           \n",
      "================================================================================\n",
      "Dep. Variable:                 pgstib   R-squared:                        0.0000\n",
      "Estimator:                   PanelOLS   R-squared (Between):              0.0000\n",
      "No. Observations:                  82   R-squared (Within):               0.0000\n",
      "Date:                Tue, Jul 27 2021   R-squared (Overall):              0.0000\n",
      "Time:                        12:14:52   Log-likelihood                    2788.9\n",
      "Cov. Estimator:            Unadjusted                                           \n",
      "                                        F-statistic:                     -39.500\n",
      "Entities:                          82   P-value                           1.0000\n",
      "Avg Obs:                       1.0000   Distribution:                    F(2,79)\n",
      "Min Obs:                       1.0000                                           \n",
      "Max Obs:                       1.0000   F-statistic (robust):             35.347\n",
      "                                        P-value                           0.0000\n",
      "Time periods:                       2   Distribution:                    F(2,79)\n",
      "Avg Obs:                       41.000                                           \n",
      "Min Obs:                       27.000                                           \n",
      "Max Obs:                       55.000                                           \n",
      "                                                                                \n",
      "                             Parameter Estimates                              \n",
      "==============================================================================\n",
      "            Parameter  Std. Err.     T-stat    P-value    Lower CI    Upper CI\n",
      "------------------------------------------------------------------------------\n",
      "const          1.0000  3.305e-16  3.026e+15     0.0000      1.0000      1.0000\n",
      "grit1      -2.869e-16  5.082e-17    -5.6460     0.0000  -3.881e-16  -1.858e-16\n",
      "agree      -3.786e-16  5.065e-17    -7.4744     0.0000  -4.794e-16  -2.777e-16\n",
      "==============================================================================\n",
      "\n",
      "\n"
     ]
    }
   ],
   "source": [
    "from linearmodels import PanelOLS\n",
    "import statsmodels.api as sm\n",
    "exog_vars = ['grit1','agree']\n",
    "exog = sm.add_constant(df_11_self[exog_vars])\n",
    "mod = PanelOLS(df_11_self.pgstib, exog)\n",
    "Pe_os = mod.fit()\n",
    "print(Pe_os)"
   ]
  },
  {
   "cell_type": "markdown",
   "metadata": {},
   "source": [
    "6th iteration: grit1 & extraversion"
   ]
  },
  {
   "cell_type": "code",
   "execution_count": 116,
   "metadata": {},
   "outputs": [
    {
     "name": "stdout",
     "output_type": "stream",
     "text": [
      "                          PanelOLS Estimation Summary                           \n",
      "================================================================================\n",
      "Dep. Variable:                 pgstib   R-squared:                        0.0000\n",
      "Estimator:                   PanelOLS   R-squared (Between):              0.0000\n",
      "No. Observations:                  82   R-squared (Within):               0.0000\n",
      "Date:                Tue, Jul 27 2021   R-squared (Overall):              0.0000\n",
      "Time:                        12:14:52   Log-likelihood                    2756.2\n",
      "Cov. Estimator:            Unadjusted                                           \n",
      "                                        F-statistic:                     -39.500\n",
      "Entities:                          82   P-value                           1.0000\n",
      "Avg Obs:                       1.0000   Distribution:                    F(2,79)\n",
      "Min Obs:                       1.0000                                           \n",
      "Max Obs:                       1.0000   F-statistic (robust):             1.2066\n",
      "                                        P-value                           0.3047\n",
      "Time periods:                       2   Distribution:                    F(2,79)\n",
      "Avg Obs:                       41.000                                           \n",
      "Min Obs:                       27.000                                           \n",
      "Max Obs:                       55.000                                           \n",
      "                                                                                \n",
      "                             Parameter Estimates                              \n",
      "==============================================================================\n",
      "            Parameter  Std. Err.     T-stat    P-value    Lower CI    Upper CI\n",
      "------------------------------------------------------------------------------\n",
      "const          1.0000  4.192e-16  2.386e+15     0.0000      1.0000      1.0000\n",
      "grit1       -1.89e-17  7.347e-17    -0.2572     0.7977  -1.651e-16   1.273e-16\n",
      "extra      -1.085e-16  7.005e-17    -1.5482     0.1256  -2.479e-16   3.098e-17\n",
      "==============================================================================\n",
      "\n",
      "\n"
     ]
    }
   ],
   "source": [
    "from linearmodels import PanelOLS\n",
    "import statsmodels.api as sm\n",
    "exog_vars = ['grit1','extra']\n",
    "exog = sm.add_constant(df_11_self[exog_vars])\n",
    "mod = PanelOLS(df_11_self.pgstib, exog)\n",
    "Pe_os = mod.fit()\n",
    "print(Pe_os)"
   ]
  },
  {
   "cell_type": "markdown",
   "metadata": {},
   "source": [
    "7th iteration: grit1 & Openness"
   ]
  },
  {
   "cell_type": "code",
   "execution_count": 117,
   "metadata": {},
   "outputs": [
    {
     "name": "stdout",
     "output_type": "stream",
     "text": [
      "                          PanelOLS Estimation Summary                           \n",
      "================================================================================\n",
      "Dep. Variable:                 pgstib   R-squared:                        0.0000\n",
      "Estimator:                   PanelOLS   R-squared (Between):              0.0000\n",
      "No. Observations:                  82   R-squared (Within):               0.0000\n",
      "Date:                Tue, Jul 27 2021   R-squared (Overall):              0.0000\n",
      "Time:                        12:14:52   Log-likelihood                    2780.6\n",
      "Cov. Estimator:            Unadjusted                                           \n",
      "                                        F-statistic:                     -39.500\n",
      "Entities:                          82   P-value                           1.0000\n",
      "Avg Obs:                       1.0000   Distribution:                    F(2,79)\n",
      "Min Obs:                       1.0000                                           \n",
      "Max Obs:                       1.0000   F-statistic (robust):             1.4212\n",
      "                                        P-value                           0.2475\n",
      "Time periods:                       2   Distribution:                    F(2,79)\n",
      "Avg Obs:                       41.000                                           \n",
      "Min Obs:                       27.000                                           \n",
      "Max Obs:                       55.000                                           \n",
      "                                                                                \n",
      "                             Parameter Estimates                              \n",
      "==============================================================================\n",
      "            Parameter  Std. Err.     T-stat    P-value    Lower CI    Upper CI\n",
      "------------------------------------------------------------------------------\n",
      "const          1.0000  2.989e-16  3.346e+15     0.0000      1.0000      1.0000\n",
      "grit1       9.013e-17  5.503e-17     1.6379     0.1054   -1.94e-17   1.997e-16\n",
      "openn       3.001e-17  4.642e-17     0.6465     0.5198  -6.239e-17   1.224e-16\n",
      "==============================================================================\n",
      "\n",
      "\n"
     ]
    }
   ],
   "source": [
    "from linearmodels import PanelOLS\n",
    "import statsmodels.api as sm\n",
    "exog_vars = ['grit1','openn']\n",
    "exog = sm.add_constant(df_11_self[exog_vars])\n",
    "mod = PanelOLS(df_11_self.pgstib, exog)\n",
    "Pe_os = mod.fit()\n",
    "print(Pe_os)"
   ]
  },
  {
   "cell_type": "markdown",
   "metadata": {},
   "source": [
    "8th iteration: grit1 & consciousness "
   ]
  },
  {
   "cell_type": "code",
   "execution_count": 118,
   "metadata": {},
   "outputs": [
    {
     "name": "stdout",
     "output_type": "stream",
     "text": [
      "                          PanelOLS Estimation Summary                           \n",
      "================================================================================\n",
      "Dep. Variable:                 pgstib   R-squared:                        0.0000\n",
      "Estimator:                   PanelOLS   R-squared (Between):              0.0000\n",
      "No. Observations:                  82   R-squared (Within):               0.0000\n",
      "Date:                Tue, Jul 27 2021   R-squared (Overall):              0.0000\n",
      "Time:                        12:14:52   Log-likelihood                    2752.0\n",
      "Cov. Estimator:            Unadjusted                                           \n",
      "                                        F-statistic:                     -39.500\n",
      "Entities:                          82   P-value                           1.0000\n",
      "Avg Obs:                       1.0000   Distribution:                    F(2,79)\n",
      "Min Obs:                       1.0000                                           \n",
      "Max Obs:                       1.0000   F-statistic (robust):             1.5707\n",
      "                                        P-value                           0.2143\n",
      "Time periods:                       2   Distribution:                    F(2,79)\n",
      "Avg Obs:                       41.000                                           \n",
      "Min Obs:                       27.000                                           \n",
      "Max Obs:                       55.000                                           \n",
      "                                                                                \n",
      "                             Parameter Estimates                              \n",
      "==============================================================================\n",
      "            Parameter  Std. Err.     T-stat    P-value    Lower CI    Upper CI\n",
      "------------------------------------------------------------------------------\n",
      "const          1.0000  5.774e-16  1.732e+15     0.0000      1.0000      1.0000\n",
      "grit1        6.47e-17  8.209e-17     0.7882     0.4330  -9.869e-17   2.281e-16\n",
      "consc       1.418e-16  8.045e-17     1.7623     0.0819  -1.836e-17   3.019e-16\n",
      "==============================================================================\n",
      "\n",
      "\n"
     ]
    }
   ],
   "source": [
    "from linearmodels import PanelOLS\n",
    "import statsmodels.api as sm\n",
    "exog_vars = ['grit1','consc']\n",
    "exog = sm.add_constant(df_11_self[exog_vars])\n",
    "mod = PanelOLS(df_11_self.pgstib, exog)\n",
    "Pe_os = mod.fit()\n",
    "print(Pe_os)"
   ]
  },
  {
   "cell_type": "markdown",
   "metadata": {},
   "source": [
    "# Grit2 & Self-Employed"
   ]
  },
  {
   "cell_type": "markdown",
   "metadata": {},
   "source": [
    "10th iteration: grit2 "
   ]
  },
  {
   "cell_type": "code",
   "execution_count": 119,
   "metadata": {},
   "outputs": [
    {
     "name": "stdout",
     "output_type": "stream",
     "text": [
      "                          PanelOLS Estimation Summary                           \n",
      "================================================================================\n",
      "Dep. Variable:                 pgstib   R-squared:                        0.0000\n",
      "Estimator:                   PanelOLS   R-squared (Between):              0.0000\n",
      "No. Observations:                  82   R-squared (Within):               0.0000\n",
      "Date:                Tue, Jul 27 2021   R-squared (Overall):              0.0000\n",
      "Time:                        12:14:52   Log-likelihood                    2951.9\n",
      "Cov. Estimator:            Unadjusted                                           \n",
      "                                        F-statistic:                     -80.000\n",
      "Entities:                          82   P-value                           1.0000\n",
      "Avg Obs:                       1.0000   Distribution:                    F(1,80)\n",
      "Min Obs:                       1.0000                                           \n",
      "Max Obs:                       1.0000   F-statistic (robust):             34.479\n",
      "                                        P-value                           0.0000\n",
      "Time periods:                       2   Distribution:                    F(1,80)\n",
      "Avg Obs:                       41.000                                           \n",
      "Min Obs:                       27.000                                           \n",
      "Max Obs:                       55.000                                           \n",
      "                                                                                \n",
      "                             Parameter Estimates                              \n",
      "==============================================================================\n",
      "            Parameter  Std. Err.     T-stat    P-value    Lower CI    Upper CI\n",
      "------------------------------------------------------------------------------\n",
      "const          1.0000  3.399e-17  2.942e+16     0.0000      1.0000      1.0000\n",
      "grit2       5.062e-17  8.621e-18     5.8719     0.0000   3.347e-17   6.778e-17\n",
      "==============================================================================\n",
      "\n",
      "\n"
     ]
    }
   ],
   "source": [
    "from linearmodels import PanelOLS\n",
    "import statsmodels.api as sm\n",
    "exog_vars = ['grit2']\n",
    "exog = sm.add_constant(df_11_self[exog_vars])\n",
    "mod = PanelOLS(df_11_self.pgstib, exog)\n",
    "Pe_os = mod.fit()\n",
    "print(Pe_os)"
   ]
  },
  {
   "cell_type": "markdown",
   "metadata": {},
   "source": [
    "11th iteration: grit2 & sex"
   ]
  },
  {
   "cell_type": "code",
   "execution_count": 120,
   "metadata": {},
   "outputs": [
    {
     "name": "stdout",
     "output_type": "stream",
     "text": [
      "                          PanelOLS Estimation Summary                           \n",
      "================================================================================\n",
      "Dep. Variable:                 pgstib   R-squared:                        0.0000\n",
      "Estimator:                   PanelOLS   R-squared (Between):              0.0000\n",
      "No. Observations:                  82   R-squared (Within):               0.0000\n",
      "Date:                Tue, Jul 27 2021   R-squared (Overall):              0.0000\n",
      "Time:                        12:14:52   Log-likelihood                    2859.5\n",
      "Cov. Estimator:            Unadjusted                                           \n",
      "                                        F-statistic:                     -39.500\n",
      "Entities:                          82   P-value                           1.0000\n",
      "Avg Obs:                       1.0000   Distribution:                    F(2,79)\n",
      "Min Obs:                       1.0000                                           \n",
      "Max Obs:                       1.0000   F-statistic (robust):             5.8977\n",
      "                                        P-value                           0.0041\n",
      "Time periods:                       2   Distribution:                    F(2,79)\n",
      "Avg Obs:                       41.000                                           \n",
      "Min Obs:                       27.000                                           \n",
      "Max Obs:                       55.000                                           \n",
      "                                                                                \n",
      "                             Parameter Estimates                              \n",
      "==============================================================================\n",
      "            Parameter  Std. Err.     T-stat    P-value    Lower CI    Upper CI\n",
      "------------------------------------------------------------------------------\n",
      "const          1.0000  1.238e-16  8.081e+15     0.0000      1.0000      1.0000\n",
      "grit2        6.21e-17  2.688e-17     2.3105     0.0235   8.602e-18   1.156e-16\n",
      "sex         1.111e-16  4.065e-17     2.7321     0.0078   3.015e-17    1.92e-16\n",
      "==============================================================================\n",
      "\n",
      "\n"
     ]
    }
   ],
   "source": [
    "from linearmodels import PanelOLS\n",
    "import statsmodels.api as sm\n",
    "exog_vars = ['grit2','sex']\n",
    "exog = sm.add_constant(df_11_self[exog_vars])\n",
    "mod = PanelOLS(df_11_self.pgstib, exog)\n",
    "Pe_os = mod.fit()\n",
    "print(Pe_os)"
   ]
  },
  {
   "cell_type": "markdown",
   "metadata": {},
   "source": [
    "12th iteration: grit2 & age"
   ]
  },
  {
   "cell_type": "code",
   "execution_count": 121,
   "metadata": {},
   "outputs": [
    {
     "name": "stdout",
     "output_type": "stream",
     "text": [
      "                          PanelOLS Estimation Summary                           \n",
      "================================================================================\n",
      "Dep. Variable:                 pgstib   R-squared:                        0.0000\n",
      "Estimator:                   PanelOLS   R-squared (Between):              0.0000\n",
      "No. Observations:                  82   R-squared (Within):               0.0000\n",
      "Date:                Tue, Jul 27 2021   R-squared (Overall):              0.0000\n",
      "Time:                        12:14:52   Log-likelihood                    2718.9\n",
      "Cov. Estimator:            Unadjusted                                           \n",
      "                                        F-statistic:                     -39.500\n",
      "Entities:                          82   P-value                           1.0000\n",
      "Avg Obs:                       1.0000   Distribution:                    F(2,79)\n",
      "Min Obs:                       1.0000                                           \n",
      "Max Obs:                       1.0000   F-statistic (robust):             2.5147\n",
      "                                        P-value                           0.0873\n",
      "Time periods:                       2   Distribution:                    F(2,79)\n",
      "Avg Obs:                       41.000                                           \n",
      "Min Obs:                       27.000                                           \n",
      "Max Obs:                       55.000                                           \n",
      "                                                                                \n",
      "                             Parameter Estimates                              \n",
      "==============================================================================\n",
      "            Parameter  Std. Err.     T-stat    P-value    Lower CI    Upper CI\n",
      "------------------------------------------------------------------------------\n",
      "const          1.0000  7.761e-16  1.288e+15     0.0000      1.0000      1.0000\n",
      "grit2       4.569e-17  1.488e-16     0.3071     0.7596  -2.504e-16   3.418e-16\n",
      "age        -2.377e-17  1.067e-17    -2.2272     0.0288  -4.501e-17  -2.526e-18\n",
      "==============================================================================\n",
      "\n",
      "\n"
     ]
    }
   ],
   "source": [
    "from linearmodels import PanelOLS\n",
    "import statsmodels.api as sm\n",
    "exog_vars = ['grit2','age']\n",
    "exog = sm.add_constant(df_11_self[exog_vars])\n",
    "mod = PanelOLS(df_11_self.pgstib, exog)\n",
    "Pe_os = mod.fit()\n",
    "print(Pe_os)"
   ]
  },
  {
   "cell_type": "markdown",
   "metadata": {},
   "source": [
    "13th iteration: grit2 & neuroticism "
   ]
  },
  {
   "cell_type": "code",
   "execution_count": 122,
   "metadata": {},
   "outputs": [
    {
     "name": "stdout",
     "output_type": "stream",
     "text": [
      "                          PanelOLS Estimation Summary                           \n",
      "================================================================================\n",
      "Dep. Variable:                 pgstib   R-squared:                        0.0000\n",
      "Estimator:                   PanelOLS   R-squared (Between):              0.0000\n",
      "No. Observations:                  82   R-squared (Within):               0.0000\n",
      "Date:                Tue, Jul 27 2021   R-squared (Overall):              0.0000\n",
      "Time:                        12:14:52   Log-likelihood                    2906.2\n",
      "Cov. Estimator:            Unadjusted                                           \n",
      "                                        F-statistic:                     -39.500\n",
      "Entities:                          82   P-value                           1.0000\n",
      "Avg Obs:                       1.0000   Distribution:                    F(2,79)\n",
      "Min Obs:                       1.0000                                           \n",
      "Max Obs:                       1.0000   F-statistic (robust):             17.911\n",
      "                                        P-value                           0.0000\n",
      "Time periods:                       2   Distribution:                    F(2,79)\n",
      "Avg Obs:                       41.000                                           \n",
      "Min Obs:                       27.000                                           \n",
      "Max Obs:                       55.000                                           \n",
      "                                                                                \n",
      "                             Parameter Estimates                              \n",
      "==============================================================================\n",
      "            Parameter  Std. Err.     T-stat    P-value    Lower CI    Upper CI\n",
      "------------------------------------------------------------------------------\n",
      "const          1.0000  6.777e-17  1.476e+16     0.0000      1.0000      1.0000\n",
      "grit2       8.723e-17  1.515e-17     5.7580     0.0000   5.708e-17   1.174e-16\n",
      "neuro       1.551e-17  8.735e-18     1.7759     0.0796  -1.874e-18    3.29e-17\n",
      "==============================================================================\n",
      "\n",
      "\n"
     ]
    }
   ],
   "source": [
    "from linearmodels import PanelOLS\n",
    "import statsmodels.api as sm\n",
    "exog_vars = ['grit2','neuro']\n",
    "exog = sm.add_constant(df_11_self[exog_vars])\n",
    "mod = PanelOLS(df_11_self.pgstib, exog)\n",
    "Pe_os = mod.fit()\n",
    "print(Pe_os)"
   ]
  },
  {
   "cell_type": "markdown",
   "metadata": {},
   "source": [
    "14th iteration: grit2 & agreeableness"
   ]
  },
  {
   "cell_type": "code",
   "execution_count": 123,
   "metadata": {},
   "outputs": [
    {
     "name": "stdout",
     "output_type": "stream",
     "text": [
      "                          PanelOLS Estimation Summary                           \n",
      "================================================================================\n",
      "Dep. Variable:                 pgstib   R-squared:                        0.0000\n",
      "Estimator:                   PanelOLS   R-squared (Between):              0.0000\n",
      "No. Observations:                  82   R-squared (Within):               0.0000\n",
      "Date:                Tue, Jul 27 2021   R-squared (Overall):              0.0000\n",
      "Time:                        12:14:52   Log-likelihood                    2781.7\n",
      "Cov. Estimator:            Unadjusted                                           \n",
      "                                        F-statistic:                     -39.500\n",
      "Entities:                          82   P-value                           1.0000\n",
      "Avg Obs:                       1.0000   Distribution:                    F(2,79)\n",
      "Min Obs:                       1.0000                                           \n",
      "Max Obs:                       1.0000   F-statistic (robust):             35.082\n",
      "                                        P-value                           0.0000\n",
      "Time periods:                       2   Distribution:                    F(2,79)\n",
      "Avg Obs:                       41.000                                           \n",
      "Min Obs:                       27.000                                           \n",
      "Max Obs:                       55.000                                           \n",
      "                                                                                \n",
      "                             Parameter Estimates                              \n",
      "==============================================================================\n",
      "            Parameter  Std. Err.     T-stat    P-value    Lower CI    Upper CI\n",
      "------------------------------------------------------------------------------\n",
      "const          1.0000  3.702e-16  2.701e+15     0.0000      1.0000      1.0000\n",
      "grit2       4.669e-16  6.959e-17     6.7090     0.0000   3.284e-16   6.054e-16\n",
      "agree      -3.088e-16  5.378e-17    -5.7423     0.0000  -4.159e-16  -2.018e-16\n",
      "==============================================================================\n",
      "\n",
      "\n"
     ]
    }
   ],
   "source": [
    "from linearmodels import PanelOLS\n",
    "import statsmodels.api as sm\n",
    "exog_vars = ['grit2','agree']\n",
    "exog = sm.add_constant(df_11_self[exog_vars])\n",
    "mod = PanelOLS(df_11_self.pgstib, exog)\n",
    "Pe_os = mod.fit()\n",
    "print(Pe_os)"
   ]
  },
  {
   "cell_type": "markdown",
   "metadata": {},
   "source": [
    "15th iteration: grit2 & extraversion"
   ]
  },
  {
   "cell_type": "code",
   "execution_count": 124,
   "metadata": {},
   "outputs": [
    {
     "name": "stdout",
     "output_type": "stream",
     "text": [
      "                          PanelOLS Estimation Summary                           \n",
      "================================================================================\n",
      "Dep. Variable:                 pgstib   R-squared:                        0.0000\n",
      "Estimator:                   PanelOLS   R-squared (Between):              0.0000\n",
      "No. Observations:                  82   R-squared (Within):               0.0000\n",
      "Date:                Tue, Jul 27 2021   R-squared (Overall):              0.0000\n",
      "Time:                        12:14:52   Log-likelihood                    2856.7\n",
      "Cov. Estimator:            Unadjusted                                           \n",
      "                                        F-statistic:                     -39.500\n",
      "Entities:                          82   P-value                           1.0000\n",
      "Avg Obs:                       1.0000   Distribution:                    F(2,79)\n",
      "Min Obs:                       1.0000                                           \n",
      "Max Obs:                       1.0000   F-statistic (robust):             33.616\n",
      "                                        P-value                           0.0000\n",
      "Time periods:                       2   Distribution:                    F(2,79)\n",
      "Avg Obs:                       41.000                                           \n",
      "Min Obs:                       27.000                                           \n",
      "Max Obs:                       55.000                                           \n",
      "                                                                                \n",
      "                             Parameter Estimates                              \n",
      "==============================================================================\n",
      "            Parameter  Std. Err.     T-stat    P-value    Lower CI    Upper CI\n",
      "------------------------------------------------------------------------------\n",
      "const          1.0000  1.468e-16  6.812e+15     0.0000      1.0000      1.0000\n",
      "grit2       2.183e-16  2.771e-17     7.8769     0.0000   1.631e-16   2.734e-16\n",
      "extra      -5.188e-17  2.049e-17    -2.5325     0.0133  -9.266e-17   -1.11e-17\n",
      "==============================================================================\n",
      "\n",
      "\n"
     ]
    }
   ],
   "source": [
    "from linearmodels import PanelOLS\n",
    "import statsmodels.api as sm\n",
    "exog_vars = ['grit2','extra']\n",
    "exog = sm.add_constant(df_11_self[exog_vars])\n",
    "mod = PanelOLS(df_11_self.pgstib, exog)\n",
    "Pe_os = mod.fit()\n",
    "print(Pe_os)"
   ]
  },
  {
   "cell_type": "markdown",
   "metadata": {},
   "source": [
    "16th iteration: grit2 & openness"
   ]
  },
  {
   "cell_type": "code",
   "execution_count": 125,
   "metadata": {},
   "outputs": [
    {
     "name": "stdout",
     "output_type": "stream",
     "text": [
      "                          PanelOLS Estimation Summary                           \n",
      "================================================================================\n",
      "Dep. Variable:                 pgstib   R-squared:                        0.0000\n",
      "Estimator:                   PanelOLS   R-squared (Between):              0.0000\n",
      "No. Observations:                  82   R-squared (Within):               0.0000\n",
      "Date:                Tue, Jul 27 2021   R-squared (Overall):              0.0000\n",
      "Time:                        12:14:52   Log-likelihood                    2895.1\n",
      "Cov. Estimator:            Unadjusted                                           \n",
      "                                        F-statistic:                     -39.500\n",
      "Entities:                          82   P-value                           1.0000\n",
      "Avg Obs:                       1.0000   Distribution:                    F(2,79)\n",
      "Min Obs:                       1.0000                                           \n",
      "Max Obs:                       1.0000   F-statistic (robust):             35.686\n",
      "                                        P-value                           0.0000\n",
      "Time periods:                       2   Distribution:                    F(2,79)\n",
      "Avg Obs:                       41.000                                           \n",
      "Min Obs:                       27.000                                           \n",
      "Max Obs:                       55.000                                           \n",
      "                                                                                \n",
      "                             Parameter Estimates                              \n",
      "==============================================================================\n",
      "            Parameter  Std. Err.     T-stat    P-value    Lower CI    Upper CI\n",
      "------------------------------------------------------------------------------\n",
      "const          1.0000  8.563e-17  1.168e+16     0.0000      1.0000      1.0000\n",
      "grit2      -9.907e-17  1.741e-17    -5.6890     0.0000  -1.337e-16  -6.441e-17\n",
      "openn       7.641e-17  1.139e-17     6.7073     0.0000   5.373e-17   9.908e-17\n",
      "==============================================================================\n",
      "\n",
      "\n"
     ]
    }
   ],
   "source": [
    "from linearmodels import PanelOLS\n",
    "import statsmodels.api as sm\n",
    "exog_vars = ['grit2','openn']\n",
    "exog = sm.add_constant(df_11_self[exog_vars])\n",
    "mod = PanelOLS(df_11_self.pgstib, exog)\n",
    "Pe_os = mod.fit()\n",
    "print(Pe_os)"
   ]
  },
  {
   "cell_type": "markdown",
   "metadata": {},
   "source": [
    "17th iteration: grit2 & conscioustness"
   ]
  },
  {
   "cell_type": "code",
   "execution_count": 126,
   "metadata": {},
   "outputs": [
    {
     "name": "stdout",
     "output_type": "stream",
     "text": [
      "                          PanelOLS Estimation Summary                           \n",
      "================================================================================\n",
      "Dep. Variable:                 pgstib   R-squared:                        0.0000\n",
      "Estimator:                   PanelOLS   R-squared (Between):              0.0000\n",
      "No. Observations:                  82   R-squared (Within):               0.0000\n",
      "Date:                Tue, Jul 27 2021   R-squared (Overall):              0.0000\n",
      "Time:                        12:14:52   Log-likelihood                    2648.0\n",
      "Cov. Estimator:            Unadjusted                                           \n",
      "                                        F-statistic:                     -39.500\n",
      "Entities:                          82   P-value                           1.0000\n",
      "Avg Obs:                       1.0000   Distribution:                    F(2,79)\n",
      "Min Obs:                       1.0000                                           \n",
      "Max Obs:                       1.0000   F-statistic (robust):             39.485\n",
      "                                        P-value                           0.0000\n",
      "Time periods:                       2   Distribution:                    F(2,79)\n",
      "Avg Obs:                       41.000                                           \n",
      "Min Obs:                       27.000                                           \n",
      "Max Obs:                       55.000                                           \n",
      "                                                                                \n",
      "                             Parameter Estimates                              \n",
      "==============================================================================\n",
      "            Parameter  Std. Err.     T-stat    P-value    Lower CI    Upper CI\n",
      "------------------------------------------------------------------------------\n",
      "const          1.0000  1.673e-15  5.979e+14     0.0000      1.0000      1.0000\n",
      "grit2      -3.499e-15  4.235e-16    -8.2618     0.0000  -4.342e-15  -2.656e-15\n",
      "consc       2.346e-15  3.218e-16     7.2902     0.0000   1.706e-15   2.987e-15\n",
      "==============================================================================\n",
      "\n",
      "\n"
     ]
    }
   ],
   "source": [
    "from linearmodels import PanelOLS\n",
    "import statsmodels.api as sm\n",
    "exog_vars = ['grit2','consc']\n",
    "exog = sm.add_constant(df_11_self[exog_vars])\n",
    "mod = PanelOLS(df_11_self.pgstib, exog)\n",
    "Pe_os = mod.fit()\n",
    "print(Pe_os)"
   ]
  },
  {
   "cell_type": "code",
   "execution_count": 127,
   "metadata": {},
   "outputs": [],
   "source": [
    "# Multiple linear Regression on Grit and Entrepreneurship(Employed) "
   ]
  },
  {
   "cell_type": "code",
   "execution_count": 128,
   "metadata": {},
   "outputs": [
    {
     "data": {
      "text/html": [
       "<div>\n",
       "<style scoped>\n",
       "    .dataframe tbody tr th:only-of-type {\n",
       "        vertical-align: middle;\n",
       "    }\n",
       "\n",
       "    .dataframe tbody tr th {\n",
       "        vertical-align: top;\n",
       "    }\n",
       "\n",
       "    .dataframe thead th {\n",
       "        text-align: right;\n",
       "    }\n",
       "</style>\n",
       "<table border=\"1\" class=\"dataframe\">\n",
       "  <thead>\n",
       "    <tr style=\"text-align: right;\">\n",
       "      <th></th>\n",
       "      <th>pid</th>\n",
       "      <th>syear</th>\n",
       "      <th>sex</th>\n",
       "      <th>pgstib</th>\n",
       "      <th>grit1</th>\n",
       "      <th>grit2</th>\n",
       "      <th>openn</th>\n",
       "      <th>consc</th>\n",
       "      <th>extra</th>\n",
       "      <th>neuro</th>\n",
       "      <th>agree</th>\n",
       "      <th>age</th>\n",
       "    </tr>\n",
       "  </thead>\n",
       "  <tbody>\n",
       "    <tr>\n",
       "      <th>51</th>\n",
       "      <td>2001401</td>\n",
       "      <td>2015</td>\n",
       "      <td>1</td>\n",
       "      <td>2</td>\n",
       "      <td>1.00</td>\n",
       "      <td>4.75</td>\n",
       "      <td>5.000000</td>\n",
       "      <td>7.000000</td>\n",
       "      <td>4.000000</td>\n",
       "      <td>3.666667</td>\n",
       "      <td>5.666667</td>\n",
       "      <td>60</td>\n",
       "    </tr>\n",
       "    <tr>\n",
       "      <th>73</th>\n",
       "      <td>2001402</td>\n",
       "      <td>2015</td>\n",
       "      <td>2</td>\n",
       "      <td>2</td>\n",
       "      <td>1.25</td>\n",
       "      <td>4.75</td>\n",
       "      <td>6.000000</td>\n",
       "      <td>6.000000</td>\n",
       "      <td>4.666667</td>\n",
       "      <td>2.000000</td>\n",
       "      <td>6.000000</td>\n",
       "      <td>58</td>\n",
       "    </tr>\n",
       "    <tr>\n",
       "      <th>130</th>\n",
       "      <td>2006701</td>\n",
       "      <td>2015</td>\n",
       "      <td>2</td>\n",
       "      <td>2</td>\n",
       "      <td>2.00</td>\n",
       "      <td>4.00</td>\n",
       "      <td>4.333333</td>\n",
       "      <td>5.000000</td>\n",
       "      <td>4.666667</td>\n",
       "      <td>4.333333</td>\n",
       "      <td>5.000000</td>\n",
       "      <td>53</td>\n",
       "    </tr>\n",
       "    <tr>\n",
       "      <th>151</th>\n",
       "      <td>2006703</td>\n",
       "      <td>2015</td>\n",
       "      <td>1</td>\n",
       "      <td>2</td>\n",
       "      <td>2.25</td>\n",
       "      <td>4.25</td>\n",
       "      <td>4.666667</td>\n",
       "      <td>5.666667</td>\n",
       "      <td>3.000000</td>\n",
       "      <td>2.666667</td>\n",
       "      <td>4.666667</td>\n",
       "      <td>51</td>\n",
       "    </tr>\n",
       "    <tr>\n",
       "      <th>336</th>\n",
       "      <td>2011202</td>\n",
       "      <td>2015</td>\n",
       "      <td>1</td>\n",
       "      <td>2</td>\n",
       "      <td>1.25</td>\n",
       "      <td>4.75</td>\n",
       "      <td>4.333333</td>\n",
       "      <td>7.000000</td>\n",
       "      <td>5.666667</td>\n",
       "      <td>3.333333</td>\n",
       "      <td>5.000000</td>\n",
       "      <td>39</td>\n",
       "    </tr>\n",
       "  </tbody>\n",
       "</table>\n",
       "</div>"
      ],
      "text/plain": [
       "         pid  syear  sex  pgstib  grit1  grit2     openn     consc     extra  \\\n",
       "51   2001401   2015    1       2   1.00   4.75  5.000000  7.000000  4.000000   \n",
       "73   2001402   2015    2       2   1.25   4.75  6.000000  6.000000  4.666667   \n",
       "130  2006701   2015    2       2   2.00   4.00  4.333333  5.000000  4.666667   \n",
       "151  2006703   2015    1       2   2.25   4.25  4.666667  5.666667  3.000000   \n",
       "336  2011202   2015    1       2   1.25   4.75  4.333333  7.000000  5.666667   \n",
       "\n",
       "        neuro     agree  age  \n",
       "51   3.666667  5.666667   60  \n",
       "73   2.000000  6.000000   58  \n",
       "130  4.333333  5.000000   53  \n",
       "151  2.666667  4.666667   51  \n",
       "336  3.333333  5.000000   39  "
      ]
     },
     "execution_count": 128,
     "metadata": {},
     "output_type": "execute_result"
    }
   ],
   "source": [
    "df_11_employed.head()"
   ]
  },
  {
   "cell_type": "code",
   "execution_count": 129,
   "metadata": {},
   "outputs": [],
   "source": [
    "syear = pd.Categorical(df_11_employed.syear) \n",
    "df_11_employed = df_11_employed.set_index(['pid', 'syear']) \n",
    "df_11_employed['syear'] = syear "
   ]
  },
  {
   "cell_type": "code",
   "execution_count": 130,
   "metadata": {},
   "outputs": [
    {
     "data": {
      "text/plain": [
       "(639, 11)"
      ]
     },
     "execution_count": 130,
     "metadata": {},
     "output_type": "execute_result"
    }
   ],
   "source": [
    "df_11_employed.shape"
   ]
  },
  {
   "cell_type": "code",
   "execution_count": 131,
   "metadata": {},
   "outputs": [
    {
     "data": {
      "text/plain": [
       "sex       0\n",
       "pgstib    0\n",
       "grit1     0\n",
       "grit2     0\n",
       "openn     0\n",
       "consc     0\n",
       "extra     0\n",
       "neuro     0\n",
       "agree     0\n",
       "age       0\n",
       "syear     0\n",
       "dtype: int64"
      ]
     },
     "execution_count": 131,
     "metadata": {},
     "output_type": "execute_result"
    }
   ],
   "source": [
    "df_11_employed.isna().sum()"
   ]
  },
  {
   "cell_type": "code",
   "execution_count": 132,
   "metadata": {},
   "outputs": [
    {
     "name": "stdout",
     "output_type": "stream",
     "text": [
      "<class 'pandas.core.frame.DataFrame'>\n",
      "MultiIndex: 462 entries, (2001401, 2015) to (9823501, 2015)\n",
      "Data columns (total 11 columns):\n",
      " #   Column  Non-Null Count  Dtype   \n",
      "---  ------  --------------  -----   \n",
      " 0   sex     462 non-null    int64   \n",
      " 1   pgstib  462 non-null    int64   \n",
      " 2   grit1   462 non-null    float64 \n",
      " 3   grit2   462 non-null    float64 \n",
      " 4   openn   462 non-null    float64 \n",
      " 5   consc   462 non-null    float64 \n",
      " 6   extra   462 non-null    float64 \n",
      " 7   neuro   462 non-null    float64 \n",
      " 8   agree   462 non-null    float64 \n",
      " 9   age     462 non-null    int64   \n",
      " 10  syear   462 non-null    category\n",
      "dtypes: category(1), float64(7), int64(3)\n",
      "memory usage: 43.1 KB\n"
     ]
    }
   ],
   "source": [
    "df_2015_employed = df_11_employed[df_11_employed[\"syear\"]==2015]\n",
    "df_2015_employed.info()"
   ]
  },
  {
   "cell_type": "code",
   "execution_count": 133,
   "metadata": {},
   "outputs": [
    {
     "name": "stdout",
     "output_type": "stream",
     "text": [
      "<class 'pandas.core.frame.DataFrame'>\n",
      "MultiIndex: 177 entries, (41271101, 2017) to (41730001, 2017)\n",
      "Data columns (total 11 columns):\n",
      " #   Column  Non-Null Count  Dtype   \n",
      "---  ------  --------------  -----   \n",
      " 0   sex     177 non-null    int64   \n",
      " 1   pgstib  177 non-null    int64   \n",
      " 2   grit1   177 non-null    float64 \n",
      " 3   grit2   177 non-null    float64 \n",
      " 4   openn   177 non-null    float64 \n",
      " 5   consc   177 non-null    float64 \n",
      " 6   extra   177 non-null    float64 \n",
      " 7   neuro   177 non-null    float64 \n",
      " 8   agree   177 non-null    float64 \n",
      " 9   age     177 non-null    int64   \n",
      " 10  syear   177 non-null    category\n",
      "dtypes: category(1), float64(7), int64(3)\n",
      "memory usage: 19.7 KB\n"
     ]
    }
   ],
   "source": [
    "df_2017_employed = df_11_employed[df_11_employed[\"syear\"]==2017]\n",
    "df_2017_employed.info()"
   ]
  },
  {
   "cell_type": "markdown",
   "metadata": {},
   "source": [
    "# Grit1&Employed"
   ]
  },
  {
   "cell_type": "markdown",
   "metadata": {},
   "source": [
    "18th iteration: grit1 "
   ]
  },
  {
   "cell_type": "code",
   "execution_count": 134,
   "metadata": {},
   "outputs": [
    {
     "name": "stdout",
     "output_type": "stream",
     "text": [
      "                          PanelOLS Estimation Summary                           \n",
      "================================================================================\n",
      "Dep. Variable:                 pgstib   R-squared:                        0.0000\n",
      "Estimator:                   PanelOLS   R-squared (Between):              0.0000\n",
      "No. Observations:                 639   R-squared (Within):               0.0000\n",
      "Date:                Tue, Jul 27 2021   R-squared (Overall):              0.0000\n",
      "Time:                        12:14:52   Log-likelihood                 2.103e+04\n",
      "Cov. Estimator:            Unadjusted                                           \n",
      "                                        F-statistic:                     -637.00\n",
      "Entities:                         639   P-value                           1.0000\n",
      "Avg Obs:                       1.0000   Distribution:                   F(1,637)\n",
      "Min Obs:                       1.0000                                           \n",
      "Max Obs:                       1.0000   F-statistic (robust):             13.797\n",
      "                                        P-value                           0.0002\n",
      "Time periods:                       2   Distribution:                   F(1,637)\n",
      "Avg Obs:                       319.50                                           \n",
      "Min Obs:                       177.00                                           \n",
      "Max Obs:                       462.00                                           \n",
      "                                                                                \n",
      "                             Parameter Estimates                              \n",
      "==============================================================================\n",
      "            Parameter  Std. Err.     T-stat    P-value    Lower CI    Upper CI\n",
      "------------------------------------------------------------------------------\n",
      "const          2.0000  1.591e-16  1.257e+16     0.0000      2.0000      2.0000\n",
      "grit1       2.154e-16  5.799e-17     3.7144     0.0002   1.015e-16   3.293e-16\n",
      "==============================================================================\n",
      "\n",
      "\n"
     ]
    }
   ],
   "source": [
    "from linearmodels import PanelOLS\n",
    "import statsmodels.api as sm\n",
    "exog_vars = ['grit1']\n",
    "exog = sm.add_constant(df_11_employed[exog_vars])\n",
    "mod = PanelOLS(df_11_employed.pgstib, exog)\n",
    "Pe_os = mod.fit()\n",
    "print(Pe_os)"
   ]
  },
  {
   "cell_type": "markdown",
   "metadata": {},
   "source": [
    "19th iteration: grit1 & age"
   ]
  },
  {
   "cell_type": "code",
   "execution_count": 135,
   "metadata": {},
   "outputs": [
    {
     "name": "stdout",
     "output_type": "stream",
     "text": [
      "                          PanelOLS Estimation Summary                           \n",
      "================================================================================\n",
      "Dep. Variable:                 pgstib   R-squared:                        0.0000\n",
      "Estimator:                   PanelOLS   R-squared (Between):              0.0000\n",
      "No. Observations:                 639   R-squared (Within):               0.0000\n",
      "Date:                Tue, Jul 27 2021   R-squared (Overall):              0.0000\n",
      "Time:                        12:14:52   Log-likelihood                 2.097e+04\n",
      "Cov. Estimator:            Unadjusted                                           \n",
      "                                        F-statistic:                     -318.00\n",
      "Entities:                         639   P-value                           1.0000\n",
      "Avg Obs:                       1.0000   Distribution:                   F(2,636)\n",
      "Min Obs:                       1.0000                                           \n",
      "Max Obs:                       1.0000   F-statistic (robust):             5.2299\n",
      "                                        P-value                           0.0056\n",
      "Time periods:                       2   Distribution:                   F(2,636)\n",
      "Avg Obs:                       319.50                                           \n",
      "Min Obs:                       177.00                                           \n",
      "Max Obs:                       462.00                                           \n",
      "                                                                                \n",
      "                             Parameter Estimates                              \n",
      "==============================================================================\n",
      "            Parameter  Std. Err.     T-stat    P-value    Lower CI    Upper CI\n",
      "------------------------------------------------------------------------------\n",
      "const          2.0000  2.913e-16  6.866e+15     0.0000      2.0000      2.0000\n",
      "grit1        1.62e-16  6.318e-17     2.5648     0.0106   3.798e-17   2.861e-16\n",
      "age        -9.282e-18  4.988e-18    -1.8609     0.0632  -1.908e-17   5.128e-19\n",
      "==============================================================================\n",
      "\n",
      "\n"
     ]
    }
   ],
   "source": [
    "from linearmodels import PanelOLS\n",
    "import statsmodels.api as sm\n",
    "exog_vars = ['grit1','age']\n",
    "exog = sm.add_constant(df_11_employed[exog_vars])\n",
    "mod = PanelOLS(df_11_employed.pgstib, exog)\n",
    "Pe_os = mod.fit()\n",
    "print(Pe_os)"
   ]
  },
  {
   "cell_type": "markdown",
   "metadata": {},
   "source": [
    "20th iteration: grit1 & sex"
   ]
  },
  {
   "cell_type": "code",
   "execution_count": 136,
   "metadata": {},
   "outputs": [
    {
     "name": "stdout",
     "output_type": "stream",
     "text": [
      "                          PanelOLS Estimation Summary                           \n",
      "================================================================================\n",
      "Dep. Variable:                 pgstib   R-squared:                        0.0000\n",
      "Estimator:                   PanelOLS   R-squared (Between):              0.0000\n",
      "No. Observations:                 639   R-squared (Within):               0.0000\n",
      "Date:                Tue, Jul 27 2021   R-squared (Overall):              0.0000\n",
      "Time:                        12:14:52   Log-likelihood                 2.148e+04\n",
      "Cov. Estimator:            Unadjusted                                           \n",
      "                                        F-statistic:                     -318.00\n",
      "Entities:                         639   P-value                           1.0000\n",
      "Avg Obs:                       1.0000   Distribution:                   F(2,636)\n",
      "Min Obs:                       1.0000                                           \n",
      "Max Obs:                       1.0000   F-statistic (robust):             129.20\n",
      "                                        P-value                           0.0000\n",
      "Time periods:                       2   Distribution:                   F(2,636)\n",
      "Avg Obs:                       319.50                                           \n",
      "Min Obs:                       177.00                                           \n",
      "Max Obs:                       462.00                                           \n",
      "                                                                                \n",
      "                             Parameter Estimates                              \n",
      "==============================================================================\n",
      "            Parameter  Std. Err.     T-stat    P-value    Lower CI    Upper CI\n",
      "------------------------------------------------------------------------------\n",
      "const          2.0000  1.116e-16  1.792e+16     0.0000      2.0000      2.0000\n",
      "grit1       7.252e-17  2.835e-17     2.5579     0.0108   1.684e-17   1.282e-16\n",
      "sex         7.756e-16  4.851e-17     15.988     0.0000   6.803e-16   8.708e-16\n",
      "==============================================================================\n",
      "\n",
      "\n"
     ]
    }
   ],
   "source": [
    "from linearmodels import PanelOLS\n",
    "import statsmodels.api as sm\n",
    "exog_vars = ['grit1','sex']\n",
    "exog = sm.add_constant(df_11_employed[exog_vars])\n",
    "mod = PanelOLS(df_11_employed.pgstib, exog)\n",
    "Pe_os = mod.fit()\n",
    "print(Pe_os)"
   ]
  },
  {
   "cell_type": "markdown",
   "metadata": {},
   "source": [
    "21th iteration: grit1 & neuroticism"
   ]
  },
  {
   "cell_type": "code",
   "execution_count": 137,
   "metadata": {},
   "outputs": [
    {
     "name": "stdout",
     "output_type": "stream",
     "text": [
      "                          PanelOLS Estimation Summary                           \n",
      "================================================================================\n",
      "Dep. Variable:                 pgstib   R-squared:                        0.0000\n",
      "Estimator:                   PanelOLS   R-squared (Between):              0.0000\n",
      "No. Observations:                 639   R-squared (Within):               0.0000\n",
      "Date:                Tue, Jul 27 2021   R-squared (Overall):              0.0000\n",
      "Time:                        12:14:53   Log-likelihood                 2.184e+04\n",
      "Cov. Estimator:            Unadjusted                                           \n",
      "                                        F-statistic:                     -318.00\n",
      "Entities:                         639   P-value                           1.0000\n",
      "Avg Obs:                       1.0000   Distribution:                   F(2,636)\n",
      "Min Obs:                       1.0000                                           \n",
      "Max Obs:                       1.0000   F-statistic (robust):             121.12\n",
      "                                        P-value                           0.0000\n",
      "Time periods:                       2   Distribution:                   F(2,636)\n",
      "Avg Obs:                       319.50                                           \n",
      "Min Obs:                       177.00                                           \n",
      "Max Obs:                       462.00                                           \n",
      "                                                                                \n",
      "                             Parameter Estimates                              \n",
      "==============================================================================\n",
      "            Parameter  Std. Err.     T-stat    P-value    Lower CI    Upper CI\n",
      "------------------------------------------------------------------------------\n",
      "const          2.0000  5.663e-17  3.532e+16     0.0000      2.0000      2.0000\n",
      "grit1        1.96e-16  1.645e-17     11.916     0.0000   1.637e-16   2.283e-16\n",
      "neuro       8.757e-17  1.121e-17     7.8152     0.0000   6.557e-17   1.096e-16\n",
      "==============================================================================\n",
      "\n",
      "\n"
     ]
    }
   ],
   "source": [
    "from linearmodels import PanelOLS\n",
    "import statsmodels.api as sm\n",
    "exog_vars = ['grit1','neuro']\n",
    "exog = sm.add_constant(df_11_employed[exog_vars])\n",
    "mod = PanelOLS(df_11_employed.pgstib, exog)\n",
    "Pe_os = mod.fit()\n",
    "print(Pe_os)"
   ]
  },
  {
   "cell_type": "markdown",
   "metadata": {},
   "source": [
    "22th iteration: grit1 & agreeablness"
   ]
  },
  {
   "cell_type": "code",
   "execution_count": 138,
   "metadata": {},
   "outputs": [
    {
     "name": "stdout",
     "output_type": "stream",
     "text": [
      "                          PanelOLS Estimation Summary                           \n",
      "================================================================================\n",
      "Dep. Variable:                 pgstib   R-squared:                        0.0000\n",
      "Estimator:                   PanelOLS   R-squared (Between):              0.0000\n",
      "No. Observations:                 639   R-squared (Within):               0.0000\n",
      "Date:                Tue, Jul 27 2021   R-squared (Overall):              0.0000\n",
      "Time:                        12:14:53   Log-likelihood                 2.014e+04\n",
      "Cov. Estimator:            Unadjusted                                           \n",
      "                                        F-statistic:                     -318.00\n",
      "Entities:                         639   P-value                           1.0000\n",
      "Avg Obs:                       1.0000   Distribution:                   F(2,636)\n",
      "Min Obs:                       1.0000                                           \n",
      "Max Obs:                       1.0000   F-statistic (robust):             314.15\n",
      "                                        P-value                           0.0000\n",
      "Time periods:                       2   Distribution:                   F(2,636)\n",
      "Avg Obs:                       319.50                                           \n",
      "Min Obs:                       177.00                                           \n",
      "Max Obs:                       462.00                                           \n",
      "                                                                                \n",
      "                             Parameter Estimates                              \n",
      "==============================================================================\n",
      "            Parameter  Std. Err.     T-stat    P-value    Lower CI    Upper CI\n",
      "------------------------------------------------------------------------------\n",
      "const          2.0000  1.315e-15  1.521e+15     0.0000      2.0000      2.0000\n",
      "grit1       5.009e-15  2.344e-16     21.366     0.0000   4.549e-15   5.469e-15\n",
      "agree      -2.355e-15   2.07e-16    -11.379     0.0000  -2.762e-15  -1.949e-15\n",
      "==============================================================================\n",
      "\n",
      "\n"
     ]
    }
   ],
   "source": [
    "from linearmodels import PanelOLS\n",
    "import statsmodels.api as sm\n",
    "exog_vars = ['grit1','agree']\n",
    "exog = sm.add_constant(df_11_employed[exog_vars])\n",
    "mod = PanelOLS(df_11_employed.pgstib, exog)\n",
    "Pe_os = mod.fit()\n",
    "print(Pe_os)"
   ]
  },
  {
   "cell_type": "markdown",
   "metadata": {},
   "source": [
    "23rd iteration: grit1 & extraversion"
   ]
  },
  {
   "cell_type": "code",
   "execution_count": 139,
   "metadata": {},
   "outputs": [
    {
     "name": "stdout",
     "output_type": "stream",
     "text": [
      "                          PanelOLS Estimation Summary                           \n",
      "================================================================================\n",
      "Dep. Variable:                 pgstib   R-squared:                        0.0000\n",
      "Estimator:                   PanelOLS   R-squared (Between):              0.0000\n",
      "No. Observations:                 639   R-squared (Within):               0.0000\n",
      "Date:                Tue, Jul 27 2021   R-squared (Overall):              0.0000\n",
      "Time:                        12:14:53   Log-likelihood                 2.001e+04\n",
      "Cov. Estimator:            Unadjusted                                           \n",
      "                                        F-statistic:                     -318.00\n",
      "Entities:                         639   P-value                           1.0000\n",
      "Avg Obs:                       1.0000   Distribution:                   F(2,636)\n",
      "Min Obs:                       1.0000                                           \n",
      "Max Obs:                       1.0000   F-statistic (robust):             276.24\n",
      "                                        P-value                           0.0000\n",
      "Time periods:                       2   Distribution:                   F(2,636)\n",
      "Avg Obs:                       319.50                                           \n",
      "Min Obs:                       177.00                                           \n",
      "Max Obs:                       462.00                                           \n",
      "                                                                                \n",
      "                             Parameter Estimates                              \n",
      "==============================================================================\n",
      "            Parameter  Std. Err.     T-stat    P-value    Lower CI    Upper CI\n",
      "------------------------------------------------------------------------------\n",
      "const          2.0000   1.33e-15  1.503e+15     0.0000      2.0000      2.0000\n",
      "grit1       5.338e-15  2.835e-16     18.832     0.0000   4.782e-15   5.895e-15\n",
      "extra      -2.685e-15  2.081e-16    -12.906     0.0000  -3.094e-15  -2.277e-15\n",
      "==============================================================================\n",
      "\n",
      "\n"
     ]
    }
   ],
   "source": [
    "from linearmodels import PanelOLS\n",
    "import statsmodels.api as sm\n",
    "exog_vars = ['grit1','extra']\n",
    "exog = sm.add_constant(df_11_employed[exog_vars])\n",
    "mod = PanelOLS(df_11_employed.pgstib, exog)\n",
    "Pe_os = mod.fit()\n",
    "print(Pe_os)"
   ]
  },
  {
   "cell_type": "markdown",
   "metadata": {},
   "source": [
    "24th iteration: grit1 & conscioustness"
   ]
  },
  {
   "cell_type": "code",
   "execution_count": 140,
   "metadata": {},
   "outputs": [
    {
     "name": "stdout",
     "output_type": "stream",
     "text": [
      "                          PanelOLS Estimation Summary                           \n",
      "================================================================================\n",
      "Dep. Variable:                 pgstib   R-squared:                        0.0000\n",
      "Estimator:                   PanelOLS   R-squared (Between):              0.0000\n",
      "No. Observations:                 639   R-squared (Within):               0.0000\n",
      "Date:                Tue, Jul 27 2021   R-squared (Overall):              0.0000\n",
      "Time:                        12:14:53   Log-likelihood                 2.164e+04\n",
      "Cov. Estimator:            Unadjusted                                           \n",
      "                                        F-statistic:                     -318.00\n",
      "Entities:                         639   P-value                           1.0000\n",
      "Avg Obs:                       1.0000   Distribution:                   F(2,636)\n",
      "Min Obs:                       1.0000                                           \n",
      "Max Obs:                       1.0000   F-statistic (robust):             73.380\n",
      "                                        P-value                           0.0000\n",
      "Time periods:                       2   Distribution:                   F(2,636)\n",
      "Avg Obs:                       319.50                                           \n",
      "Min Obs:                       177.00                                           \n",
      "Max Obs:                       462.00                                           \n",
      "                                                                                \n",
      "                             Parameter Estimates                              \n",
      "==============================================================================\n",
      "            Parameter  Std. Err.     T-stat    P-value    Lower CI    Upper CI\n",
      "------------------------------------------------------------------------------\n",
      "const          2.0000  1.591e-16  1.257e+16     0.0000      2.0000      2.0000\n",
      "grit1       2.809e-16  2.323e-17     12.089     0.0000   2.352e-16   3.265e-16\n",
      "consc       6.691e-17   2.19e-17     3.0555     0.0023   2.391e-17   1.099e-16\n",
      "==============================================================================\n",
      "\n",
      "\n"
     ]
    }
   ],
   "source": [
    "from linearmodels import PanelOLS\n",
    "import statsmodels.api as sm\n",
    "exog_vars = ['grit1','consc']\n",
    "exog = sm.add_constant(df_11_employed[exog_vars])\n",
    "mod = PanelOLS(df_11_employed.pgstib, exog)\n",
    "Pe_os = mod.fit()\n",
    "print(Pe_os)"
   ]
  },
  {
   "cell_type": "markdown",
   "metadata": {},
   "source": [
    "25th iteration: grit1 & openness"
   ]
  },
  {
   "cell_type": "code",
   "execution_count": 141,
   "metadata": {},
   "outputs": [
    {
     "name": "stdout",
     "output_type": "stream",
     "text": [
      "                          PanelOLS Estimation Summary                           \n",
      "================================================================================\n",
      "Dep. Variable:                 pgstib   R-squared:                        0.0000\n",
      "Estimator:                   PanelOLS   R-squared (Between):              0.0000\n",
      "No. Observations:                 639   R-squared (Within):               0.0000\n",
      "Date:                Tue, Jul 27 2021   R-squared (Overall):              0.0000\n",
      "Time:                        12:14:53   Log-likelihood                 1.942e+04\n",
      "Cov. Estimator:            Unadjusted                                           \n",
      "                                        F-statistic:                     -318.00\n",
      "Entities:                         639   P-value                           1.0000\n",
      "Avg Obs:                       1.0000   Distribution:                   F(2,636)\n",
      "Min Obs:                       1.0000                                           \n",
      "Max Obs:                       1.0000   F-statistic (robust):             318.38\n",
      "                                        P-value                           0.0000\n",
      "Time periods:                       2   Distribution:                   F(2,636)\n",
      "Avg Obs:                       319.50                                           \n",
      "Min Obs:                       177.00                                           \n",
      "Max Obs:                       462.00                                           \n",
      "                                                                                \n",
      "                             Parameter Estimates                              \n",
      "==============================================================================\n",
      "            Parameter  Std. Err.     T-stat    P-value    Lower CI    Upper CI\n",
      "------------------------------------------------------------------------------\n",
      "const          2.0000  3.177e-15  6.295e+14     0.0000      2.0000      2.0000\n",
      "grit1       1.443e-14  7.155e-16     20.172     0.0000   1.303e-14   1.584e-14\n",
      "openn      -7.672e-15  5.178e-16    -14.816     0.0000  -8.689e-15  -6.655e-15\n",
      "==============================================================================\n",
      "\n",
      "\n"
     ]
    }
   ],
   "source": [
    "from linearmodels import PanelOLS\n",
    "import statsmodels.api as sm\n",
    "exog_vars = ['grit1','openn']\n",
    "exog = sm.add_constant(df_11_employed[exog_vars])\n",
    "mod = PanelOLS(df_11_employed.pgstib, exog)\n",
    "Pe_os = mod.fit()\n",
    "print(Pe_os)"
   ]
  },
  {
   "cell_type": "markdown",
   "metadata": {},
   "source": [
    "26th iteration: grit2 "
   ]
  },
  {
   "cell_type": "code",
   "execution_count": 142,
   "metadata": {},
   "outputs": [
    {
     "name": "stdout",
     "output_type": "stream",
     "text": [
      "                          PanelOLS Estimation Summary                           \n",
      "================================================================================\n",
      "Dep. Variable:                 pgstib   R-squared:                        0.0000\n",
      "Estimator:                   PanelOLS   R-squared (Between):              0.0000\n",
      "No. Observations:                 639   R-squared (Within):               0.0000\n",
      "Date:                Tue, Jul 27 2021   R-squared (Overall):              0.0000\n",
      "Time:                        12:14:53   Log-likelihood                 2.087e+04\n",
      "Cov. Estimator:            Unadjusted                                           \n",
      "                                        F-statistic:                     -637.00\n",
      "Entities:                         639   P-value                           1.0000\n",
      "Avg Obs:                       1.0000   Distribution:                   F(1,637)\n",
      "Min Obs:                       1.0000                                           \n",
      "Max Obs:                       1.0000   F-statistic (robust):             6.9002\n",
      "                                        P-value                           0.0088\n",
      "Time periods:                       2   Distribution:                   F(1,637)\n",
      "Avg Obs:                       319.50                                           \n",
      "Min Obs:                       177.00                                           \n",
      "Max Obs:                       462.00                                           \n",
      "                                                                                \n",
      "                             Parameter Estimates                              \n",
      "==============================================================================\n",
      "            Parameter  Std. Err.     T-stat    P-value    Lower CI    Upper CI\n",
      "------------------------------------------------------------------------------\n",
      "const          2.0000  4.326e-16  4.624e+15     0.0000      2.0000      2.0000\n",
      "grit2      -2.775e-16  1.056e-16    -2.6268     0.0088  -4.849e-16  -7.005e-17\n",
      "==============================================================================\n",
      "\n",
      "\n"
     ]
    }
   ],
   "source": [
    "from linearmodels import PanelOLS\n",
    "import statsmodels.api as sm\n",
    "exog_vars = ['grit2']\n",
    "exog = sm.add_constant(df_11_employed[exog_vars])\n",
    "mod = PanelOLS(df_11_employed.pgstib, exog)\n",
    "Pe_os = mod.fit()\n",
    "print(Pe_os)"
   ]
  },
  {
   "cell_type": "markdown",
   "metadata": {},
   "source": [
    "26th iteration: grit2 & age"
   ]
  },
  {
   "cell_type": "code",
   "execution_count": 143,
   "metadata": {},
   "outputs": [
    {
     "name": "stdout",
     "output_type": "stream",
     "text": [
      "                          PanelOLS Estimation Summary                           \n",
      "================================================================================\n",
      "Dep. Variable:                 pgstib   R-squared:                        0.0000\n",
      "Estimator:                   PanelOLS   R-squared (Between):              0.0000\n",
      "No. Observations:                 639   R-squared (Within):               0.0000\n",
      "Date:                Tue, Jul 27 2021   R-squared (Overall):              0.0000\n",
      "Time:                        12:14:53   Log-likelihood                 1.976e+04\n",
      "Cov. Estimator:            Unadjusted                                           \n",
      "                                        F-statistic:                     -318.00\n",
      "Entities:                         639   P-value                           1.0000\n",
      "Avg Obs:                       1.0000   Distribution:                   F(2,636)\n",
      "Min Obs:                       1.0000                                           \n",
      "Max Obs:                       1.0000   F-statistic (robust):             8.8376\n",
      "                                        P-value                           0.0002\n",
      "Time periods:                       2   Distribution:                   F(2,636)\n",
      "Avg Obs:                       319.50                                           \n",
      "Min Obs:                       177.00                                           \n",
      "Max Obs:                       462.00                                           \n",
      "                                                                                \n",
      "                             Parameter Estimates                              \n",
      "==============================================================================\n",
      "            Parameter  Std. Err.     T-stat    P-value    Lower CI    Upper CI\n",
      "------------------------------------------------------------------------------\n",
      "const          2.0000   2.87e-15  6.969e+14     0.0000      2.0000      2.0000\n",
      "grit2      -2.455e-16  6.022e-16    -0.4077     0.6837  -1.428e-15    9.37e-16\n",
      "age        -1.386e-16  3.318e-17    -4.1766     0.0000  -2.037e-16  -7.342e-17\n",
      "==============================================================================\n",
      "\n",
      "\n"
     ]
    }
   ],
   "source": [
    "from linearmodels import PanelOLS\n",
    "import statsmodels.api as sm\n",
    "exog_vars = ['grit2','age']\n",
    "exog = sm.add_constant(df_11_employed[exog_vars])\n",
    "mod = PanelOLS(df_11_employed.pgstib, exog)\n",
    "Pe_os = mod.fit()\n",
    "print(Pe_os)"
   ]
  },
  {
   "cell_type": "markdown",
   "metadata": {},
   "source": [
    "27th iteration: grit2 & sex"
   ]
  },
  {
   "cell_type": "code",
   "execution_count": 144,
   "metadata": {},
   "outputs": [
    {
     "name": "stdout",
     "output_type": "stream",
     "text": [
      "                          PanelOLS Estimation Summary                           \n",
      "================================================================================\n",
      "Dep. Variable:                 pgstib   R-squared:                        0.0000\n",
      "Estimator:                   PanelOLS   R-squared (Between):              0.0000\n",
      "No. Observations:                 639   R-squared (Within):               0.0000\n",
      "Date:                Tue, Jul 27 2021   R-squared (Overall):              0.0000\n",
      "Time:                        12:14:53   Log-likelihood                 2.073e+04\n",
      "Cov. Estimator:            Unadjusted                                           \n",
      "                                        F-statistic:                     -318.00\n",
      "Entities:                         639   P-value                           1.0000\n",
      "Avg Obs:                       1.0000   Distribution:                   F(2,636)\n",
      "Min Obs:                       1.0000                                           \n",
      "Max Obs:                       1.0000   F-statistic (robust):             6.9091\n",
      "                                        P-value                           0.0011\n",
      "Time periods:                       2   Distribution:                   F(2,636)\n",
      "Avg Obs:                       319.50                                           \n",
      "Min Obs:                       177.00                                           \n",
      "Max Obs:                       462.00                                           \n",
      "                                                                                \n",
      "                             Parameter Estimates                              \n",
      "==============================================================================\n",
      "            Parameter  Std. Err.     T-stat    P-value    Lower CI    Upper CI\n",
      "------------------------------------------------------------------------------\n",
      "const          2.0000  5.745e-16  3.481e+15     0.0000      2.0000      2.0000\n",
      "grit2      -4.542e-16  1.324e-16    -3.4299     0.0006  -7.142e-16  -1.941e-16\n",
      "sex         2.773e-16  1.581e-16     1.7538     0.0799  -3.319e-17   5.878e-16\n",
      "==============================================================================\n",
      "\n",
      "\n"
     ]
    }
   ],
   "source": [
    "from linearmodels import PanelOLS\n",
    "import statsmodels.api as sm\n",
    "exog_vars = ['grit2','sex']\n",
    "exog = sm.add_constant(df_11_employed[exog_vars])\n",
    "mod = PanelOLS(df_11_employed.pgstib, exog)\n",
    "Pe_os = mod.fit()\n",
    "print(Pe_os)"
   ]
  },
  {
   "cell_type": "markdown",
   "metadata": {},
   "source": [
    "28th iteration: grit2 & agreeableness"
   ]
  },
  {
   "cell_type": "code",
   "execution_count": 145,
   "metadata": {},
   "outputs": [
    {
     "name": "stdout",
     "output_type": "stream",
     "text": [
      "                          PanelOLS Estimation Summary                           \n",
      "================================================================================\n",
      "Dep. Variable:                 pgstib   R-squared:                        0.0000\n",
      "Estimator:                   PanelOLS   R-squared (Between):              0.0000\n",
      "No. Observations:                 639   R-squared (Within):               0.0000\n",
      "Date:                Tue, Jul 27 2021   R-squared (Overall):              0.0000\n",
      "Time:                        12:14:53   Log-likelihood                 2.173e+04\n",
      "Cov. Estimator:            Unadjusted                                           \n",
      "                                        F-statistic:                     -318.00\n",
      "Entities:                         639   P-value                           1.0000\n",
      "Avg Obs:                       1.0000   Distribution:                   F(2,636)\n",
      "Min Obs:                       1.0000                                           \n",
      "Max Obs:                       1.0000   F-statistic (robust):             5.2077\n",
      "                                        P-value                           0.0057\n",
      "Time periods:                       2   Distribution:                   F(2,636)\n",
      "Avg Obs:                       319.50                                           \n",
      "Min Obs:                       177.00                                           \n",
      "Max Obs:                       462.00                                           \n",
      "                                                                                \n",
      "                             Parameter Estimates                              \n",
      "==============================================================================\n",
      "            Parameter  Std. Err.     T-stat    P-value    Lower CI    Upper CI\n",
      "------------------------------------------------------------------------------\n",
      "const          2.0000  1.333e-16    1.5e+16     0.0000      2.0000      2.0000\n",
      "grit2      -2.446e-18  2.784e-17    -0.0879     0.9300  -5.712e-17   5.222e-17\n",
      "agree       5.478e-17  1.715e-17     3.1936     0.0015    2.11e-17   8.847e-17\n",
      "==============================================================================\n",
      "\n",
      "\n"
     ]
    }
   ],
   "source": [
    "from linearmodels import PanelOLS\n",
    "import statsmodels.api as sm\n",
    "exog_vars = ['grit2','agree']\n",
    "exog = sm.add_constant(df_11_employed[exog_vars])\n",
    "mod = PanelOLS(df_11_employed.pgstib, exog)\n",
    "Pe_os = mod.fit()\n",
    "print(Pe_os)"
   ]
  },
  {
   "cell_type": "markdown",
   "metadata": {},
   "source": [
    "29th iteration: grit2 & extraversion"
   ]
  },
  {
   "cell_type": "code",
   "execution_count": 146,
   "metadata": {},
   "outputs": [
    {
     "name": "stdout",
     "output_type": "stream",
     "text": [
      "                          PanelOLS Estimation Summary                           \n",
      "================================================================================\n",
      "Dep. Variable:                 pgstib   R-squared:                        0.0000\n",
      "Estimator:                   PanelOLS   R-squared (Between):              0.0000\n",
      "No. Observations:                 639   R-squared (Within):               0.0000\n",
      "Date:                Tue, Jul 27 2021   R-squared (Overall):              0.0000\n",
      "Time:                        12:14:53   Log-likelihood                 2.176e+04\n",
      "Cov. Estimator:            Unadjusted                                           \n",
      "                                        F-statistic:                     -318.00\n",
      "Entities:                         639   P-value                           1.0000\n",
      "Avg Obs:                       1.0000   Distribution:                   F(2,636)\n",
      "Min Obs:                       1.0000                                           \n",
      "Max Obs:                       1.0000   F-statistic (robust):             114.89\n",
      "                                        P-value                           0.0000\n",
      "Time periods:                       2   Distribution:                   F(2,636)\n",
      "Avg Obs:                       319.50                                           \n",
      "Min Obs:                       177.00                                           \n",
      "Max Obs:                       462.00                                           \n",
      "                                                                                \n",
      "                             Parameter Estimates                              \n",
      "==============================================================================\n",
      "            Parameter  Std. Err.     T-stat    P-value    Lower CI    Upper CI\n",
      "------------------------------------------------------------------------------\n",
      "const          2.0000  1.212e-16   1.65e+16     0.0000      2.0000      2.0000\n",
      "grit2      -4.709e-17  2.675e-17    -1.7605     0.0788  -9.963e-17   5.437e-18\n",
      "extra       2.077e-16   1.37e-17     15.157     0.0000   1.808e-16   2.346e-16\n",
      "==============================================================================\n",
      "\n",
      "\n"
     ]
    }
   ],
   "source": [
    "from linearmodels import PanelOLS\n",
    "import statsmodels.api as sm\n",
    "exog_vars = ['grit2','extra']\n",
    "exog = sm.add_constant(df_11_employed[exog_vars])\n",
    "mod = PanelOLS(df_11_employed.pgstib, exog)\n",
    "Pe_os = mod.fit()\n",
    "print(Pe_os)"
   ]
  },
  {
   "cell_type": "markdown",
   "metadata": {},
   "source": [
    "30th iteration: grit2 & consciousnesses "
   ]
  },
  {
   "cell_type": "code",
   "execution_count": 147,
   "metadata": {},
   "outputs": [
    {
     "name": "stdout",
     "output_type": "stream",
     "text": [
      "                          PanelOLS Estimation Summary                           \n",
      "================================================================================\n",
      "Dep. Variable:                 pgstib   R-squared:                        0.0000\n",
      "Estimator:                   PanelOLS   R-squared (Between):              0.0000\n",
      "No. Observations:                 639   R-squared (Within):               0.0000\n",
      "Date:                Tue, Jul 27 2021   R-squared (Overall):              0.0000\n",
      "Time:                        12:14:53   Log-likelihood                 2.072e+04\n",
      "Cov. Estimator:            Unadjusted                                           \n",
      "                                        F-statistic:                     -318.00\n",
      "Entities:                         639   P-value                           1.0000\n",
      "Avg Obs:                       1.0000   Distribution:                   F(2,636)\n",
      "Min Obs:                       1.0000                                           \n",
      "Max Obs:                       1.0000   F-statistic (robust):             1.1371\n",
      "                                        P-value                           0.3214\n",
      "Time periods:                       2   Distribution:                   F(2,636)\n",
      "Avg Obs:                       319.50                                           \n",
      "Min Obs:                       177.00                                           \n",
      "Max Obs:                       462.00                                           \n",
      "                                                                                \n",
      "                             Parameter Estimates                              \n",
      "==============================================================================\n",
      "            Parameter  Std. Err.     T-stat    P-value    Lower CI    Upper CI\n",
      "------------------------------------------------------------------------------\n",
      "const          2.0000  5.998e-16  3.334e+15     0.0000      2.0000      2.0000\n",
      "grit2      -4.288e-17  1.674e-16    -0.2562     0.7978  -3.715e-16   2.857e-16\n",
      "consc      -1.145e-16  1.101e-16    -1.0398     0.2988  -3.306e-16   1.017e-16\n",
      "==============================================================================\n",
      "\n",
      "\n"
     ]
    }
   ],
   "source": [
    "from linearmodels import PanelOLS\n",
    "import statsmodels.api as sm\n",
    "exog_vars = ['grit2','consc']\n",
    "exog = sm.add_constant(df_11_employed[exog_vars])\n",
    "mod = PanelOLS(df_11_employed.pgstib, exog)\n",
    "Pe_os = mod.fit()\n",
    "print(Pe_os)"
   ]
  },
  {
   "cell_type": "markdown",
   "metadata": {},
   "source": [
    "31th iteration: grit2 & openness"
   ]
  },
  {
   "cell_type": "code",
   "execution_count": 148,
   "metadata": {},
   "outputs": [
    {
     "name": "stdout",
     "output_type": "stream",
     "text": [
      "                          PanelOLS Estimation Summary                           \n",
      "================================================================================\n",
      "Dep. Variable:                 pgstib   R-squared:                        0.0000\n",
      "Estimator:                   PanelOLS   R-squared (Between):              0.0000\n",
      "No. Observations:                 639   R-squared (Within):               0.0000\n",
      "Date:                Tue, Jul 27 2021   R-squared (Overall):              0.0000\n",
      "Time:                        12:14:53   Log-likelihood                 2.124e+04\n",
      "Cov. Estimator:            Unadjusted                                           \n",
      "                                        F-statistic:                     -318.00\n",
      "Entities:                         639   P-value                           1.0000\n",
      "Avg Obs:                       1.0000   Distribution:                   F(2,636)\n",
      "Min Obs:                       1.0000                                           \n",
      "Max Obs:                       1.0000   F-statistic (robust):             0.0036\n",
      "                                        P-value                           0.9964\n",
      "Time periods:                       2   Distribution:                   F(2,636)\n",
      "Avg Obs:                       319.50                                           \n",
      "Min Obs:                       177.00                                           \n",
      "Max Obs:                       462.00                                           \n",
      "                                                                                \n",
      "                             Parameter Estimates                              \n",
      "==============================================================================\n",
      "            Parameter  Std. Err.     T-stat    P-value    Lower CI    Upper CI\n",
      "------------------------------------------------------------------------------\n",
      "const          2.0000  2.727e-16  7.335e+15     0.0000      2.0000      2.0000\n",
      "grit2      -2.675e-18  5.978e-17    -0.0447     0.9643  -1.201e-16   1.147e-16\n",
      "openn       2.275e-18   3.02e-17     0.0754     0.9400  -5.702e-17   6.157e-17\n",
      "==============================================================================\n",
      "\n",
      "\n"
     ]
    }
   ],
   "source": [
    "from linearmodels import PanelOLS\n",
    "import statsmodels.api as sm\n",
    "exog_vars = ['grit2','openn']\n",
    "exog = sm.add_constant(df_11_employed[exog_vars])\n",
    "mod = PanelOLS(df_11_employed.pgstib, exog)\n",
    "Pe_os = mod.fit()\n",
    "print(Pe_os)"
   ]
  },
  {
   "cell_type": "markdown",
   "metadata": {},
   "source": [
    "32th iteration: grit2 & Neuroticism "
   ]
  },
  {
   "cell_type": "code",
   "execution_count": 149,
   "metadata": {},
   "outputs": [
    {
     "name": "stdout",
     "output_type": "stream",
     "text": [
      "                          PanelOLS Estimation Summary                           \n",
      "================================================================================\n",
      "Dep. Variable:                 pgstib   R-squared:                        0.0000\n",
      "Estimator:                   PanelOLS   R-squared (Between):              0.0000\n",
      "No. Observations:                 639   R-squared (Within):               0.0000\n",
      "Date:                Tue, Jul 27 2021   R-squared (Overall):              0.0000\n",
      "Time:                        12:14:53   Log-likelihood                 2.168e+04\n",
      "Cov. Estimator:            Unadjusted                                           \n",
      "                                        F-statistic:                     -318.00\n",
      "Entities:                         639   P-value                           1.0000\n",
      "Avg Obs:                       1.0000   Distribution:                   F(2,636)\n",
      "Min Obs:                       1.0000                                           \n",
      "Max Obs:                       1.0000   F-statistic (robust):             0.3944\n",
      "                                        P-value                           0.6743\n",
      "Time periods:                       2   Distribution:                   F(2,636)\n",
      "Avg Obs:                       319.50                                           \n",
      "Min Obs:                       177.00                                           \n",
      "Max Obs:                       462.00                                           \n",
      "                                                                                \n",
      "                             Parameter Estimates                              \n",
      "==============================================================================\n",
      "            Parameter  Std. Err.     T-stat    P-value    Lower CI    Upper CI\n",
      "------------------------------------------------------------------------------\n",
      "const          2.0000  1.401e-16  1.427e+16     0.0000      2.0000      2.0000\n",
      "grit2       1.027e-17      3e-17     0.3424     0.7321  -4.864e-17   6.919e-17\n",
      "neuro      -1.099e-17  1.426e-17    -0.7706     0.4412    -3.9e-17   1.702e-17\n",
      "==============================================================================\n",
      "\n",
      "\n"
     ]
    }
   ],
   "source": [
    "from linearmodels import PanelOLS\n",
    "import statsmodels.api as sm\n",
    "exog_vars = ['grit2','neuro']\n",
    "exog = sm.add_constant(df_11_employed[exog_vars])\n",
    "mod = PanelOLS(df_11_employed.pgstib, exog)\n",
    "Pe_os = mod.fit()\n",
    "print(Pe_os)"
   ]
  },
  {
   "cell_type": "code",
   "execution_count": null,
   "metadata": {},
   "outputs": [],
   "source": []
  }
 ],
 "metadata": {
  "kernelspec": {
   "display_name": "Python 3",
   "language": "python",
   "name": "python3"
  },
  "language_info": {
   "codemirror_mode": {
    "name": "ipython",
    "version": 3
   },
   "file_extension": ".py",
   "mimetype": "text/x-python",
   "name": "python",
   "nbconvert_exporter": "python",
   "pygments_lexer": "ipython3",
   "version": "3.8.3"
  }
 },
 "nbformat": 4,
 "nbformat_minor": 4
}
